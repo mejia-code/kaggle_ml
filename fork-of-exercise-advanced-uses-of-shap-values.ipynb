{
 "cells": [
  {
   "cell_type": "markdown",
   "id": "ec183e87",
   "metadata": {
    "papermill": {
     "duration": 0.007427,
     "end_time": "2022-10-17T00:20:53.763950",
     "exception": false,
     "start_time": "2022-10-17T00:20:53.756523",
     "status": "completed"
    },
    "tags": []
   },
   "source": [
    "**This notebook is an exercise in the [Machine Learning Explainability](https://www.kaggle.com/learn/machine-learning-explainability) course.  You can reference the tutorial at [this link](https://www.kaggle.com/dansbecker/advanced-uses-of-shap-values).**\n",
    "\n",
    "---\n"
   ]
  },
  {
   "cell_type": "markdown",
   "id": "726dd206",
   "metadata": {
    "papermill": {
     "duration": 0.005768,
     "end_time": "2022-10-17T00:20:53.776208",
     "exception": false,
     "start_time": "2022-10-17T00:20:53.770440",
     "status": "completed"
    },
    "tags": []
   },
   "source": [
    "## Set Up\n",
    "\n",
    "\n",
    "We have again provided code to do the basic loading, review and model-building. Run the cell below to set everything up:"
   ]
  },
  {
   "cell_type": "code",
   "execution_count": 1,
   "id": "46efc14a",
   "metadata": {
    "execution": {
     "iopub.execute_input": "2022-10-17T00:20:53.790930Z",
     "iopub.status.busy": "2022-10-17T00:20:53.790041Z",
     "iopub.status.idle": "2022-10-17T00:20:59.847200Z",
     "shell.execute_reply": "2022-10-17T00:20:59.845788Z"
    },
    "papermill": {
     "duration": 6.068936,
     "end_time": "2022-10-17T00:20:59.851091",
     "exception": false,
     "start_time": "2022-10-17T00:20:53.782155",
     "status": "completed"
    },
    "tags": []
   },
   "outputs": [],
   "source": [
    "import numpy as np\n",
    "import pandas as pd\n",
    "from sklearn.ensemble import RandomForestRegressor\n",
    "from sklearn.model_selection import train_test_split\n",
    "import shap\n",
    "\n",
    "import pandas as pd\n",
    "from sklearn.ensemble import RandomForestClassifier\n",
    "from sklearn.model_selection import train_test_split\n",
    "\n",
    "# open file train.csv and read data from input > hospital-readmission folder\n",
    "data = pd.read_csv('./input/hospital-readmissions/train.csv')\n",
    "\n",
    "y = data.readmitted\n",
    "base_features = ['number_inpatient', 'num_medications', 'number_diagnoses', 'num_lab_procedures', \n",
    "                 'num_procedures', 'time_in_hospital', 'number_outpatient', 'number_emergency', \n",
    "                 'gender_Female', 'payer_code_?', 'medical_specialty_?', 'diag_1_428', 'diag_1_414', \n",
    "                 'diabetesMed_Yes', 'A1Cresult_None']\n",
    "\n",
    "# Some versions of shap package error when mixing bools and numerics\n",
    "X = data[base_features].astype(float)\n",
    "\n",
    "train_X, val_X, train_y, val_y = train_test_split(X, y, random_state=1)\n",
    "\n",
    "# For speed, we will calculate shap values on smaller subset of the validation data\n",
    "small_val_X = val_X.iloc[:150]\n",
    "my_model = RandomForestClassifier(n_estimators=30, random_state=1).fit(train_X, train_y)"
   ]
  },
  {
   "cell_type": "code",
   "execution_count": 2,
   "id": "0e993134",
   "metadata": {
    "execution": {
     "iopub.execute_input": "2022-10-17T00:20:59.865984Z",
     "iopub.status.busy": "2022-10-17T00:20:59.865498Z",
     "iopub.status.idle": "2022-10-17T00:20:59.925238Z",
     "shell.execute_reply": "2022-10-17T00:20:59.923816Z"
    },
    "papermill": {
     "duration": 0.07035,
     "end_time": "2022-10-17T00:20:59.928038",
     "exception": false,
     "start_time": "2022-10-17T00:20:59.857688",
     "status": "completed"
    },
    "tags": []
   },
   "outputs": [
    {
     "data": {
      "text/html": [
       "<div>\n",
       "<style scoped>\n",
       "    .dataframe tbody tr th:only-of-type {\n",
       "        vertical-align: middle;\n",
       "    }\n",
       "\n",
       "    .dataframe tbody tr th {\n",
       "        vertical-align: top;\n",
       "    }\n",
       "\n",
       "    .dataframe thead th {\n",
       "        text-align: right;\n",
       "    }\n",
       "</style>\n",
       "<table border=\"1\" class=\"dataframe\">\n",
       "  <thead>\n",
       "    <tr style=\"text-align: right;\">\n",
       "      <th></th>\n",
       "      <th>time_in_hospital</th>\n",
       "      <th>num_lab_procedures</th>\n",
       "      <th>num_procedures</th>\n",
       "      <th>num_medications</th>\n",
       "      <th>number_outpatient</th>\n",
       "      <th>number_emergency</th>\n",
       "      <th>number_inpatient</th>\n",
       "      <th>number_diagnoses</th>\n",
       "      <th>readmitted</th>\n",
       "    </tr>\n",
       "  </thead>\n",
       "  <tbody>\n",
       "    <tr>\n",
       "      <th>count</th>\n",
       "      <td>25000.000000</td>\n",
       "      <td>25000.00000</td>\n",
       "      <td>25000.000000</td>\n",
       "      <td>25000.000000</td>\n",
       "      <td>25000.000000</td>\n",
       "      <td>25000.000000</td>\n",
       "      <td>25000.00000</td>\n",
       "      <td>25000.000000</td>\n",
       "      <td>25000.000000</td>\n",
       "    </tr>\n",
       "    <tr>\n",
       "      <th>mean</th>\n",
       "      <td>4.395640</td>\n",
       "      <td>42.96012</td>\n",
       "      <td>1.341080</td>\n",
       "      <td>15.988440</td>\n",
       "      <td>0.365920</td>\n",
       "      <td>0.203280</td>\n",
       "      <td>0.64300</td>\n",
       "      <td>7.420160</td>\n",
       "      <td>0.456400</td>\n",
       "    </tr>\n",
       "    <tr>\n",
       "      <th>std</th>\n",
       "      <td>2.991165</td>\n",
       "      <td>19.76881</td>\n",
       "      <td>1.705398</td>\n",
       "      <td>8.107743</td>\n",
       "      <td>1.224419</td>\n",
       "      <td>0.982973</td>\n",
       "      <td>1.26286</td>\n",
       "      <td>1.940932</td>\n",
       "      <td>0.498105</td>\n",
       "    </tr>\n",
       "    <tr>\n",
       "      <th>min</th>\n",
       "      <td>1.000000</td>\n",
       "      <td>1.00000</td>\n",
       "      <td>0.000000</td>\n",
       "      <td>1.000000</td>\n",
       "      <td>0.000000</td>\n",
       "      <td>0.000000</td>\n",
       "      <td>0.00000</td>\n",
       "      <td>1.000000</td>\n",
       "      <td>0.000000</td>\n",
       "    </tr>\n",
       "    <tr>\n",
       "      <th>25%</th>\n",
       "      <td>2.000000</td>\n",
       "      <td>31.00000</td>\n",
       "      <td>0.000000</td>\n",
       "      <td>10.000000</td>\n",
       "      <td>0.000000</td>\n",
       "      <td>0.000000</td>\n",
       "      <td>0.00000</td>\n",
       "      <td>6.000000</td>\n",
       "      <td>0.000000</td>\n",
       "    </tr>\n",
       "    <tr>\n",
       "      <th>50%</th>\n",
       "      <td>4.000000</td>\n",
       "      <td>44.00000</td>\n",
       "      <td>1.000000</td>\n",
       "      <td>15.000000</td>\n",
       "      <td>0.000000</td>\n",
       "      <td>0.000000</td>\n",
       "      <td>0.00000</td>\n",
       "      <td>8.000000</td>\n",
       "      <td>0.000000</td>\n",
       "    </tr>\n",
       "    <tr>\n",
       "      <th>75%</th>\n",
       "      <td>6.000000</td>\n",
       "      <td>57.00000</td>\n",
       "      <td>2.000000</td>\n",
       "      <td>20.000000</td>\n",
       "      <td>0.000000</td>\n",
       "      <td>0.000000</td>\n",
       "      <td>1.00000</td>\n",
       "      <td>9.000000</td>\n",
       "      <td>1.000000</td>\n",
       "    </tr>\n",
       "    <tr>\n",
       "      <th>max</th>\n",
       "      <td>14.000000</td>\n",
       "      <td>126.00000</td>\n",
       "      <td>6.000000</td>\n",
       "      <td>81.000000</td>\n",
       "      <td>36.000000</td>\n",
       "      <td>64.000000</td>\n",
       "      <td>21.00000</td>\n",
       "      <td>16.000000</td>\n",
       "      <td>1.000000</td>\n",
       "    </tr>\n",
       "  </tbody>\n",
       "</table>\n",
       "</div>"
      ],
      "text/plain": [
       "       time_in_hospital  num_lab_procedures  num_procedures  num_medications  \\\n",
       "count      25000.000000         25000.00000    25000.000000     25000.000000   \n",
       "mean           4.395640            42.96012        1.341080        15.988440   \n",
       "std            2.991165            19.76881        1.705398         8.107743   \n",
       "min            1.000000             1.00000        0.000000         1.000000   \n",
       "25%            2.000000            31.00000        0.000000        10.000000   \n",
       "50%            4.000000            44.00000        1.000000        15.000000   \n",
       "75%            6.000000            57.00000        2.000000        20.000000   \n",
       "max           14.000000           126.00000        6.000000        81.000000   \n",
       "\n",
       "       number_outpatient  number_emergency  number_inpatient  \\\n",
       "count       25000.000000      25000.000000       25000.00000   \n",
       "mean            0.365920          0.203280           0.64300   \n",
       "std             1.224419          0.982973           1.26286   \n",
       "min             0.000000          0.000000           0.00000   \n",
       "25%             0.000000          0.000000           0.00000   \n",
       "50%             0.000000          0.000000           0.00000   \n",
       "75%             0.000000          0.000000           1.00000   \n",
       "max            36.000000         64.000000          21.00000   \n",
       "\n",
       "       number_diagnoses    readmitted  \n",
       "count      25000.000000  25000.000000  \n",
       "mean           7.420160      0.456400  \n",
       "std            1.940932      0.498105  \n",
       "min            1.000000      0.000000  \n",
       "25%            6.000000      0.000000  \n",
       "50%            8.000000      0.000000  \n",
       "75%            9.000000      1.000000  \n",
       "max           16.000000      1.000000  "
      ]
     },
     "execution_count": 2,
     "metadata": {},
     "output_type": "execute_result"
    }
   ],
   "source": [
    "data.describe()"
   ]
  },
  {
   "cell_type": "markdown",
   "id": "92fcba4c",
   "metadata": {
    "papermill": {
     "duration": 0.006071,
     "end_time": "2022-10-17T00:20:59.940668",
     "exception": false,
     "start_time": "2022-10-17T00:20:59.934597",
     "status": "completed"
    },
    "tags": []
   },
   "source": [
    "The first few questions require examining the distribution of effects for each feature, rather than just an average effect for each feature.  Run the following cell for a summary plot of the shap_values for readmission. It will take about 20 seconds to run."
   ]
  },
  {
   "cell_type": "code",
   "execution_count": 3,
   "id": "409c9fb7",
   "metadata": {
    "execution": {
     "iopub.execute_input": "2022-10-17T00:20:59.956421Z",
     "iopub.status.busy": "2022-10-17T00:20:59.955938Z",
     "iopub.status.idle": "2022-10-17T00:21:26.498843Z",
     "shell.execute_reply": "2022-10-17T00:21:26.497823Z"
    },
    "papermill": {
     "duration": 26.554843,
     "end_time": "2022-10-17T00:21:26.502442",
     "exception": false,
     "start_time": "2022-10-17T00:20:59.947599",
     "status": "completed"
    },
    "tags": []
   },
   "outputs": [
    {
     "name": "stderr",
     "output_type": "stream",
     "text": [
      "No data for colormapping provided via 'c'. Parameters 'vmin', 'vmax' will be ignored\n"
     ]
    },
    {
     "data": {
      "image/png": "[encoded data removed]",
      "text/plain": [
       "<Figure size 800x750 with 2 Axes>"
      ]
     },
     "metadata": {},
     "output_type": "display_data"
    }
   ],
   "source": [
    "explainer = shap.TreeExplainer(my_model)\n",
    "shap_values = explainer.shap_values(small_val_X)\n",
    "\n",
    "shap.summary_plot(shap_values[1], small_val_X)"
   ]
  },
  {
   "cell_type": "markdown",
   "id": "58d03c39",
   "metadata": {
    "papermill": {
     "duration": 0.007052,
     "end_time": "2022-10-17T00:21:26.517433",
     "exception": false,
     "start_time": "2022-10-17T00:21:26.510381",
     "status": "completed"
    },
    "tags": []
   },
   "source": [
    "## Question 1\n",
    "\n",
    "Which of the following features has a bigger range of effects on predictions (i.e. larger difference between most positive and most negative effect)\n",
    "- `diag_1_428` or\n",
    "- `payer_code_?`"
   ]
  },
  {
   "cell_type": "code",
   "execution_count": null,
   "id": "a7526573",
   "metadata": {
    "execution": {
     "iopub.execute_input": "2022-10-17T00:21:26.534956Z",
     "iopub.status.busy": "2022-10-17T00:21:26.533813Z",
     "iopub.status.idle": "2022-10-17T00:21:26.543185Z",
     "shell.execute_reply": "2022-10-17T00:21:26.541928Z"
    },
    "papermill": {
     "duration": 0.020853,
     "end_time": "2022-10-17T00:21:26.545613",
     "exception": false,
     "start_time": "2022-10-17T00:21:26.524760",
     "status": "completed"
    },
    "tags": []
   },
   "outputs": [],
   "source": [
    "# set following variable to 'diag_1_428' or 'payer_code_?'\n",
    "feature_with_bigger_range_of_effects = ____\n",
    "\n",
    "# Check your answer\n",
    "q_1.check()"
   ]
  },
  {
   "cell_type": "markdown",
   "id": "62aae020",
   "metadata": {
    "papermill": {
     "duration": 0.007482,
     "end_time": "2022-10-17T00:21:26.561688",
     "exception": false,
     "start_time": "2022-10-17T00:21:26.554206",
     "status": "completed"
    },
    "tags": []
   },
   "source": [
    "Uncomment the line below to see the solution and explanation."
   ]
  },
  {
   "cell_type": "code",
   "execution_count": null,
   "id": "b0a0c730",
   "metadata": {
    "execution": {
     "iopub.execute_input": "2022-10-17T00:21:26.579732Z",
     "iopub.status.busy": "2022-10-17T00:21:26.579259Z",
     "iopub.status.idle": "2022-10-17T00:21:26.588636Z",
     "shell.execute_reply": "2022-10-17T00:21:26.587497Z"
    },
    "papermill": {
     "duration": 0.021489,
     "end_time": "2022-10-17T00:21:26.591136",
     "exception": false,
     "start_time": "2022-10-17T00:21:26.569647",
     "status": "completed"
    },
    "tags": []
   },
   "outputs": [],
   "source": [
    "q_1.solution()"
   ]
  },
  {
   "cell_type": "markdown",
   "id": "4650d186",
   "metadata": {
    "papermill": {
     "duration": 0.008787,
     "end_time": "2022-10-17T00:21:26.608119",
     "exception": false,
     "start_time": "2022-10-17T00:21:26.599332",
     "status": "completed"
    },
    "tags": []
   },
   "source": [
    "## Question 2\n",
    "\n",
    "Do you believe the range of effects sizes (distance between smallest effect and largest effect) is a good indication of which feature will have a higher permutation importance? Why or why not?  \n",
    "\n",
    "If the **range of effect sizes** measures something different from **permutation importance**: which is a better answer for the question \"Which of these two features does the model say is more important for us to understand when discussing readmission risks in the population?\"\n",
    "\n",
    "Run the following line after you've decided your answer."
   ]
  },
  {
   "cell_type": "code",
   "execution_count": null,
   "id": "f70c3d5b",
   "metadata": {
    "execution": {
     "iopub.execute_input": "2022-10-17T00:21:26.626783Z",
     "iopub.status.busy": "2022-10-17T00:21:26.625636Z",
     "iopub.status.idle": "2022-10-17T00:21:26.635730Z",
     "shell.execute_reply": "2022-10-17T00:21:26.634581Z"
    },
    "papermill": {
     "duration": 0.022087,
     "end_time": "2022-10-17T00:21:26.638100",
     "exception": false,
     "start_time": "2022-10-17T00:21:26.616013",
     "status": "completed"
    },
    "tags": []
   },
   "outputs": [],
   "source": [
    "# Check your answer (Run this code cell to receive credit!)\n",
    "q_2.solution()"
   ]
  },
  {
   "cell_type": "markdown",
   "id": "9560923f",
   "metadata": {
    "papermill": {
     "duration": 0.008085,
     "end_time": "2022-10-17T00:21:26.654658",
     "exception": false,
     "start_time": "2022-10-17T00:21:26.646573",
     "status": "completed"
    },
    "tags": []
   },
   "source": [
    "## Question 3\n",
    "\n",
    "Both `diag_1_428` and `payer_code_?` are binary variables, taking values of 0 or 1.\n",
    "\n",
    "From the graph, which do you think would typically have a bigger impact on predicted readmission risk:\n",
    "- Changing `diag_1_428` from 0 to 1\n",
    "- Changing `payer_code_?` from 0 to 1\n",
    "\n",
    "To save you scrolling, we have included a cell below to plot the graph again (this one runs quickly)."
   ]
  },
  {
   "cell_type": "code",
   "execution_count": null,
   "id": "b8e1d033",
   "metadata": {
    "execution": {
     "iopub.execute_input": "2022-10-17T00:21:26.673514Z",
     "iopub.status.busy": "2022-10-17T00:21:26.672648Z",
     "iopub.status.idle": "2022-10-17T00:21:27.328971Z",
     "shell.execute_reply": "2022-10-17T00:21:27.328000Z"
    },
    "papermill": {
     "duration": 0.669161,
     "end_time": "2022-10-17T00:21:27.332003",
     "exception": false,
     "start_time": "2022-10-17T00:21:26.662842",
     "status": "completed"
    },
    "tags": []
   },
   "outputs": [],
   "source": [
    "shap.summary_plot(shap_values[1], small_val_X)"
   ]
  },
  {
   "cell_type": "code",
   "execution_count": null,
   "id": "57212463",
   "metadata": {
    "execution": {
     "iopub.execute_input": "2022-10-17T00:21:27.354238Z",
     "iopub.status.busy": "2022-10-17T00:21:27.353695Z",
     "iopub.status.idle": "2022-10-17T00:21:27.362334Z",
     "shell.execute_reply": "2022-10-17T00:21:27.361321Z"
    },
    "papermill": {
     "duration": 0.024432,
     "end_time": "2022-10-17T00:21:27.366216",
     "exception": false,
     "start_time": "2022-10-17T00:21:27.341784",
     "status": "completed"
    },
    "tags": []
   },
   "outputs": [],
   "source": [
    "# Set following var to \"diag_1_428\" if changing it to 1 has bigger effect.  Else set it to 'payer_code_?'\n",
    "bigger_effect_when_changed = ____\n",
    "\n",
    "# Check your answer\n",
    "q_3.check()"
   ]
  },
  {
   "cell_type": "markdown",
   "id": "4202127f",
   "metadata": {
    "papermill": {
     "duration": 0.009301,
     "end_time": "2022-10-17T00:21:27.385106",
     "exception": false,
     "start_time": "2022-10-17T00:21:27.375805",
     "status": "completed"
    },
    "tags": []
   },
   "source": [
    "For a solution and explanation, uncomment the line below."
   ]
  },
  {
   "cell_type": "code",
   "execution_count": null,
   "id": "be4b02a8",
   "metadata": {
    "execution": {
     "iopub.execute_input": "2022-10-17T00:21:27.407475Z",
     "iopub.status.busy": "2022-10-17T00:21:27.406119Z",
     "iopub.status.idle": "2022-10-17T00:21:27.411355Z",
     "shell.execute_reply": "2022-10-17T00:21:27.410290Z"
    },
    "papermill": {
     "duration": 0.018954,
     "end_time": "2022-10-17T00:21:27.413808",
     "exception": false,
     "start_time": "2022-10-17T00:21:27.394854",
     "status": "completed"
    },
    "tags": []
   },
   "outputs": [],
   "source": [
    "# q_3.solution()"
   ]
  },
  {
   "cell_type": "markdown",
   "id": "96422c4f",
   "metadata": {
    "papermill": {
     "duration": 0.009492,
     "end_time": "2022-10-17T00:21:27.433627",
     "exception": false,
     "start_time": "2022-10-17T00:21:27.424135",
     "status": "completed"
    },
    "tags": []
   },
   "source": [
    "## Question 4\n",
    "\n",
    "Some features (like `number_inpatient`) have reasonably clear separation between the blue and pink dots. Other variables like `num_lab_procedures` have blue and pink dots jumbled together, even though the SHAP values (or impacts on prediction) aren't all 0.\n",
    "\n",
    "What do you think you learn from the fact that `num_lab_procedures` has blue and pink dots jumbled together? Once you have your answer, run the line below to verify your solution."
   ]
  },
  {
   "cell_type": "code",
   "execution_count": null,
   "id": "f0c8475e",
   "metadata": {
    "execution": {
     "iopub.execute_input": "2022-10-17T00:21:27.455805Z",
     "iopub.status.busy": "2022-10-17T00:21:27.455026Z",
     "iopub.status.idle": "2022-10-17T00:21:27.463353Z",
     "shell.execute_reply": "2022-10-17T00:21:27.462311Z"
    },
    "papermill": {
     "duration": 0.022055,
     "end_time": "2022-10-17T00:21:27.465538",
     "exception": false,
     "start_time": "2022-10-17T00:21:27.443483",
     "status": "completed"
    },
    "tags": []
   },
   "outputs": [],
   "source": [
    "# Check your answer (Run this code cell to receive credit!)\n",
    "q_4.solution()"
   ]
  },
  {
   "cell_type": "markdown",
   "id": "bae2617e",
   "metadata": {
    "papermill": {
     "duration": 0.009958,
     "end_time": "2022-10-17T00:21:27.485894",
     "exception": false,
     "start_time": "2022-10-17T00:21:27.475936",
     "status": "completed"
    },
    "tags": []
   },
   "source": [
    "## Question 5\n",
    "\n",
    "Consider the following SHAP contribution dependence plot. \n",
    "\n",
    "The x-axis shows `feature_of_interest` and the points are colored based on `other_feature`.\n",
    "\n",
    "![Imgur](https://i.imgur.com/zFdHneM.png)\n",
    "\n",
    "Is there an interaction between `feature_of_interest` and `other_feature`?  \n",
    "If so, does `feature_of_interest` have a more positive impact on predictions when `other_feature` is high or when `other_feature` is low?\n",
    "\n",
    "Run the following code when you are ready for the answer."
   ]
  },
  {
   "cell_type": "code",
   "execution_count": null,
   "id": "56763f5f",
   "metadata": {
    "execution": {
     "iopub.execute_input": "2022-10-17T00:21:27.510066Z",
     "iopub.status.busy": "2022-10-17T00:21:27.508501Z",
     "iopub.status.idle": "2022-10-17T00:21:27.517674Z",
     "shell.execute_reply": "2022-10-17T00:21:27.516704Z"
    },
    "papermill": {
     "duration": 0.02377,
     "end_time": "2022-10-17T00:21:27.519922",
     "exception": false,
     "start_time": "2022-10-17T00:21:27.496152",
     "status": "completed"
    },
    "tags": []
   },
   "outputs": [],
   "source": [
    "# Check your answer (Run this code cell to receive credit!)\n",
    "q_5.solution()"
   ]
  },
  {
   "cell_type": "markdown",
   "id": "b987fbdb",
   "metadata": {
    "papermill": {
     "duration": 0.010262,
     "end_time": "2022-10-17T00:21:27.541463",
     "exception": false,
     "start_time": "2022-10-17T00:21:27.531201",
     "status": "completed"
    },
    "tags": []
   },
   "source": [
    "## Question 6\n",
    "\n",
    "Review the summary plot for the readmission data by running the following cell:"
   ]
  },
  {
   "cell_type": "code",
   "execution_count": null,
   "id": "26c94d87",
   "metadata": {
    "execution": {
     "iopub.execute_input": "2022-10-17T00:21:27.565276Z",
     "iopub.status.busy": "2022-10-17T00:21:27.564077Z",
     "iopub.status.idle": "2022-10-17T00:21:28.232205Z",
     "shell.execute_reply": "2022-10-17T00:21:28.230874Z"
    },
    "papermill": {
     "duration": 0.68333,
     "end_time": "2022-10-17T00:21:28.235321",
     "exception": false,
     "start_time": "2022-10-17T00:21:27.551991",
     "status": "completed"
    },
    "tags": []
   },
   "outputs": [],
   "source": [
    "shap.summary_plot(shap_values[1], small_val_X)"
   ]
  },
  {
   "cell_type": "markdown",
   "id": "3373ec3c",
   "metadata": {
    "papermill": {
     "duration": 0.011731,
     "end_time": "2022-10-17T00:21:28.259769",
     "exception": false,
     "start_time": "2022-10-17T00:21:28.248038",
     "status": "completed"
    },
    "tags": []
   },
   "source": [
    "Both **num_medications** and **num_lab_procedures** share that jumbling of pink and blue dots.\n",
    "\n",
    "Aside from `num_medications` having effects of greater magnitude (both more positive and more negative), it's hard to see a meaningful difference between how these two features affect readmission risk.  Create the SHAP dependence contribution plots for each variable, and describe what you think is different between how these two variables affect predictions.\n",
    "\n",
    "As a reminder, here is the code you previously saw to create this type of plot.\n",
    "\n",
    "    shap.dependence_plot(feature_of_interest, shap_values[1], val_X)\n",
    "    \n",
    "And recall that your validation data is called `small_val_X`."
   ]
  },
  {
   "cell_type": "code",
   "execution_count": null,
   "id": "2f8360a4",
   "metadata": {
    "execution": {
     "iopub.execute_input": "2022-10-17T00:21:28.286464Z",
     "iopub.status.busy": "2022-10-17T00:21:28.285990Z",
     "iopub.status.idle": "2022-10-17T00:21:28.293842Z",
     "shell.execute_reply": "2022-10-17T00:21:28.292218Z"
    },
    "papermill": {
     "duration": 0.02448,
     "end_time": "2022-10-17T00:21:28.296871",
     "exception": false,
     "start_time": "2022-10-17T00:21:28.272391",
     "status": "completed"
    },
    "tags": []
   },
   "outputs": [],
   "source": [
    "# Your code here\n",
    "____"
   ]
  },
  {
   "cell_type": "markdown",
   "id": "90b5af75",
   "metadata": {
    "papermill": {
     "duration": 0.012173,
     "end_time": "2022-10-17T00:21:28.321771",
     "exception": false,
     "start_time": "2022-10-17T00:21:28.309598",
     "status": "completed"
    },
    "tags": []
   },
   "source": [
    "Then run the following line to compare your observations from this graph to the solution."
   ]
  },
  {
   "cell_type": "code",
   "execution_count": null,
   "id": "fbde12d2",
   "metadata": {
    "execution": {
     "iopub.execute_input": "2022-10-17T00:21:28.348625Z",
     "iopub.status.busy": "2022-10-17T00:21:28.347705Z",
     "iopub.status.idle": "2022-10-17T00:21:28.357952Z",
     "shell.execute_reply": "2022-10-17T00:21:28.356852Z"
    },
    "papermill": {
     "duration": 0.026447,
     "end_time": "2022-10-17T00:21:28.360484",
     "exception": false,
     "start_time": "2022-10-17T00:21:28.334037",
     "status": "completed"
    },
    "tags": []
   },
   "outputs": [],
   "source": [
    "# Check your answer (Run this code cell to receive credit!)\n",
    "q_6.solution()"
   ]
  },
  {
   "cell_type": "markdown",
   "id": "43e8a0b7",
   "metadata": {
    "papermill": {
     "duration": 0.012778,
     "end_time": "2022-10-17T00:21:28.385997",
     "exception": false,
     "start_time": "2022-10-17T00:21:28.373219",
     "status": "completed"
    },
    "tags": []
   },
   "source": [
    "## Congratulations\n",
    "\n",
    "That's it!  Machine learning models should not feel like black boxes any more, because you have the tools to inspect them and understand what they learn about the world. \n",
    "\n",
    "This is an excellent skill for debugging models, building trust, and learning insights to make better decisions. These techniques have revolutionized how I do data science, and I hope they do the same for you.\n",
    "\n",
    "Real data science involves an element of exploration. I hope you find an interesting dataset to try these techniques on (Kaggle has a lot of [free datasets](https://www.kaggle.com/datasets) to try out). If you learn something interesting about the world, share your work [in this forum](https://www.kaggle.com/learn-forum/66354). I'm excited to see what you do with your new skills."
   ]
  },
  {
   "cell_type": "markdown",
   "id": "1f9c3b12",
   "metadata": {
    "papermill": {
     "duration": 0.012299,
     "end_time": "2022-10-17T00:21:28.411078",
     "exception": false,
     "start_time": "2022-10-17T00:21:28.398779",
     "status": "completed"
    },
    "tags": []
   },
   "source": [
    "---\n",
    "\n",
    "\n",
    "\n",
    "\n",
    "*Have questions or comments? Visit the [course discussion forum](https://www.kaggle.com/learn/machine-learning-explainability/discussion) to chat with other learners.*"
   ]
  }
 ],
 "metadata": {
  "kernelspec": {
   "display_name": "Python 3.10.6 ('sklearn-env')",
   "language": "python",
   "name": "python3"
  },
  "language_info": {
   "codemirror_mode": {
    "name": "ipython",
    "version": 3
   },
   "file_extension": ".py",
   "mimetype": "text/x-python",
   "name": "python",
   "nbconvert_exporter": "python",
   "pygments_lexer": "ipython3",
   "version": "3.10.6"
  },
  "papermill": {
   "default_parameters": {},
   "duration": 45.433688,
   "end_time": "2022-10-17T00:21:29.549881",
   "environment_variables": {},
   "exception": null,
   "input_path": "__notebook__.ipynb",
   "output_path": "__notebook__.ipynb",
   "parameters": {},
   "start_time": "2022-10-17T00:20:44.116193",
   "version": "2.3.4"
  },
  "vscode": {
   "interpreter": {
    "hash": "ac22767284fa7de9951c43376386eb73cd5359e83d2496301849b7d38304da64"
   }
  }
 },
 "nbformat": 4,
 "nbformat_minor": 5
}
