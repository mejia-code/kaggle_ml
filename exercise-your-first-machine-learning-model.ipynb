{
 "cells": [
  {
   "cell_type": "markdown",
   "id": "b14e7ce6",
   "metadata": {
    "papermill": {
     "duration": 0.006438,
     "end_time": "2022-10-01T14:28:43.580347",
     "exception": false,
     "start_time": "2022-10-01T14:28:43.573909",
     "status": "completed"
    },
    "tags": []
   },
   "source": [
    "**This notebook is an exercise in the [Introduction to Machine Learning](https://www.kaggle.com/learn/intro-to-machine-learning) course.  You can reference the tutorial at [this link](https://www.kaggle.com/dansbecker/your-first-machine-learning-model).**\n",
    "\n",
    "---\n"
   ]
  },
  {
   "cell_type": "markdown",
   "id": "64b64b34",
   "metadata": {
    "papermill": {
     "duration": 0.004767,
     "end_time": "2022-10-01T14:28:43.590466",
     "exception": false,
     "start_time": "2022-10-01T14:28:43.585699",
     "status": "completed"
    },
    "tags": []
   },
   "source": [
    "## Recap\n",
    "So far, you have loaded your data and reviewed it with the following code. Run this cell to set up your coding environment where the previous step left off."
   ]
  },
  {
   "cell_type": "code",
   "execution_count": 1,
   "id": "28a5dce9",
   "metadata": {
    "execution": {
     "iopub.execute_input": "2022-10-01T14:28:43.603809Z",
     "iopub.status.busy": "2022-10-01T14:28:43.602402Z",
     "iopub.status.idle": "2022-10-01T14:28:45.054153Z",
     "shell.execute_reply": "2022-10-01T14:28:45.052693Z"
    },
    "papermill": {
     "duration": 1.461347,
     "end_time": "2022-10-01T14:28:45.056891",
     "exception": false,
     "start_time": "2022-10-01T14:28:43.595544",
     "status": "completed"
    },
    "tags": []
   },
   "outputs": [
    {
     "name": "stdout",
     "output_type": "stream",
     "text": [
      "Setup Complete\n"
     ]
    }
   ],
   "source": [
    "# Code you have previously used to load data\n",
    "import pandas as pd\n",
    "\n",
    "# Path of the file to read\n",
    "iowa_file_path = '../input/home-data-for-ml-course/train.csv'\n",
    "\n",
    "home_data = pd.read_csv(iowa_file_path)\n",
    "\n",
    "# Set up code checking\n",
    "from learntools.core import binder\n",
    "binder.bind(globals())\n",
    "from learntools.machine_learning.ex3 import *\n",
    "\n",
    "print(\"Setup Complete\")"
   ]
  },
  {
   "cell_type": "markdown",
   "id": "597abe68",
   "metadata": {
    "papermill": {
     "duration": 0.004936,
     "end_time": "2022-10-01T14:28:45.067141",
     "exception": false,
     "start_time": "2022-10-01T14:28:45.062205",
     "status": "completed"
    },
    "tags": []
   },
   "source": [
    "# Exercises\n",
    "\n",
    "## Step 1: Specify Prediction Target\n",
    "Select the target variable, which corresponds to the sales price. Save this to a new variable called `y`. You'll need to print a list of the columns to find the name of the column you need.\n"
   ]
  },
  {
   "cell_type": "code",
   "execution_count": 2,
   "id": "3d5fb5f3",
   "metadata": {
    "execution": {
     "iopub.execute_input": "2022-10-01T14:28:45.079382Z",
     "iopub.status.busy": "2022-10-01T14:28:45.078992Z",
     "iopub.status.idle": "2022-10-01T14:28:45.089020Z",
     "shell.execute_reply": "2022-10-01T14:28:45.087788Z"
    },
    "papermill": {
     "duration": 0.019187,
     "end_time": "2022-10-01T14:28:45.091429",
     "exception": false,
     "start_time": "2022-10-01T14:28:45.072242",
     "status": "completed"
    },
    "tags": []
   },
   "outputs": [
    {
     "data": {
      "text/plain": [
       "Index(['Id', 'MSSubClass', 'MSZoning', 'LotFrontage', 'LotArea', 'Street',\n",
       "       'Alley', 'LotShape', 'LandContour', 'Utilities', 'LotConfig',\n",
       "       'LandSlope', 'Neighborhood', 'Condition1', 'Condition2', 'BldgType',\n",
       "       'HouseStyle', 'OverallQual', 'OverallCond', 'YearBuilt', 'YearRemodAdd',\n",
       "       'RoofStyle', 'RoofMatl', 'Exterior1st', 'Exterior2nd', 'MasVnrType',\n",
       "       'MasVnrArea', 'ExterQual', 'ExterCond', 'Foundation', 'BsmtQual',\n",
       "       'BsmtCond', 'BsmtExposure', 'BsmtFinType1', 'BsmtFinSF1',\n",
       "       'BsmtFinType2', 'BsmtFinSF2', 'BsmtUnfSF', 'TotalBsmtSF', 'Heating',\n",
       "       'HeatingQC', 'CentralAir', 'Electrical', '1stFlrSF', '2ndFlrSF',\n",
       "       'LowQualFinSF', 'GrLivArea', 'BsmtFullBath', 'BsmtHalfBath', 'FullBath',\n",
       "       'HalfBath', 'BedroomAbvGr', 'KitchenAbvGr', 'KitchenQual',\n",
       "       'TotRmsAbvGrd', 'Functional', 'Fireplaces', 'FireplaceQu', 'GarageType',\n",
       "       'GarageYrBlt', 'GarageFinish', 'GarageCars', 'GarageArea', 'GarageQual',\n",
       "       'GarageCond', 'PavedDrive', 'WoodDeckSF', 'OpenPorchSF',\n",
       "       'EnclosedPorch', '3SsnPorch', 'ScreenPorch', 'PoolArea', 'PoolQC',\n",
       "       'Fence', 'MiscFeature', 'MiscVal', 'MoSold', 'YrSold', 'SaleType',\n",
       "       'SaleCondition', 'SalePrice'],\n",
       "      dtype='object')"
      ]
     },
     "execution_count": 2,
     "metadata": {},
     "output_type": "execute_result"
    }
   ],
   "source": [
    "# print the list of columns in the dataset to find the name of the prediction target\n",
    "home_data.columns\n"
   ]
  },
  {
   "cell_type": "code",
   "execution_count": 3,
   "id": "82c9aaa3",
   "metadata": {
    "execution": {
     "iopub.execute_input": "2022-10-01T14:28:45.103975Z",
     "iopub.status.busy": "2022-10-01T14:28:45.103585Z",
     "iopub.status.idle": "2022-10-01T14:28:45.118986Z",
     "shell.execute_reply": "2022-10-01T14:28:45.117913Z"
    },
    "papermill": {
     "duration": 0.024224,
     "end_time": "2022-10-01T14:28:45.121253",
     "exception": false,
     "start_time": "2022-10-01T14:28:45.097029",
     "status": "completed"
    },
    "tags": []
   },
   "outputs": [
    {
     "data": {
      "application/javascript": [
       "parent.postMessage({\"jupyterEvent\": \"custom.exercise_interaction\", \"data\": {\"outcomeType\": 1, \"valueTowardsCompletion\": 0.25, \"interactionType\": 1, \"questionType\": 2, \"questionId\": \"1_SetTarget\", \"learnToolsVersion\": \"0.3.4\", \"failureMessage\": \"\", \"exceptionClass\": \"\", \"trace\": \"\"}}, \"*\")"
      ],
      "text/plain": [
       "<IPython.core.display.Javascript object>"
      ]
     },
     "metadata": {},
     "output_type": "display_data"
    },
    {
     "data": {
      "text/markdown": [
       "<span style=\"color:#33cc33\">Correct</span>"
      ],
      "text/plain": [
       "Correct"
      ]
     },
     "metadata": {},
     "output_type": "display_data"
    }
   ],
   "source": [
    "y = home_data.SalePrice\n",
    "\n",
    "# print(y)\n",
    "\n",
    "# Check your answer\n",
    "step_1.check()"
   ]
  },
  {
   "cell_type": "code",
   "execution_count": 4,
   "id": "f36b1a3e",
   "metadata": {
    "execution": {
     "iopub.execute_input": "2022-10-01T14:28:45.134721Z",
     "iopub.status.busy": "2022-10-01T14:28:45.134296Z",
     "iopub.status.idle": "2022-10-01T14:28:45.138978Z",
     "shell.execute_reply": "2022-10-01T14:28:45.137759Z"
    },
    "papermill": {
     "duration": 0.014344,
     "end_time": "2022-10-01T14:28:45.141179",
     "exception": false,
     "start_time": "2022-10-01T14:28:45.126835",
     "status": "completed"
    },
    "tags": []
   },
   "outputs": [],
   "source": [
    "# The lines below will show you a hint or the solution.\n",
    "# step_1.hint() \n",
    "# step_1.solution()"
   ]
  },
  {
   "cell_type": "markdown",
   "id": "fe93711e",
   "metadata": {
    "papermill": {
     "duration": 0.005277,
     "end_time": "2022-10-01T14:28:45.152058",
     "exception": false,
     "start_time": "2022-10-01T14:28:45.146781",
     "status": "completed"
    },
    "tags": []
   },
   "source": []
  },
  {
   "cell_type": "markdown",
   "id": "e2a2e29e",
   "metadata": {
    "papermill": {
     "duration": 0.005172,
     "end_time": "2022-10-01T14:28:45.162856",
     "exception": false,
     "start_time": "2022-10-01T14:28:45.157684",
     "status": "completed"
    },
    "tags": []
   },
   "source": [
    "## Step 2: Create X\n",
    "Now you will create a DataFrame called `X` holding the predictive features.\n",
    "\n",
    "Since you want only some columns from the original data, you'll first create a list with the names of the columns you want in `X`.\n",
    "\n",
    "You'll use just the following columns in the list (you can copy and paste the whole list to save some typing, though you'll still need to add quotes):\n",
    "  * LotArea\n",
    "  * YearBuilt\n",
    "  * 1stFlrSF\n",
    "  * 2ndFlrSF\n",
    "  * FullBath\n",
    "  * BedroomAbvGr\n",
    "  * TotRmsAbvGrd\n",
    "\n",
    "After you've created that list of features, use it to create the DataFrame that you'll use to fit the model."
   ]
  },
  {
   "cell_type": "code",
   "execution_count": 5,
   "id": "d1789d84",
   "metadata": {
    "execution": {
     "iopub.execute_input": "2022-10-01T14:28:45.176207Z",
     "iopub.status.busy": "2022-10-01T14:28:45.175777Z",
     "iopub.status.idle": "2022-10-01T14:28:45.189904Z",
     "shell.execute_reply": "2022-10-01T14:28:45.188829Z"
    },
    "papermill": {
     "duration": 0.02374,
     "end_time": "2022-10-01T14:28:45.192246",
     "exception": false,
     "start_time": "2022-10-01T14:28:45.168506",
     "status": "completed"
    },
    "tags": []
   },
   "outputs": [
    {
     "data": {
      "application/javascript": [
       "parent.postMessage({\"jupyterEvent\": \"custom.exercise_interaction\", \"data\": {\"outcomeType\": 1, \"valueTowardsCompletion\": 0.25, \"interactionType\": 1, \"questionType\": 2, \"questionId\": \"2_SelectPredictionData\", \"learnToolsVersion\": \"0.3.4\", \"failureMessage\": \"\", \"exceptionClass\": \"\", \"trace\": \"\"}}, \"*\")"
      ],
      "text/plain": [
       "<IPython.core.display.Javascript object>"
      ]
     },
     "metadata": {},
     "output_type": "display_data"
    },
    {
     "data": {
      "text/markdown": [
       "<span style=\"color:#33cc33\">Correct</span>"
      ],
      "text/plain": [
       "Correct"
      ]
     },
     "metadata": {},
     "output_type": "display_data"
    }
   ],
   "source": [
    "# Create the list of features below\n",
    "feature_names = ['LotArea','YearBuilt', '1stFlrSF', '2ndFlrSF', 'FullBath', 'BedroomAbvGr', 'TotRmsAbvGrd']\n",
    "\n",
    "# Select data corresponding to features in feature_names\n",
    "X = home_data[feature_names]\n",
    "\n",
    "# print(X)\n",
    "\n",
    "# Check your answer\n",
    "step_2.check()"
   ]
  },
  {
   "cell_type": "code",
   "execution_count": 6,
   "id": "88d58d83",
   "metadata": {
    "collapsed": true,
    "execution": {
     "iopub.execute_input": "2022-10-01T14:28:45.205705Z",
     "iopub.status.busy": "2022-10-01T14:28:45.205291Z",
     "iopub.status.idle": "2022-10-01T14:28:45.209988Z",
     "shell.execute_reply": "2022-10-01T14:28:45.208774Z"
    },
    "jupyter": {
     "outputs_hidden": true
    },
    "papermill": {
     "duration": 0.01389,
     "end_time": "2022-10-01T14:28:45.212173",
     "exception": false,
     "start_time": "2022-10-01T14:28:45.198283",
     "status": "completed"
    },
    "tags": []
   },
   "outputs": [],
   "source": [
    "# step_2.hint()\n",
    "# step_2.solution()"
   ]
  },
  {
   "cell_type": "markdown",
   "id": "21e7e8cb",
   "metadata": {
    "papermill": {
     "duration": 0.005432,
     "end_time": "2022-10-01T14:28:45.224864",
     "exception": false,
     "start_time": "2022-10-01T14:28:45.219432",
     "status": "completed"
    },
    "tags": []
   },
   "source": [
    "## Review Data\n",
    "Before building a model, take a quick look at **X** to verify it looks sensible"
   ]
  },
  {
   "cell_type": "code",
   "execution_count": 7,
   "id": "d39571f1",
   "metadata": {
    "collapsed": true,
    "execution": {
     "iopub.execute_input": "2022-10-01T14:28:45.238609Z",
     "iopub.status.busy": "2022-10-01T14:28:45.237528Z",
     "iopub.status.idle": "2022-10-01T14:28:45.242259Z",
     "shell.execute_reply": "2022-10-01T14:28:45.241150Z"
    },
    "jupyter": {
     "outputs_hidden": true
    },
    "papermill": {
     "duration": 0.014058,
     "end_time": "2022-10-01T14:28:45.244616",
     "exception": false,
     "start_time": "2022-10-01T14:28:45.230558",
     "status": "completed"
    },
    "tags": []
   },
   "outputs": [],
   "source": [
    "# Review data\n",
    "# print description or statistics from X\n",
    "#print(_)\n",
    "\n",
    "# print the top few lines\n",
    "#print(_)"
   ]
  },
  {
   "cell_type": "markdown",
   "id": "1eb049f0",
   "metadata": {
    "papermill": {
     "duration": 0.005598,
     "end_time": "2022-10-01T14:28:45.256004",
     "exception": false,
     "start_time": "2022-10-01T14:28:45.250406",
     "status": "completed"
    },
    "tags": []
   },
   "source": [
    "## Step 3: Specify and Fit Model\n",
    "Create a `DecisionTreeRegressor` and save it iowa_model. Ensure you've done the relevant import from sklearn to run this command.\n",
    "\n",
    "Then fit the model you just created using the data in `X` and `y` that you saved above."
   ]
  },
  {
   "cell_type": "code",
   "execution_count": 8,
   "id": "813ebed5",
   "metadata": {
    "collapsed": true,
    "execution": {
     "iopub.execute_input": "2022-10-01T14:28:45.269263Z",
     "iopub.status.busy": "2022-10-01T14:28:45.268833Z",
     "iopub.status.idle": "2022-10-01T14:28:45.278093Z",
     "shell.execute_reply": "2022-10-01T14:28:45.277021Z"
    },
    "jupyter": {
     "outputs_hidden": true
    },
    "papermill": {
     "duration": 0.018867,
     "end_time": "2022-10-01T14:28:45.280502",
     "exception": false,
     "start_time": "2022-10-01T14:28:45.261635",
     "status": "completed"
    },
    "tags": []
   },
   "outputs": [
    {
     "data": {
      "application/javascript": [
       "parent.postMessage({\"jupyterEvent\": \"custom.exercise_interaction\", \"data\": {\"outcomeType\": 4, \"interactionType\": 1, \"questionType\": 2, \"questionId\": \"3_CreateModel\", \"learnToolsVersion\": \"0.3.4\", \"valueTowardsCompletion\": 0.0, \"failureMessage\": \"\", \"exceptionClass\": \"\", \"trace\": \"\"}}, \"*\")"
      ],
      "text/plain": [
       "<IPython.core.display.Javascript object>"
      ]
     },
     "metadata": {},
     "output_type": "display_data"
    },
    {
     "data": {
      "text/markdown": [
       "<span style=\"color:#ccaa33\">Check:</span> When you've updated the starter code, `check()` will tell you whether your code is correct. You need to update the code that creates variable `iowa_model`"
      ],
      "text/plain": [
       "Check: When you've updated the starter code, `check()` will tell you whether your code is correct. You need to update the code that creates variable `iowa_model`"
      ]
     },
     "metadata": {},
     "output_type": "display_data"
    }
   ],
   "source": [
    "# from _ import _\n",
    "#specify the model. \n",
    "#For model reproducibility, set a numeric value for random_state when specifying the model\n",
    "iowa_model = ____\n",
    "\n",
    "# Fit the model\n",
    "____\n",
    "\n",
    "# Check your answer\n",
    "step_3.check()"
   ]
  },
  {
   "cell_type": "code",
   "execution_count": 9,
   "id": "7a304cbe",
   "metadata": {
    "collapsed": true,
    "execution": {
     "iopub.execute_input": "2022-10-01T14:28:45.294766Z",
     "iopub.status.busy": "2022-10-01T14:28:45.294294Z",
     "iopub.status.idle": "2022-10-01T14:28:45.298932Z",
     "shell.execute_reply": "2022-10-01T14:28:45.297884Z"
    },
    "jupyter": {
     "outputs_hidden": true
    },
    "papermill": {
     "duration": 0.014184,
     "end_time": "2022-10-01T14:28:45.301155",
     "exception": false,
     "start_time": "2022-10-01T14:28:45.286971",
     "status": "completed"
    },
    "tags": []
   },
   "outputs": [],
   "source": [
    "# step_3.hint()\n",
    "# step_3.solution()"
   ]
  },
  {
   "cell_type": "markdown",
   "id": "b421a7e5",
   "metadata": {
    "papermill": {
     "duration": 0.005871,
     "end_time": "2022-10-01T14:28:45.313393",
     "exception": false,
     "start_time": "2022-10-01T14:28:45.307522",
     "status": "completed"
    },
    "tags": []
   },
   "source": [
    "## Step 4: Make Predictions\n",
    "Make predictions with the model's `predict` command using `X` as the data. Save the results to a variable called `predictions`."
   ]
  },
  {
   "cell_type": "code",
   "execution_count": 10,
   "id": "51f25400",
   "metadata": {
    "collapsed": true,
    "execution": {
     "iopub.execute_input": "2022-10-01T14:28:45.327599Z",
     "iopub.status.busy": "2022-10-01T14:28:45.326770Z",
     "iopub.status.idle": "2022-10-01T14:28:45.337550Z",
     "shell.execute_reply": "2022-10-01T14:28:45.336414Z"
    },
    "jupyter": {
     "outputs_hidden": true
    },
    "papermill": {
     "duration": 0.020569,
     "end_time": "2022-10-01T14:28:45.340040",
     "exception": false,
     "start_time": "2022-10-01T14:28:45.319471",
     "status": "completed"
    },
    "tags": []
   },
   "outputs": [
    {
     "name": "stdout",
     "output_type": "stream",
     "text": [
      "<learntools.core.constants.PlaceholderValue object at 0x7fa1bcea36d0>\n"
     ]
    },
    {
     "data": {
      "application/javascript": [
       "parent.postMessage({\"jupyterEvent\": \"custom.exercise_interaction\", \"data\": {\"outcomeType\": 4, \"interactionType\": 1, \"questionType\": 2, \"questionId\": \"4_MakePredictions\", \"learnToolsVersion\": \"0.3.4\", \"valueTowardsCompletion\": 0.0, \"failureMessage\": \"\", \"exceptionClass\": \"\", \"trace\": \"\"}}, \"*\")"
      ],
      "text/plain": [
       "<IPython.core.display.Javascript object>"
      ]
     },
     "metadata": {},
     "output_type": "display_data"
    },
    {
     "data": {
      "text/markdown": [
       "<span style=\"color:#ccaa33\">Check:</span> When you've updated the starter code, `check()` will tell you whether your code is correct. You need to update the code that creates variables `predictions`, `iowa_model`, `X`"
      ],
      "text/plain": [
       "Check: When you've updated the starter code, `check()` will tell you whether your code is correct. You need to update the code that creates variables `predictions`, `iowa_model`, `X`"
      ]
     },
     "metadata": {},
     "output_type": "display_data"
    }
   ],
   "source": [
    "predictions = ____\n",
    "print(predictions)\n",
    "\n",
    "# Check your answer\n",
    "step_4.check()"
   ]
  },
  {
   "cell_type": "code",
   "execution_count": 11,
   "id": "d776ecf9",
   "metadata": {
    "collapsed": true,
    "execution": {
     "iopub.execute_input": "2022-10-01T14:28:45.355294Z",
     "iopub.status.busy": "2022-10-01T14:28:45.354863Z",
     "iopub.status.idle": "2022-10-01T14:28:45.360164Z",
     "shell.execute_reply": "2022-10-01T14:28:45.359008Z"
    },
    "jupyter": {
     "outputs_hidden": true
    },
    "papermill": {
     "duration": 0.015818,
     "end_time": "2022-10-01T14:28:45.362523",
     "exception": false,
     "start_time": "2022-10-01T14:28:45.346705",
     "status": "completed"
    },
    "tags": []
   },
   "outputs": [],
   "source": [
    "# step_4.hint()\n",
    "# step_4.solution()"
   ]
  },
  {
   "cell_type": "markdown",
   "id": "2ddd4bc3",
   "metadata": {
    "papermill": {
     "duration": 0.006265,
     "end_time": "2022-10-01T14:28:45.375403",
     "exception": false,
     "start_time": "2022-10-01T14:28:45.369138",
     "status": "completed"
    },
    "tags": []
   },
   "source": [
    "## Think About Your Results\n",
    "\n",
    "Use the `head` method to compare the top few predictions to the actual home values (in `y`) for those same homes. Anything surprising?\n"
   ]
  },
  {
   "cell_type": "code",
   "execution_count": 12,
   "id": "b83baae8",
   "metadata": {
    "execution": {
     "iopub.execute_input": "2022-10-01T14:28:45.390076Z",
     "iopub.status.busy": "2022-10-01T14:28:45.389595Z",
     "iopub.status.idle": "2022-10-01T14:28:45.394132Z",
     "shell.execute_reply": "2022-10-01T14:28:45.393290Z"
    },
    "papermill": {
     "duration": 0.014338,
     "end_time": "2022-10-01T14:28:45.396215",
     "exception": false,
     "start_time": "2022-10-01T14:28:45.381877",
     "status": "completed"
    },
    "tags": []
   },
   "outputs": [],
   "source": [
    "# You can write code in this cell\n"
   ]
  },
  {
   "cell_type": "markdown",
   "id": "2977933c",
   "metadata": {
    "papermill": {
     "duration": 0.006222,
     "end_time": "2022-10-01T14:28:45.409025",
     "exception": false,
     "start_time": "2022-10-01T14:28:45.402803",
     "status": "completed"
    },
    "tags": []
   },
   "source": [
    "It's natural to ask how accurate the model's predictions will be and how you can improve that. That will be you're next step.\n",
    "\n",
    "# Keep Going\n",
    "\n",
    "You are ready for **[Model Validation](https://www.kaggle.com/dansbecker/model-validation).**\n"
   ]
  },
  {
   "cell_type": "markdown",
   "id": "65101e6a",
   "metadata": {
    "papermill": {
     "duration": 0.006158,
     "end_time": "2022-10-01T14:28:45.421662",
     "exception": false,
     "start_time": "2022-10-01T14:28:45.415504",
     "status": "completed"
    },
    "tags": []
   },
   "source": [
    "---\n",
    "\n",
    "\n",
    "\n",
    "\n",
    "*Have questions or comments? Visit the [course discussion forum](https://www.kaggle.com/learn/intro-to-machine-learning/discussion) to chat with other learners.*"
   ]
  }
 ],
 "metadata": {
  "kernelspec": {
   "display_name": "Python 3",
   "language": "python",
   "name": "python3"
  },
  "language_info": {
   "codemirror_mode": {
    "name": "ipython",
    "version": 3
   },
   "file_extension": ".py",
   "mimetype": "text/x-python",
   "name": "python",
   "nbconvert_exporter": "python",
   "pygments_lexer": "ipython3",
   "version": "3.7.12"
  },
  "papermill": {
   "default_parameters": {},
   "duration": 11.995595,
   "end_time": "2022-10-01T14:28:46.149592",
   "environment_variables": {},
   "exception": null,
   "input_path": "__notebook__.ipynb",
   "output_path": "__notebook__.ipynb",
   "parameters": {},
   "start_time": "2022-10-01T14:28:34.153997",
   "version": "2.3.4"
  }
 },
 "nbformat": 4,
 "nbformat_minor": 5
}
