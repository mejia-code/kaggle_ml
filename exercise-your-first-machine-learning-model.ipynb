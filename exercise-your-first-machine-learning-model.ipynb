{
 "cells": [
  {
   "cell_type": "markdown",
   "id": "a5ea16cd",
   "metadata": {
    "papermill": {
     "duration": 0.006518,
     "end_time": "2022-10-02T01:20:07.877414",
     "exception": false,
     "start_time": "2022-10-02T01:20:07.870896",
     "status": "completed"
    },
    "tags": []
   },
   "source": [
    "**This notebook is an exercise in the [Introduction to Machine Learning](https://www.kaggle.com/learn/intro-to-machine-learning) course.  You can reference the tutorial at [this link](https://www.kaggle.com/dansbecker/your-first-machine-learning-model).**\n",
    "\n",
    "---\n"
   ]
  },
  {
   "cell_type": "markdown",
   "id": "857e52b1",
   "metadata": {
    "papermill": {
     "duration": 0.005409,
     "end_time": "2022-10-02T01:20:07.888367",
     "exception": false,
     "start_time": "2022-10-02T01:20:07.882958",
     "status": "completed"
    },
    "tags": []
   },
   "source": [
    "## Recap\n",
    "So far, you have loaded your data and reviewed it with the following code. Run this cell to set up your coding environment where the previous step left off."
   ]
  },
  {
   "cell_type": "code",
   "execution_count": 1,
   "id": "fcffe7ab",
   "metadata": {
    "execution": {
     "iopub.execute_input": "2022-10-02T01:20:07.901601Z",
     "iopub.status.busy": "2022-10-02T01:20:07.900881Z",
     "iopub.status.idle": "2022-10-02T01:20:09.327828Z",
     "shell.execute_reply": "2022-10-02T01:20:09.326284Z"
    },
    "papermill": {
     "duration": 1.437148,
     "end_time": "2022-10-02T01:20:09.330959",
     "exception": false,
     "start_time": "2022-10-02T01:20:07.893811",
     "status": "completed"
    },
    "tags": []
   },
   "outputs": [
    {
     "name": "stdout",
     "output_type": "stream",
     "text": [
      "Setup Complete\n"
     ]
    }
   ],
   "source": [
    "# Code you have previously used to load data\n",
    "import pandas as pd\n",
    "\n",
    "# Path of the file to read\n",
    "iowa_file_path = '../input/home-data-for-ml-course/train.csv'\n",
    "\n",
    "home_data = pd.read_csv(iowa_file_path)\n",
    "\n",
    "# Set up code checking\n",
    "from learntools.core import binder\n",
    "binder.bind(globals())\n",
    "from learntools.machine_learning.ex3 import *\n",
    "\n",
    "print(\"Setup Complete\")"
   ]
  },
  {
   "cell_type": "markdown",
   "id": "71ffcbbc",
   "metadata": {
    "papermill": {
     "duration": 0.005349,
     "end_time": "2022-10-02T01:20:09.342150",
     "exception": false,
     "start_time": "2022-10-02T01:20:09.336801",
     "status": "completed"
    },
    "tags": []
   },
   "source": [
    "# Exercises\n",
    "\n",
    "## Step 1: Specify Prediction Target\n",
    "Select the target variable, which corresponds to the sales price. Save this to a new variable called `y`. You'll need to print a list of the columns to find the name of the column you need.\n"
   ]
  },
  {
   "cell_type": "code",
   "execution_count": 2,
   "id": "862cc229",
   "metadata": {
    "execution": {
     "iopub.execute_input": "2022-10-02T01:20:09.357809Z",
     "iopub.status.busy": "2022-10-02T01:20:09.357161Z",
     "iopub.status.idle": "2022-10-02T01:20:09.368875Z",
     "shell.execute_reply": "2022-10-02T01:20:09.367552Z"
    },
    "papermill": {
     "duration": 0.02286,
     "end_time": "2022-10-02T01:20:09.371406",
     "exception": false,
     "start_time": "2022-10-02T01:20:09.348546",
     "status": "completed"
    },
    "tags": []
   },
   "outputs": [
    {
     "data": {
      "text/plain": [
       "Index(['Id', 'MSSubClass', 'MSZoning', 'LotFrontage', 'LotArea', 'Street',\n",
       "       'Alley', 'LotShape', 'LandContour', 'Utilities', 'LotConfig',\n",
       "       'LandSlope', 'Neighborhood', 'Condition1', 'Condition2', 'BldgType',\n",
       "       'HouseStyle', 'OverallQual', 'OverallCond', 'YearBuilt', 'YearRemodAdd',\n",
       "       'RoofStyle', 'RoofMatl', 'Exterior1st', 'Exterior2nd', 'MasVnrType',\n",
       "       'MasVnrArea', 'ExterQual', 'ExterCond', 'Foundation', 'BsmtQual',\n",
       "       'BsmtCond', 'BsmtExposure', 'BsmtFinType1', 'BsmtFinSF1',\n",
       "       'BsmtFinType2', 'BsmtFinSF2', 'BsmtUnfSF', 'TotalBsmtSF', 'Heating',\n",
       "       'HeatingQC', 'CentralAir', 'Electrical', '1stFlrSF', '2ndFlrSF',\n",
       "       'LowQualFinSF', 'GrLivArea', 'BsmtFullBath', 'BsmtHalfBath', 'FullBath',\n",
       "       'HalfBath', 'BedroomAbvGr', 'KitchenAbvGr', 'KitchenQual',\n",
       "       'TotRmsAbvGrd', 'Functional', 'Fireplaces', 'FireplaceQu', 'GarageType',\n",
       "       'GarageYrBlt', 'GarageFinish', 'GarageCars', 'GarageArea', 'GarageQual',\n",
       "       'GarageCond', 'PavedDrive', 'WoodDeckSF', 'OpenPorchSF',\n",
       "       'EnclosedPorch', '3SsnPorch', 'ScreenPorch', 'PoolArea', 'PoolQC',\n",
       "       'Fence', 'MiscFeature', 'MiscVal', 'MoSold', 'YrSold', 'SaleType',\n",
       "       'SaleCondition', 'SalePrice'],\n",
       "      dtype='object')"
      ]
     },
     "execution_count": 2,
     "metadata": {},
     "output_type": "execute_result"
    }
   ],
   "source": [
    "# print the list of columns in the dataset to find the name of the prediction target\n",
    "home_data.columns\n"
   ]
  },
  {
   "cell_type": "code",
   "execution_count": 3,
   "id": "917e9d8a",
   "metadata": {
    "execution": {
     "iopub.execute_input": "2022-10-02T01:20:09.385041Z",
     "iopub.status.busy": "2022-10-02T01:20:09.384604Z",
     "iopub.status.idle": "2022-10-02T01:20:09.402981Z",
     "shell.execute_reply": "2022-10-02T01:20:09.401779Z"
    },
    "papermill": {
     "duration": 0.027956,
     "end_time": "2022-10-02T01:20:09.405311",
     "exception": false,
     "start_time": "2022-10-02T01:20:09.377355",
     "status": "completed"
    },
    "tags": []
   },
   "outputs": [
    {
     "name": "stdout",
     "output_type": "stream",
     "text": [
      "0       208500\n",
      "1       181500\n",
      "2       223500\n",
      "3       140000\n",
      "4       250000\n",
      "         ...  \n",
      "1455    175000\n",
      "1456    210000\n",
      "1457    266500\n",
      "1458    142125\n",
      "1459    147500\n",
      "Name: SalePrice, Length: 1460, dtype: int64\n"
     ]
    },
    {
     "data": {
      "application/javascript": [
       "parent.postMessage({\"jupyterEvent\": \"custom.exercise_interaction\", \"data\": {\"outcomeType\": 1, \"valueTowardsCompletion\": 0.25, \"interactionType\": 1, \"questionType\": 2, \"questionId\": \"1_SetTarget\", \"learnToolsVersion\": \"0.3.4\", \"failureMessage\": \"\", \"exceptionClass\": \"\", \"trace\": \"\"}}, \"*\")"
      ],
      "text/plain": [
       "<IPython.core.display.Javascript object>"
      ]
     },
     "metadata": {},
     "output_type": "display_data"
    },
    {
     "data": {
      "text/markdown": [
       "<span style=\"color:#33cc33\">Correct</span>"
      ],
      "text/plain": [
       "Correct"
      ]
     },
     "metadata": {},
     "output_type": "display_data"
    }
   ],
   "source": [
    "y = home_data.SalePrice\n",
    "\n",
    "print(y)\n",
    "\n",
    "# Check your answer\n",
    "step_1.check()"
   ]
  },
  {
   "cell_type": "code",
   "execution_count": 4,
   "id": "fb9fed98",
   "metadata": {
    "execution": {
     "iopub.execute_input": "2022-10-02T01:20:09.419363Z",
     "iopub.status.busy": "2022-10-02T01:20:09.418947Z",
     "iopub.status.idle": "2022-10-02T01:20:09.424213Z",
     "shell.execute_reply": "2022-10-02T01:20:09.422755Z"
    },
    "papermill": {
     "duration": 0.015251,
     "end_time": "2022-10-02T01:20:09.426719",
     "exception": false,
     "start_time": "2022-10-02T01:20:09.411468",
     "status": "completed"
    },
    "tags": []
   },
   "outputs": [],
   "source": [
    "# The lines below will show you a hint or the solution.\n",
    "# step_1.hint() \n",
    "# step_1.solution()"
   ]
  },
  {
   "cell_type": "markdown",
   "id": "86db343f",
   "metadata": {
    "papermill": {
     "duration": 0.005778,
     "end_time": "2022-10-02T01:20:09.438568",
     "exception": false,
     "start_time": "2022-10-02T01:20:09.432790",
     "status": "completed"
    },
    "tags": []
   },
   "source": []
  },
  {
   "cell_type": "markdown",
   "id": "82d538b4",
   "metadata": {
    "papermill": {
     "duration": 0.005467,
     "end_time": "2022-10-02T01:20:09.450120",
     "exception": false,
     "start_time": "2022-10-02T01:20:09.444653",
     "status": "completed"
    },
    "tags": []
   },
   "source": [
    "## Step 2: Create X\n",
    "Now you will create a DataFrame called `X` holding the predictive features.\n",
    "\n",
    "Since you want only some columns from the original data, you'll first create a list with the names of the columns you want in `X`.\n",
    "\n",
    "You'll use just the following columns in the list (you can copy and paste the whole list to save some typing, though you'll still need to add quotes):\n",
    "  * LotArea\n",
    "  * YearBuilt\n",
    "  * 1stFlrSF\n",
    "  * 2ndFlrSF\n",
    "  * FullBath\n",
    "  * BedroomAbvGr\n",
    "  * TotRmsAbvGrd\n",
    "\n",
    "After you've created that list of features, use it to create the DataFrame that you'll use to fit the model."
   ]
  },
  {
   "cell_type": "code",
   "execution_count": 5,
   "id": "88074b87",
   "metadata": {
    "execution": {
     "iopub.execute_input": "2022-10-02T01:20:09.464254Z",
     "iopub.status.busy": "2022-10-02T01:20:09.463384Z",
     "iopub.status.idle": "2022-10-02T01:20:09.484819Z",
     "shell.execute_reply": "2022-10-02T01:20:09.483681Z"
    },
    "papermill": {
     "duration": 0.030886,
     "end_time": "2022-10-02T01:20:09.487022",
     "exception": false,
     "start_time": "2022-10-02T01:20:09.456136",
     "status": "completed"
    },
    "tags": []
   },
   "outputs": [
    {
     "name": "stdout",
     "output_type": "stream",
     "text": [
      "      LotArea  YearBuilt  1stFlrSF  2ndFlrSF  FullBath  BedroomAbvGr  \\\n",
      "0        8450       2003       856       854         2             3   \n",
      "1        9600       1976      1262         0         2             3   \n",
      "2       11250       2001       920       866         2             3   \n",
      "3        9550       1915       961       756         1             3   \n",
      "4       14260       2000      1145      1053         2             4   \n",
      "...       ...        ...       ...       ...       ...           ...   \n",
      "1455     7917       1999       953       694         2             3   \n",
      "1456    13175       1978      2073         0         2             3   \n",
      "1457     9042       1941      1188      1152         2             4   \n",
      "1458     9717       1950      1078         0         1             2   \n",
      "1459     9937       1965      1256         0         1             3   \n",
      "\n",
      "      TotRmsAbvGrd  \n",
      "0                8  \n",
      "1                6  \n",
      "2                6  \n",
      "3                7  \n",
      "4                9  \n",
      "...            ...  \n",
      "1455             7  \n",
      "1456             7  \n",
      "1457             9  \n",
      "1458             5  \n",
      "1459             6  \n",
      "\n",
      "[1460 rows x 7 columns]\n"
     ]
    },
    {
     "data": {
      "application/javascript": [
       "parent.postMessage({\"jupyterEvent\": \"custom.exercise_interaction\", \"data\": {\"outcomeType\": 1, \"valueTowardsCompletion\": 0.25, \"interactionType\": 1, \"questionType\": 2, \"questionId\": \"2_SelectPredictionData\", \"learnToolsVersion\": \"0.3.4\", \"failureMessage\": \"\", \"exceptionClass\": \"\", \"trace\": \"\"}}, \"*\")"
      ],
      "text/plain": [
       "<IPython.core.display.Javascript object>"
      ]
     },
     "metadata": {},
     "output_type": "display_data"
    },
    {
     "data": {
      "text/markdown": [
       "<span style=\"color:#33cc33\">Correct</span>"
      ],
      "text/plain": [
       "Correct"
      ]
     },
     "metadata": {},
     "output_type": "display_data"
    }
   ],
   "source": [
    "# Create the list of features below\n",
    "feature_names = ['LotArea','YearBuilt', '1stFlrSF', '2ndFlrSF', 'FullBath', 'BedroomAbvGr', 'TotRmsAbvGrd']\n",
    "\n",
    "# Select data corresponding to features in feature_names\n",
    "X = home_data[feature_names]\n",
    "\n",
    "print(X)\n",
    "\n",
    "# Check your answer\n",
    "step_2.check()"
   ]
  },
  {
   "cell_type": "code",
   "execution_count": 6,
   "id": "a1c5e890",
   "metadata": {
    "execution": {
     "iopub.execute_input": "2022-10-02T01:20:09.502166Z",
     "iopub.status.busy": "2022-10-02T01:20:09.501740Z",
     "iopub.status.idle": "2022-10-02T01:20:09.507051Z",
     "shell.execute_reply": "2022-10-02T01:20:09.505741Z"
    },
    "papermill": {
     "duration": 0.015694,
     "end_time": "2022-10-02T01:20:09.509519",
     "exception": false,
     "start_time": "2022-10-02T01:20:09.493825",
     "status": "completed"
    },
    "tags": []
   },
   "outputs": [],
   "source": [
    "# step_2.hint()\n",
    "# step_2.solution()"
   ]
  },
  {
   "cell_type": "markdown",
   "id": "f4d4bdf8",
   "metadata": {
    "papermill": {
     "duration": 0.008275,
     "end_time": "2022-10-02T01:20:09.525268",
     "exception": false,
     "start_time": "2022-10-02T01:20:09.516993",
     "status": "completed"
    },
    "tags": []
   },
   "source": [
    "## Review Data\n",
    "Before building a model, take a quick look at **X** to verify it looks sensible"
   ]
  },
  {
   "cell_type": "code",
   "execution_count": 7,
   "id": "a44329a5",
   "metadata": {
    "execution": {
     "iopub.execute_input": "2022-10-02T01:20:09.541604Z",
     "iopub.status.busy": "2022-10-02T01:20:09.541127Z",
     "iopub.status.idle": "2022-10-02T01:20:09.578880Z",
     "shell.execute_reply": "2022-10-02T01:20:09.577453Z"
    },
    "papermill": {
     "duration": 0.048773,
     "end_time": "2022-10-02T01:20:09.581503",
     "exception": false,
     "start_time": "2022-10-02T01:20:09.532730",
     "status": "completed"
    },
    "tags": []
   },
   "outputs": [
    {
     "name": "stdout",
     "output_type": "stream",
     "text": [
      "X.describe():\n",
      "             LotArea    YearBuilt     1stFlrSF     2ndFlrSF     FullBath  \\\n",
      "count    1460.000000  1460.000000  1460.000000  1460.000000  1460.000000   \n",
      "mean    10516.828082  1971.267808  1162.626712   346.992466     1.565068   \n",
      "std      9981.264932    30.202904   386.587738   436.528436     0.550916   \n",
      "min      1300.000000  1872.000000   334.000000     0.000000     0.000000   \n",
      "25%      7553.500000  1954.000000   882.000000     0.000000     1.000000   \n",
      "50%      9478.500000  1973.000000  1087.000000     0.000000     2.000000   \n",
      "75%     11601.500000  2000.000000  1391.250000   728.000000     2.000000   \n",
      "max    215245.000000  2010.000000  4692.000000  2065.000000     3.000000   \n",
      "\n",
      "       BedroomAbvGr  TotRmsAbvGrd  \n",
      "count   1460.000000   1460.000000  \n",
      "mean       2.866438      6.517808  \n",
      "std        0.815778      1.625393  \n",
      "min        0.000000      2.000000  \n",
      "25%        2.000000      5.000000  \n",
      "50%        3.000000      6.000000  \n",
      "75%        3.000000      7.000000  \n",
      "max        8.000000     14.000000  \n",
      "X.head():\n",
      "   LotArea  YearBuilt  1stFlrSF  2ndFlrSF  FullBath  BedroomAbvGr  \\\n",
      "0     8450       2003       856       854         2             3   \n",
      "1     9600       1976      1262         0         2             3   \n",
      "2    11250       2001       920       866         2             3   \n",
      "3     9550       1915       961       756         1             3   \n",
      "4    14260       2000      1145      1053         2             4   \n",
      "\n",
      "   TotRmsAbvGrd  \n",
      "0             8  \n",
      "1             6  \n",
      "2             6  \n",
      "3             7  \n",
      "4             9  \n"
     ]
    }
   ],
   "source": [
    "# Review data\n",
    "# print description or statistics from X\n",
    "print('X.describe():')\n",
    "print(X.describe())\n",
    "\n",
    "# print the top few lines\n",
    "print('X.head():')\n",
    "print(X.head())"
   ]
  },
  {
   "cell_type": "markdown",
   "id": "c6ad55a6",
   "metadata": {
    "papermill": {
     "duration": 0.006413,
     "end_time": "2022-10-02T01:20:09.595041",
     "exception": false,
     "start_time": "2022-10-02T01:20:09.588628",
     "status": "completed"
    },
    "tags": []
   },
   "source": [
    "## Step 3: Specify and Fit Model\n",
    "Create a `DecisionTreeRegressor` and save it iowa_model. Ensure you've done the relevant import from sklearn to run this command.\n",
    "\n",
    "Then fit the model you just created using the data in `X` and `y` that you saved above."
   ]
  },
  {
   "cell_type": "code",
   "execution_count": 8,
   "id": "db6b564a",
   "metadata": {
    "execution": {
     "iopub.execute_input": "2022-10-02T01:20:09.611593Z",
     "iopub.status.busy": "2022-10-02T01:20:09.610226Z",
     "iopub.status.idle": "2022-10-02T01:20:09.630253Z",
     "shell.execute_reply": "2022-10-02T01:20:09.628988Z"
    },
    "papermill": {
     "duration": 0.030346,
     "end_time": "2022-10-02T01:20:09.632927",
     "exception": false,
     "start_time": "2022-10-02T01:20:09.602581",
     "status": "completed"
    },
    "tags": []
   },
   "outputs": [
    {
     "data": {
      "application/javascript": [
       "parent.postMessage({\"jupyterEvent\": \"custom.exercise_interaction\", \"data\": {\"outcomeType\": 1, \"valueTowardsCompletion\": 0.25, \"interactionType\": 1, \"questionType\": 2, \"questionId\": \"3_CreateModel\", \"learnToolsVersion\": \"0.3.4\", \"failureMessage\": \"\", \"exceptionClass\": \"\", \"trace\": \"\"}}, \"*\")"
      ],
      "text/plain": [
       "<IPython.core.display.Javascript object>"
      ]
     },
     "metadata": {},
     "output_type": "display_data"
    },
    {
     "data": {
      "text/markdown": [
       "<span style=\"color:#33cc33\">Correct</span>"
      ],
      "text/plain": [
       "Correct"
      ]
     },
     "metadata": {},
     "output_type": "display_data"
    }
   ],
   "source": [
    "from sklearn.tree import DecisionTreeRegressor\n",
    "#specify the model. \n",
    "#For model reproducibility, set a numeric value for random_state when specifying the model\n",
    "iowa_model = DecisionTreeRegressor(random_state=1)\n",
    "\n",
    "# Fit the model\n",
    "iowa_model.fit(X, y)\n",
    "\n",
    "# Check your answer\n",
    "step_3.check()"
   ]
  },
  {
   "cell_type": "code",
   "execution_count": 9,
   "id": "b6723f03",
   "metadata": {
    "execution": {
     "iopub.execute_input": "2022-10-02T01:20:09.648883Z",
     "iopub.status.busy": "2022-10-02T01:20:09.648400Z",
     "iopub.status.idle": "2022-10-02T01:20:09.652978Z",
     "shell.execute_reply": "2022-10-02T01:20:09.651787Z"
    },
    "papermill": {
     "duration": 0.015215,
     "end_time": "2022-10-02T01:20:09.655193",
     "exception": false,
     "start_time": "2022-10-02T01:20:09.639978",
     "status": "completed"
    },
    "tags": []
   },
   "outputs": [],
   "source": [
    "# step_3.hint()\n",
    "# step_3.solution()"
   ]
  },
  {
   "cell_type": "markdown",
   "id": "fb491998",
   "metadata": {
    "papermill": {
     "duration": 0.006317,
     "end_time": "2022-10-02T01:20:09.668230",
     "exception": false,
     "start_time": "2022-10-02T01:20:09.661913",
     "status": "completed"
    },
    "tags": []
   },
   "source": [
    "## Step 4: Make Predictions\n",
    "Make predictions with the model's `predict` command using `X` as the data. Save the results to a variable called `predictions`."
   ]
  },
  {
   "cell_type": "code",
   "execution_count": 10,
   "id": "b08b6961",
   "metadata": {
    "execution": {
     "iopub.execute_input": "2022-10-02T01:20:09.683178Z",
     "iopub.status.busy": "2022-10-02T01:20:09.682712Z",
     "iopub.status.idle": "2022-10-02T01:20:09.698713Z",
     "shell.execute_reply": "2022-10-02T01:20:09.697519Z"
    },
    "papermill": {
     "duration": 0.02631,
     "end_time": "2022-10-02T01:20:09.701051",
     "exception": false,
     "start_time": "2022-10-02T01:20:09.674741",
     "status": "completed"
    },
    "tags": []
   },
   "outputs": [
    {
     "name": "stdout",
     "output_type": "stream",
     "text": [
      "[208500. 181500. 223500. ... 266500. 142125. 147500.]\n"
     ]
    },
    {
     "data": {
      "application/javascript": [
       "parent.postMessage({\"jupyterEvent\": \"custom.exercise_interaction\", \"data\": {\"outcomeType\": 1, \"valueTowardsCompletion\": 0.25, \"interactionType\": 1, \"questionType\": 2, \"questionId\": \"4_MakePredictions\", \"learnToolsVersion\": \"0.3.4\", \"failureMessage\": \"\", \"exceptionClass\": \"\", \"trace\": \"\"}}, \"*\")"
      ],
      "text/plain": [
       "<IPython.core.display.Javascript object>"
      ]
     },
     "metadata": {},
     "output_type": "display_data"
    },
    {
     "data": {
      "text/markdown": [
       "<span style=\"color:#33cc33\">Correct</span>"
      ],
      "text/plain": [
       "Correct"
      ]
     },
     "metadata": {},
     "output_type": "display_data"
    }
   ],
   "source": [
    "predictions = iowa_model.predict(X)\n",
    "print(predictions)\n",
    "\n",
    "# Check your answer\n",
    "step_4.check()"
   ]
  },
  {
   "cell_type": "code",
   "execution_count": 11,
   "id": "7a296d30",
   "metadata": {
    "execution": {
     "iopub.execute_input": "2022-10-02T01:20:09.718582Z",
     "iopub.status.busy": "2022-10-02T01:20:09.718120Z",
     "iopub.status.idle": "2022-10-02T01:20:09.723794Z",
     "shell.execute_reply": "2022-10-02T01:20:09.722404Z"
    },
    "papermill": {
     "duration": 0.01791,
     "end_time": "2022-10-02T01:20:09.726113",
     "exception": false,
     "start_time": "2022-10-02T01:20:09.708203",
     "status": "completed"
    },
    "tags": []
   },
   "outputs": [],
   "source": [
    "# step_4.hint()\n",
    "# step_4.solution()"
   ]
  },
  {
   "cell_type": "markdown",
   "id": "954eae7f",
   "metadata": {
    "papermill": {
     "duration": 0.006641,
     "end_time": "2022-10-02T01:20:09.739641",
     "exception": false,
     "start_time": "2022-10-02T01:20:09.733000",
     "status": "completed"
    },
    "tags": []
   },
   "source": [
    "## Think About Your Results\n",
    "\n",
    "Use the `head` method to compare the top few predictions to the actual home values (in `y`) for those same homes. Anything surprising?\n"
   ]
  },
  {
   "cell_type": "code",
   "execution_count": 12,
   "id": "a2215a32",
   "metadata": {
    "execution": {
     "iopub.execute_input": "2022-10-02T01:20:09.755691Z",
     "iopub.status.busy": "2022-10-02T01:20:09.755261Z",
     "iopub.status.idle": "2022-10-02T01:20:09.764828Z",
     "shell.execute_reply": "2022-10-02T01:20:09.763480Z"
    },
    "papermill": {
     "duration": 0.020476,
     "end_time": "2022-10-02T01:20:09.767320",
     "exception": false,
     "start_time": "2022-10-02T01:20:09.746844",
     "status": "completed"
    },
    "tags": []
   },
   "outputs": [
    {
     "name": "stdout",
     "output_type": "stream",
     "text": [
      "[208500. 181500. 223500. 140000. 250000.]\n"
     ]
    }
   ],
   "source": [
    "# You can write code in this cell\n",
    "predictions2 = iowa_model.predict(X.head())\n",
    "print(predictions2)\n"
   ]
  },
  {
   "cell_type": "code",
   "execution_count": null,
   "id": "b9842e67",
   "metadata": {
    "papermill": {
     "duration": 0.007016,
     "end_time": "2022-10-02T01:20:09.781601",
     "exception": false,
     "start_time": "2022-10-02T01:20:09.774585",
     "status": "completed"
    },
    "tags": []
   },
   "outputs": [],
   "source": []
  },
  {
   "cell_type": "markdown",
   "id": "cbf24e73",
   "metadata": {
    "papermill": {
     "duration": 0.007217,
     "end_time": "2022-10-02T01:20:09.796421",
     "exception": false,
     "start_time": "2022-10-02T01:20:09.789204",
     "status": "completed"
    },
    "tags": []
   },
   "source": [
    "It's natural to ask how accurate the model's predictions will be and how you can improve that. That will be you're next step.\n",
    "\n",
    "# Keep Going\n",
    "\n",
    "You are ready for **[Model Validation](https://www.kaggle.com/dansbecker/model-validation).**\n"
   ]
  },
  {
   "cell_type": "markdown",
   "id": "f2c6b240",
   "metadata": {
    "papermill": {
     "duration": 0.006675,
     "end_time": "2022-10-02T01:20:09.810180",
     "exception": false,
     "start_time": "2022-10-02T01:20:09.803505",
     "status": "completed"
    },
    "tags": []
   },
   "source": [
    "---\n",
    "\n",
    "\n",
    "\n",
    "\n",
    "*Have questions or comments? Visit the [course discussion forum](https://www.kaggle.com/learn/intro-to-machine-learning/discussion) to chat with other learners.*"
   ]
  }
 ],
 "metadata": {
  "kernelspec": {
   "display_name": "Python 3",
   "language": "python",
   "name": "python3"
  },
  "language_info": {
   "codemirror_mode": {
    "name": "ipython",
    "version": 3
   },
   "file_extension": ".py",
   "mimetype": "text/x-python",
   "name": "python",
   "nbconvert_exporter": "python",
   "pygments_lexer": "ipython3",
   "version": "3.7.12"
  },
  "papermill": {
   "default_parameters": {},
   "duration": 12.522945,
   "end_time": "2022-10-02T01:20:10.639487",
   "environment_variables": {},
   "exception": null,
   "input_path": "__notebook__.ipynb",
   "output_path": "__notebook__.ipynb",
   "parameters": {},
   "start_time": "2022-10-02T01:19:58.116542",
   "version": "2.3.4"
  }
 },
 "nbformat": 4,
 "nbformat_minor": 5
}
