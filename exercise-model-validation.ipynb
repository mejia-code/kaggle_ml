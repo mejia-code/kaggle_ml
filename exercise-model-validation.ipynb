{
 "cells": [
  {
   "cell_type": "markdown",
   "id": "06320ede",
   "metadata": {
    "papermill": {
     "duration": 0.005551,
     "end_time": "2022-10-02T02:41:58.601092",
     "exception": false,
     "start_time": "2022-10-02T02:41:58.595541",
     "status": "completed"
    },
    "tags": []
   },
   "source": [
    "**This notebook is an exercise in the [Introduction to Machine Learning](https://www.kaggle.com/learn/intro-to-machine-learning) course.  You can reference the tutorial at [this link](https://www.kaggle.com/dansbecker/model-validation).**\n",
    "\n",
    "---\n"
   ]
  },
  {
   "cell_type": "markdown",
   "id": "874f9dd6",
   "metadata": {
    "papermill": {
     "duration": 0.003857,
     "end_time": "2022-10-02T02:41:58.609340",
     "exception": false,
     "start_time": "2022-10-02T02:41:58.605483",
     "status": "completed"
    },
    "tags": []
   },
   "source": [
    "## Recap\n",
    "You've built a model. In this exercise you will test how good your model is.\n",
    "\n",
    "Run the cell below to set up your coding environment where the previous exercise left off."
   ]
  },
  {
   "cell_type": "code",
   "execution_count": 1,
   "id": "bb40491b",
   "metadata": {
    "execution": {
     "iopub.execute_input": "2022-10-02T02:41:58.619877Z",
     "iopub.status.busy": "2022-10-02T02:41:58.619098Z",
     "iopub.status.idle": "2022-10-02T02:42:00.076035Z",
     "shell.execute_reply": "2022-10-02T02:42:00.074895Z"
    },
    "papermill": {
     "duration": 1.465577,
     "end_time": "2022-10-02T02:42:00.078993",
     "exception": false,
     "start_time": "2022-10-02T02:41:58.613416",
     "status": "completed"
    },
    "tags": []
   },
   "outputs": [
    {
     "name": "stdout",
     "output_type": "stream",
     "text": [
      "First in-sample predictions: [208500. 181500. 223500. 140000. 250000.]\n",
      "Actual target values for those homes: [208500, 181500, 223500, 140000, 250000]\n",
      "Setup Complete\n"
     ]
    }
   ],
   "source": [
    "# Code you have previously used to load data\n",
    "import pandas as pd\n",
    "from sklearn.tree import DecisionTreeRegressor\n",
    "\n",
    "# Path of the file to read\n",
    "iowa_file_path = '../input/home-data-for-ml-course/train.csv'\n",
    "\n",
    "home_data = pd.read_csv(iowa_file_path)\n",
    "y = home_data.SalePrice\n",
    "feature_columns = ['LotArea', 'YearBuilt', '1stFlrSF', '2ndFlrSF', 'FullBath', 'BedroomAbvGr', 'TotRmsAbvGrd']\n",
    "X = home_data[feature_columns]\n",
    "\n",
    "# Specify Model\n",
    "iowa_model = DecisionTreeRegressor()\n",
    "# Fit Model\n",
    "iowa_model.fit(X, y)\n",
    "\n",
    "print(\"First in-sample predictions:\", iowa_model.predict(X.head()))\n",
    "print(\"Actual target values for those homes:\", y.head().tolist())\n",
    "\n",
    "# Set up code checking\n",
    "from learntools.core import binder\n",
    "binder.bind(globals())\n",
    "from learntools.machine_learning.ex4 import *\n",
    "print(\"Setup Complete\")"
   ]
  },
  {
   "cell_type": "markdown",
   "id": "d860257b",
   "metadata": {
    "papermill": {
     "duration": 0.004113,
     "end_time": "2022-10-02T02:42:00.087717",
     "exception": false,
     "start_time": "2022-10-02T02:42:00.083604",
     "status": "completed"
    },
    "tags": []
   },
   "source": [
    "# Exercises\n",
    "\n",
    "## Step 1: Split Your Data\n",
    "Use the `train_test_split` function to split up your data.\n",
    "\n",
    "Give it the argument `random_state=1` so the `check` functions know what to expect when verifying your code.\n",
    "\n",
    "Recall, your features are loaded in the DataFrame **X** and your target is loaded in **y**.\n"
   ]
  },
  {
   "cell_type": "code",
   "execution_count": 2,
   "id": "c19e94f6",
   "metadata": {
    "execution": {
     "iopub.execute_input": "2022-10-02T02:42:00.098447Z",
     "iopub.status.busy": "2022-10-02T02:42:00.098000Z",
     "iopub.status.idle": "2022-10-02T02:42:00.108069Z",
     "shell.execute_reply": "2022-10-02T02:42:00.106958Z"
    },
    "papermill": {
     "duration": 0.018129,
     "end_time": "2022-10-02T02:42:00.110275",
     "exception": false,
     "start_time": "2022-10-02T02:42:00.092146",
     "status": "completed"
    },
    "tags": []
   },
   "outputs": [
    {
     "data": {
      "application/javascript": [
       "parent.postMessage({\"jupyterEvent\": \"custom.exercise_interaction\", \"data\": {\"outcomeType\": 2, \"failureMessage\": \"You still need to define the following variables: `val_X`, `train_y`, `val_y`, `train_X`\", \"interactionType\": 1, \"questionType\": 2, \"questionId\": \"1_SplitData\", \"learnToolsVersion\": \"0.3.4\", \"valueTowardsCompletion\": 0.0, \"exceptionClass\": \"\", \"trace\": \"\"}}, \"*\")"
      ],
      "text/plain": [
       "<IPython.core.display.Javascript object>"
      ]
     },
     "metadata": {},
     "output_type": "display_data"
    },
    {
     "data": {
      "text/markdown": [
       "<span style=\"color:#cc3333\">Incorrect:</span> You still need to define the following variables: `val_X`, `train_y`, `val_y`, `train_X`"
      ],
      "text/plain": [
       "Incorrect: You still need to define the following variables: `val_X`, `train_y`, `val_y`, `train_X`"
      ]
     },
     "metadata": {},
     "output_type": "display_data"
    }
   ],
   "source": [
    "# Import the train_test_split function and uncomment\n",
    "# from _ import _\n",
    "\n",
    "# fill in and uncomment\n",
    "# train_X, val_X, train_y, val_y = ____\n",
    "\n",
    "# Check your answer\n",
    "step_1.check()"
   ]
  },
  {
   "cell_type": "code",
   "execution_count": 3,
   "id": "1364352f",
   "metadata": {
    "execution": {
     "iopub.execute_input": "2022-10-02T02:42:00.123245Z",
     "iopub.status.busy": "2022-10-02T02:42:00.121006Z",
     "iopub.status.idle": "2022-10-02T02:42:00.127199Z",
     "shell.execute_reply": "2022-10-02T02:42:00.125999Z"
    },
    "papermill": {
     "duration": 0.014678,
     "end_time": "2022-10-02T02:42:00.129764",
     "exception": false,
     "start_time": "2022-10-02T02:42:00.115086",
     "status": "completed"
    },
    "tags": []
   },
   "outputs": [],
   "source": [
    "# The lines below will show you a hint or the solution.\n",
    "# step_1.hint() \n",
    "# step_1.solution()\n"
   ]
  },
  {
   "cell_type": "markdown",
   "id": "357221a5",
   "metadata": {
    "papermill": {
     "duration": 0.004251,
     "end_time": "2022-10-02T02:42:00.138701",
     "exception": false,
     "start_time": "2022-10-02T02:42:00.134450",
     "status": "completed"
    },
    "tags": []
   },
   "source": [
    "## Step 2: Specify and Fit the Model\n",
    "\n",
    "Create a `DecisionTreeRegressor` model and fit it to the relevant data.\n",
    "Set `random_state` to 1 again when creating the model."
   ]
  },
  {
   "cell_type": "code",
   "execution_count": 4,
   "id": "84b5f882",
   "metadata": {
    "execution": {
     "iopub.execute_input": "2022-10-02T02:42:00.150032Z",
     "iopub.status.busy": "2022-10-02T02:42:00.149067Z",
     "iopub.status.idle": "2022-10-02T02:42:00.159300Z",
     "shell.execute_reply": "2022-10-02T02:42:00.158348Z"
    },
    "papermill": {
     "duration": 0.018409,
     "end_time": "2022-10-02T02:42:00.161613",
     "exception": false,
     "start_time": "2022-10-02T02:42:00.143204",
     "status": "completed"
    },
    "tags": []
   },
   "outputs": [
    {
     "data": {
      "application/javascript": [
       "parent.postMessage({\"jupyterEvent\": \"custom.exercise_interaction\", \"data\": {\"outcomeType\": 2, \"failureMessage\": \"You still need to define the following variables: `val_X`, `train_X`, `train_y`\", \"interactionType\": 1, \"questionType\": 2, \"questionId\": \"2_FitModelWithTrain\", \"learnToolsVersion\": \"0.3.4\", \"valueTowardsCompletion\": 0.0, \"exceptionClass\": \"\", \"trace\": \"\"}}, \"*\")"
      ],
      "text/plain": [
       "<IPython.core.display.Javascript object>"
      ]
     },
     "metadata": {},
     "output_type": "display_data"
    },
    {
     "data": {
      "text/markdown": [
       "<span style=\"color:#cc3333\">Incorrect:</span> You still need to define the following variables: `val_X`, `train_X`, `train_y`"
      ],
      "text/plain": [
       "Incorrect: You still need to define the following variables: `val_X`, `train_X`, `train_y`"
      ]
     },
     "metadata": {},
     "output_type": "display_data"
    }
   ],
   "source": [
    "# You imported DecisionTreeRegressor in your last exercise\n",
    "# and that code has been copied to the setup code above. So, no need to\n",
    "# import it again\n",
    "\n",
    "# Specify the model\n",
    "iowa_model = ____\n",
    "\n",
    "# Fit iowa_model with the training data.\n",
    "____\n",
    "\n",
    "# Check your answer\n",
    "step_2.check()"
   ]
  },
  {
   "cell_type": "code",
   "execution_count": 5,
   "id": "6838d4d5",
   "metadata": {
    "execution": {
     "iopub.execute_input": "2022-10-02T02:42:00.173804Z",
     "iopub.status.busy": "2022-10-02T02:42:00.173060Z",
     "iopub.status.idle": "2022-10-02T02:42:00.177729Z",
     "shell.execute_reply": "2022-10-02T02:42:00.176636Z"
    },
    "papermill": {
     "duration": 0.013226,
     "end_time": "2022-10-02T02:42:00.180023",
     "exception": false,
     "start_time": "2022-10-02T02:42:00.166797",
     "status": "completed"
    },
    "tags": []
   },
   "outputs": [],
   "source": [
    "# step_2.hint()\n",
    "# step_2.solution()"
   ]
  },
  {
   "cell_type": "markdown",
   "id": "eb2bdda0",
   "metadata": {
    "papermill": {
     "duration": 0.004664,
     "end_time": "2022-10-02T02:42:00.189724",
     "exception": false,
     "start_time": "2022-10-02T02:42:00.185060",
     "status": "completed"
    },
    "tags": []
   },
   "source": [
    "## Step 3: Make Predictions with Validation data\n"
   ]
  },
  {
   "cell_type": "code",
   "execution_count": 6,
   "id": "cdb45fbd",
   "metadata": {
    "execution": {
     "iopub.execute_input": "2022-10-02T02:42:00.201439Z",
     "iopub.status.busy": "2022-10-02T02:42:00.201037Z",
     "iopub.status.idle": "2022-10-02T02:42:00.209806Z",
     "shell.execute_reply": "2022-10-02T02:42:00.208979Z"
    },
    "papermill": {
     "duration": 0.017091,
     "end_time": "2022-10-02T02:42:00.211764",
     "exception": false,
     "start_time": "2022-10-02T02:42:00.194673",
     "status": "completed"
    },
    "tags": []
   },
   "outputs": [
    {
     "data": {
      "application/javascript": [
       "parent.postMessage({\"jupyterEvent\": \"custom.exercise_interaction\", \"data\": {\"outcomeType\": 2, \"failureMessage\": \"You still need to define the following variables: `val_X`\", \"interactionType\": 1, \"questionType\": 2, \"questionId\": \"3_ValPreds\", \"learnToolsVersion\": \"0.3.4\", \"valueTowardsCompletion\": 0.0, \"exceptionClass\": \"\", \"trace\": \"\"}}, \"*\")"
      ],
      "text/plain": [
       "<IPython.core.display.Javascript object>"
      ]
     },
     "metadata": {},
     "output_type": "display_data"
    },
    {
     "data": {
      "text/markdown": [
       "<span style=\"color:#cc3333\">Incorrect:</span> You still need to define the following variables: `val_X`"
      ],
      "text/plain": [
       "Incorrect: You still need to define the following variables: `val_X`"
      ]
     },
     "metadata": {},
     "output_type": "display_data"
    }
   ],
   "source": [
    "# Predict with all validation observations\n",
    "val_predictions = ____\n",
    "\n",
    "# Check your answer\n",
    "step_3.check()"
   ]
  },
  {
   "cell_type": "code",
   "execution_count": 7,
   "id": "7f49a959",
   "metadata": {
    "execution": {
     "iopub.execute_input": "2022-10-02T02:42:00.223821Z",
     "iopub.status.busy": "2022-10-02T02:42:00.223427Z",
     "iopub.status.idle": "2022-10-02T02:42:00.227060Z",
     "shell.execute_reply": "2022-10-02T02:42:00.226043Z"
    },
    "papermill": {
     "duration": 0.01231,
     "end_time": "2022-10-02T02:42:00.229274",
     "exception": false,
     "start_time": "2022-10-02T02:42:00.216964",
     "status": "completed"
    },
    "tags": []
   },
   "outputs": [],
   "source": [
    "# step_3.hint()\n",
    "# step_3.solution()"
   ]
  },
  {
   "cell_type": "markdown",
   "id": "ad338ade",
   "metadata": {
    "papermill": {
     "duration": 0.00501,
     "end_time": "2022-10-02T02:42:00.239667",
     "exception": false,
     "start_time": "2022-10-02T02:42:00.234657",
     "status": "completed"
    },
    "tags": []
   },
   "source": [
    "Inspect your predictions and actual values from validation data."
   ]
  },
  {
   "cell_type": "code",
   "execution_count": 8,
   "id": "035c333e",
   "metadata": {
    "execution": {
     "iopub.execute_input": "2022-10-02T02:42:00.251868Z",
     "iopub.status.busy": "2022-10-02T02:42:00.251416Z",
     "iopub.status.idle": "2022-10-02T02:42:00.257250Z",
     "shell.execute_reply": "2022-10-02T02:42:00.256098Z"
    },
    "papermill": {
     "duration": 0.014719,
     "end_time": "2022-10-02T02:42:00.259683",
     "exception": false,
     "start_time": "2022-10-02T02:42:00.244964",
     "status": "completed"
    },
    "tags": []
   },
   "outputs": [
    {
     "name": "stdout",
     "output_type": "stream",
     "text": [
      "<learntools.core.constants.PlaceholderValue object at 0x7f71ccd88510>\n",
      "<learntools.core.constants.PlaceholderValue object at 0x7f71ccd88510>\n"
     ]
    }
   ],
   "source": [
    "# print the top few validation predictions\n",
    "print(____)\n",
    "# print the top few actual prices from validation data\n",
    "print(____)"
   ]
  },
  {
   "cell_type": "markdown",
   "id": "26963263",
   "metadata": {
    "papermill": {
     "duration": 0.00505,
     "end_time": "2022-10-02T02:42:00.271237",
     "exception": false,
     "start_time": "2022-10-02T02:42:00.266187",
     "status": "completed"
    },
    "tags": []
   },
   "source": [
    "What do you notice that is different from what you saw with in-sample predictions (which are printed after the top code cell in this page).\n",
    "\n",
    "Do you remember why validation predictions differ from in-sample (or training) predictions? This is an important idea from the last lesson.\n",
    "\n",
    "## Step 4: Calculate the Mean Absolute Error in Validation Data\n"
   ]
  },
  {
   "cell_type": "code",
   "execution_count": 9,
   "id": "25baadec",
   "metadata": {
    "execution": {
     "iopub.execute_input": "2022-10-02T02:42:00.283672Z",
     "iopub.status.busy": "2022-10-02T02:42:00.283242Z",
     "iopub.status.idle": "2022-10-02T02:42:00.292049Z",
     "shell.execute_reply": "2022-10-02T02:42:00.291005Z"
    },
    "papermill": {
     "duration": 0.017916,
     "end_time": "2022-10-02T02:42:00.294419",
     "exception": false,
     "start_time": "2022-10-02T02:42:00.276503",
     "status": "completed"
    },
    "tags": []
   },
   "outputs": [
    {
     "data": {
      "application/javascript": [
       "parent.postMessage({\"jupyterEvent\": \"custom.exercise_interaction\", \"data\": {\"outcomeType\": 4, \"interactionType\": 1, \"questionType\": 1, \"questionId\": \"4_MAE\", \"learnToolsVersion\": \"0.3.4\", \"valueTowardsCompletion\": 0.0, \"failureMessage\": \"\", \"exceptionClass\": \"\", \"trace\": \"\"}}, \"*\")"
      ],
      "text/plain": [
       "<IPython.core.display.Javascript object>"
      ]
     },
     "metadata": {},
     "output_type": "display_data"
    },
    {
     "data": {
      "text/markdown": [
       "<span style=\"color:#ccaa33\">Check:</span> When you've updated the starter code, `check()` will tell you whether your code is correct. You need to update the code that creates variable `val_mae`"
      ],
      "text/plain": [
       "Check: When you've updated the starter code, `check()` will tell you whether your code is correct. You need to update the code that creates variable `val_mae`"
      ]
     },
     "metadata": {},
     "output_type": "display_data"
    }
   ],
   "source": [
    "from sklearn.metrics import mean_absolute_error\n",
    "val_mae = ____\n",
    "\n",
    "# uncomment following line to see the validation_mae\n",
    "#print(val_mae)\n",
    "\n",
    "# Check your answer\n",
    "step_4.check()"
   ]
  },
  {
   "cell_type": "code",
   "execution_count": 10,
   "id": "ea06c24d",
   "metadata": {
    "execution": {
     "iopub.execute_input": "2022-10-02T02:42:00.307914Z",
     "iopub.status.busy": "2022-10-02T02:42:00.307432Z",
     "iopub.status.idle": "2022-10-02T02:42:00.311835Z",
     "shell.execute_reply": "2022-10-02T02:42:00.310624Z"
    },
    "papermill": {
     "duration": 0.013977,
     "end_time": "2022-10-02T02:42:00.314102",
     "exception": false,
     "start_time": "2022-10-02T02:42:00.300125",
     "status": "completed"
    },
    "tags": []
   },
   "outputs": [],
   "source": [
    "# step_4.hint()\n",
    "# step_4.solution()"
   ]
  },
  {
   "cell_type": "markdown",
   "id": "b424d8ff",
   "metadata": {
    "papermill": {
     "duration": 0.005261,
     "end_time": "2022-10-02T02:42:00.325098",
     "exception": false,
     "start_time": "2022-10-02T02:42:00.319837",
     "status": "completed"
    },
    "tags": []
   },
   "source": [
    "Is that MAE good?  There isn't a general rule for what values are good that applies across applications. But you'll see how to use (and improve) this number in the next step.\n",
    "\n",
    "# Keep Going\n",
    "\n",
    "You are ready for **[Underfitting and Overfitting](https://www.kaggle.com/dansbecker/underfitting-and-overfitting).**\n"
   ]
  },
  {
   "cell_type": "markdown",
   "id": "cc3179a1",
   "metadata": {
    "papermill": {
     "duration": 0.005252,
     "end_time": "2022-10-02T02:42:00.335911",
     "exception": false,
     "start_time": "2022-10-02T02:42:00.330659",
     "status": "completed"
    },
    "tags": []
   },
   "source": [
    "---\n",
    "\n",
    "\n",
    "\n",
    "\n",
    "*Have questions or comments? Visit the [course discussion forum](https://www.kaggle.com/learn/intro-to-machine-learning/discussion) to chat with other learners.*"
   ]
  }
 ],
 "metadata": {
  "kernelspec": {
   "display_name": "Python 3",
   "language": "python",
   "name": "python3"
  },
  "language_info": {
   "codemirror_mode": {
    "name": "ipython",
    "version": 3
   },
   "file_extension": ".py",
   "mimetype": "text/x-python",
   "name": "python",
   "nbconvert_exporter": "python",
   "pygments_lexer": "ipython3",
   "version": "3.7.12"
  },
  "papermill": {
   "default_parameters": {},
   "duration": 11.97615,
   "end_time": "2022-10-02T02:42:01.163724",
   "environment_variables": {},
   "exception": null,
   "input_path": "__notebook__.ipynb",
   "output_path": "__notebook__.ipynb",
   "parameters": {},
   "start_time": "2022-10-02T02:41:49.187574",
   "version": "2.3.4"
  }
 },
 "nbformat": 4,
 "nbformat_minor": 5
}
