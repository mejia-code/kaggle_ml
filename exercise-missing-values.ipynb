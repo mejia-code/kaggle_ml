{
 "cells": [
  {
   "cell_type": "markdown",
   "id": "2e5c15b8",
   "metadata": {
    "papermill": {
     "duration": 0.012112,
     "end_time": "2022-11-08T04:00:51.064121",
     "exception": false,
     "start_time": "2022-11-08T04:00:51.052009",
     "status": "completed"
    },
    "tags": []
   },
   "source": [
    "**This notebook is an exercise in the [Intermediate Machine Learning](https://www.kaggle.com/learn/intermediate-machine-learning) course.  You can reference the tutorial at [this link](https://www.kaggle.com/alexisbcook/missing-values).**\n",
    "\n",
    "---\n"
   ]
  },
  {
   "cell_type": "markdown",
   "id": "c40cda21",
   "metadata": {
    "papermill": {
     "duration": 0.013084,
     "end_time": "2022-11-08T04:00:51.089201",
     "exception": false,
     "start_time": "2022-11-08T04:00:51.076117",
     "status": "completed"
    },
    "tags": []
   },
   "source": [
    "Now it's your turn to test your new knowledge of **missing values** handling. You'll probably find it makes a big difference.\n",
    "\n",
    "# Setup\n",
    "\n",
    "The questions will give you feedback on your work. Run the following cell to set up the feedback system."
   ]
  },
  {
   "cell_type": "code",
   "execution_count": 1,
   "id": "d489966e",
   "metadata": {
    "execution": {
     "iopub.execute_input": "2022-11-08T04:00:51.120290Z",
     "iopub.status.busy": "2022-11-08T04:00:51.118619Z",
     "iopub.status.idle": "2022-11-08T04:00:51.199055Z",
     "shell.execute_reply": "2022-11-08T04:00:51.197604Z"
    },
    "papermill": {
     "duration": 0.100471,
     "end_time": "2022-11-08T04:00:51.202340",
     "exception": false,
     "start_time": "2022-11-08T04:00:51.101869",
     "status": "completed"
    },
    "tags": []
   },
   "outputs": [
    {
     "name": "stdout",
     "output_type": "stream",
     "text": [
      "Setup Complete\n"
     ]
    }
   ],
   "source": [
    "# Set up code checking\n",
    "import os\n",
    "if not os.path.exists(\"../input/train.csv\"):\n",
    "    os.symlink(\"../input/home-data-for-ml-course/train.csv\", \"../input/train.csv\")  \n",
    "    os.symlink(\"../input/home-data-for-ml-course/test.csv\", \"../input/test.csv\") \n",
    "from learntools.core import binder\n",
    "binder.bind(globals())\n",
    "from learntools.ml_intermediate.ex2 import *\n",
    "print(\"Setup Complete\")"
   ]
  },
  {
   "cell_type": "markdown",
   "id": "3be6b2bf",
   "metadata": {
    "papermill": {
     "duration": 0.010144,
     "end_time": "2022-11-08T04:00:51.223881",
     "exception": false,
     "start_time": "2022-11-08T04:00:51.213737",
     "status": "completed"
    },
    "tags": []
   },
   "source": [
    "In this exercise, you will work with data from the [Housing Prices Competition for Kaggle Learn Users](https://www.kaggle.com/c/home-data-for-ml-course). \n",
    "\n",
    "![Ames Housing dataset image](https://i.imgur.com/lTJVG4e.png)\n",
    "\n",
    "Run the next code cell without changes to load the training and validation sets in `X_train`, `X_valid`, `y_train`, and `y_valid`.  The test set is loaded in `X_test`."
   ]
  },
  {
   "cell_type": "code",
   "execution_count": 2,
   "id": "3283a4e6",
   "metadata": {
    "execution": {
     "iopub.execute_input": "2022-11-08T04:00:51.249052Z",
     "iopub.status.busy": "2022-11-08T04:00:51.248587Z",
     "iopub.status.idle": "2022-11-08T04:00:52.746382Z",
     "shell.execute_reply": "2022-11-08T04:00:52.744819Z"
    },
    "papermill": {
     "duration": 1.514247,
     "end_time": "2022-11-08T04:00:52.749559",
     "exception": false,
     "start_time": "2022-11-08T04:00:51.235312",
     "status": "completed"
    },
    "tags": []
   },
   "outputs": [],
   "source": [
    "import pandas as pd\n",
    "from sklearn.model_selection import train_test_split\n",
    "\n",
    "# Read the data\n",
    "X_full = pd.read_csv('../input/train.csv', index_col='Id')\n",
    "X_test_full = pd.read_csv('../input/test.csv', index_col='Id')\n",
    "\n",
    "# Remove rows with missing target, separate target from predictors\n",
    "X_full.dropna(axis=0, subset=['SalePrice'], inplace=True)\n",
    "y = X_full.SalePrice\n",
    "X_full.drop(['SalePrice'], axis=1, inplace=True)\n",
    "\n",
    "# To keep things simple, we'll use only numerical predictors\n",
    "X = X_full.select_dtypes(exclude=['object'])\n",
    "X_test = X_test_full.select_dtypes(exclude=['object'])\n",
    "\n",
    "# Break off validation set from training data\n",
    "X_train, X_valid, y_train, y_valid = train_test_split(X, y, train_size=0.8, test_size=0.2,\n",
    "                                                      random_state=0)"
   ]
  },
  {
   "cell_type": "markdown",
   "id": "fe9ca966",
   "metadata": {
    "papermill": {
     "duration": 0.010486,
     "end_time": "2022-11-08T04:00:52.771003",
     "exception": false,
     "start_time": "2022-11-08T04:00:52.760517",
     "status": "completed"
    },
    "tags": []
   },
   "source": [
    "Use the next code cell to print the first five rows of the data."
   ]
  },
  {
   "cell_type": "code",
   "execution_count": 3,
   "id": "bb4f84d0",
   "metadata": {
    "execution": {
     "iopub.execute_input": "2022-11-08T04:00:52.795977Z",
     "iopub.status.busy": "2022-11-08T04:00:52.795428Z",
     "iopub.status.idle": "2022-11-08T04:00:52.830714Z",
     "shell.execute_reply": "2022-11-08T04:00:52.829205Z"
    },
    "papermill": {
     "duration": 0.051723,
     "end_time": "2022-11-08T04:00:52.833899",
     "exception": false,
     "start_time": "2022-11-08T04:00:52.782176",
     "status": "completed"
    },
    "scrolled": true,
    "tags": []
   },
   "outputs": [
    {
     "data": {
      "text/html": [
       "<div>\n",
       "<style scoped>\n",
       "    .dataframe tbody tr th:only-of-type {\n",
       "        vertical-align: middle;\n",
       "    }\n",
       "\n",
       "    .dataframe tbody tr th {\n",
       "        vertical-align: top;\n",
       "    }\n",
       "\n",
       "    .dataframe thead th {\n",
       "        text-align: right;\n",
       "    }\n",
       "</style>\n",
       "<table border=\"1\" class=\"dataframe\">\n",
       "  <thead>\n",
       "    <tr style=\"text-align: right;\">\n",
       "      <th></th>\n",
       "      <th>MSSubClass</th>\n",
       "      <th>LotFrontage</th>\n",
       "      <th>LotArea</th>\n",
       "      <th>OverallQual</th>\n",
       "      <th>OverallCond</th>\n",
       "      <th>YearBuilt</th>\n",
       "      <th>YearRemodAdd</th>\n",
       "      <th>MasVnrArea</th>\n",
       "      <th>BsmtFinSF1</th>\n",
       "      <th>BsmtFinSF2</th>\n",
       "      <th>...</th>\n",
       "      <th>GarageArea</th>\n",
       "      <th>WoodDeckSF</th>\n",
       "      <th>OpenPorchSF</th>\n",
       "      <th>EnclosedPorch</th>\n",
       "      <th>3SsnPorch</th>\n",
       "      <th>ScreenPorch</th>\n",
       "      <th>PoolArea</th>\n",
       "      <th>MiscVal</th>\n",
       "      <th>MoSold</th>\n",
       "      <th>YrSold</th>\n",
       "    </tr>\n",
       "    <tr>\n",
       "      <th>Id</th>\n",
       "      <th></th>\n",
       "      <th></th>\n",
       "      <th></th>\n",
       "      <th></th>\n",
       "      <th></th>\n",
       "      <th></th>\n",
       "      <th></th>\n",
       "      <th></th>\n",
       "      <th></th>\n",
       "      <th></th>\n",
       "      <th></th>\n",
       "      <th></th>\n",
       "      <th></th>\n",
       "      <th></th>\n",
       "      <th></th>\n",
       "      <th></th>\n",
       "      <th></th>\n",
       "      <th></th>\n",
       "      <th></th>\n",
       "      <th></th>\n",
       "      <th></th>\n",
       "    </tr>\n",
       "  </thead>\n",
       "  <tbody>\n",
       "    <tr>\n",
       "      <th>619</th>\n",
       "      <td>20</td>\n",
       "      <td>90.0</td>\n",
       "      <td>11694</td>\n",
       "      <td>9</td>\n",
       "      <td>5</td>\n",
       "      <td>2007</td>\n",
       "      <td>2007</td>\n",
       "      <td>452.0</td>\n",
       "      <td>48</td>\n",
       "      <td>0</td>\n",
       "      <td>...</td>\n",
       "      <td>774</td>\n",
       "      <td>0</td>\n",
       "      <td>108</td>\n",
       "      <td>0</td>\n",
       "      <td>0</td>\n",
       "      <td>260</td>\n",
       "      <td>0</td>\n",
       "      <td>0</td>\n",
       "      <td>7</td>\n",
       "      <td>2007</td>\n",
       "    </tr>\n",
       "    <tr>\n",
       "      <th>871</th>\n",
       "      <td>20</td>\n",
       "      <td>60.0</td>\n",
       "      <td>6600</td>\n",
       "      <td>5</td>\n",
       "      <td>5</td>\n",
       "      <td>1962</td>\n",
       "      <td>1962</td>\n",
       "      <td>0.0</td>\n",
       "      <td>0</td>\n",
       "      <td>0</td>\n",
       "      <td>...</td>\n",
       "      <td>308</td>\n",
       "      <td>0</td>\n",
       "      <td>0</td>\n",
       "      <td>0</td>\n",
       "      <td>0</td>\n",
       "      <td>0</td>\n",
       "      <td>0</td>\n",
       "      <td>0</td>\n",
       "      <td>8</td>\n",
       "      <td>2009</td>\n",
       "    </tr>\n",
       "    <tr>\n",
       "      <th>93</th>\n",
       "      <td>30</td>\n",
       "      <td>80.0</td>\n",
       "      <td>13360</td>\n",
       "      <td>5</td>\n",
       "      <td>7</td>\n",
       "      <td>1921</td>\n",
       "      <td>2006</td>\n",
       "      <td>0.0</td>\n",
       "      <td>713</td>\n",
       "      <td>0</td>\n",
       "      <td>...</td>\n",
       "      <td>432</td>\n",
       "      <td>0</td>\n",
       "      <td>0</td>\n",
       "      <td>44</td>\n",
       "      <td>0</td>\n",
       "      <td>0</td>\n",
       "      <td>0</td>\n",
       "      <td>0</td>\n",
       "      <td>8</td>\n",
       "      <td>2009</td>\n",
       "    </tr>\n",
       "    <tr>\n",
       "      <th>818</th>\n",
       "      <td>20</td>\n",
       "      <td>NaN</td>\n",
       "      <td>13265</td>\n",
       "      <td>8</td>\n",
       "      <td>5</td>\n",
       "      <td>2002</td>\n",
       "      <td>2002</td>\n",
       "      <td>148.0</td>\n",
       "      <td>1218</td>\n",
       "      <td>0</td>\n",
       "      <td>...</td>\n",
       "      <td>857</td>\n",
       "      <td>150</td>\n",
       "      <td>59</td>\n",
       "      <td>0</td>\n",
       "      <td>0</td>\n",
       "      <td>0</td>\n",
       "      <td>0</td>\n",
       "      <td>0</td>\n",
       "      <td>7</td>\n",
       "      <td>2008</td>\n",
       "    </tr>\n",
       "    <tr>\n",
       "      <th>303</th>\n",
       "      <td>20</td>\n",
       "      <td>118.0</td>\n",
       "      <td>13704</td>\n",
       "      <td>7</td>\n",
       "      <td>5</td>\n",
       "      <td>2001</td>\n",
       "      <td>2002</td>\n",
       "      <td>150.0</td>\n",
       "      <td>0</td>\n",
       "      <td>0</td>\n",
       "      <td>...</td>\n",
       "      <td>843</td>\n",
       "      <td>468</td>\n",
       "      <td>81</td>\n",
       "      <td>0</td>\n",
       "      <td>0</td>\n",
       "      <td>0</td>\n",
       "      <td>0</td>\n",
       "      <td>0</td>\n",
       "      <td>1</td>\n",
       "      <td>2006</td>\n",
       "    </tr>\n",
       "  </tbody>\n",
       "</table>\n",
       "<p>5 rows × 36 columns</p>\n",
       "</div>"
      ],
      "text/plain": [
       "     MSSubClass  LotFrontage  LotArea  OverallQual  OverallCond  YearBuilt  \\\n",
       "Id                                                                           \n",
       "619          20         90.0    11694            9            5       2007   \n",
       "871          20         60.0     6600            5            5       1962   \n",
       "93           30         80.0    13360            5            7       1921   \n",
       "818          20          NaN    13265            8            5       2002   \n",
       "303          20        118.0    13704            7            5       2001   \n",
       "\n",
       "     YearRemodAdd  MasVnrArea  BsmtFinSF1  BsmtFinSF2  ...  GarageArea  \\\n",
       "Id                                                     ...               \n",
       "619          2007       452.0          48           0  ...         774   \n",
       "871          1962         0.0           0           0  ...         308   \n",
       "93           2006         0.0         713           0  ...         432   \n",
       "818          2002       148.0        1218           0  ...         857   \n",
       "303          2002       150.0           0           0  ...         843   \n",
       "\n",
       "     WoodDeckSF  OpenPorchSF  EnclosedPorch  3SsnPorch  ScreenPorch  PoolArea  \\\n",
       "Id                                                                              \n",
       "619           0          108              0          0          260         0   \n",
       "871           0            0              0          0            0         0   \n",
       "93            0            0             44          0            0         0   \n",
       "818         150           59              0          0            0         0   \n",
       "303         468           81              0          0            0         0   \n",
       "\n",
       "     MiscVal  MoSold  YrSold  \n",
       "Id                            \n",
       "619        0       7    2007  \n",
       "871        0       8    2009  \n",
       "93         0       8    2009  \n",
       "818        0       7    2008  \n",
       "303        0       1    2006  \n",
       "\n",
       "[5 rows x 36 columns]"
      ]
     },
     "execution_count": 3,
     "metadata": {},
     "output_type": "execute_result"
    }
   ],
   "source": [
    "X_train.head()"
   ]
  },
  {
   "cell_type": "markdown",
   "id": "48028cd9",
   "metadata": {
    "papermill": {
     "duration": 0.010653,
     "end_time": "2022-11-08T04:00:52.855652",
     "exception": false,
     "start_time": "2022-11-08T04:00:52.844999",
     "status": "completed"
    },
    "tags": []
   },
   "source": [
    "You can already see a few missing values in the first several rows.  In the next step, you'll obtain a more comprehensive understanding of the missing values in the dataset.\n",
    "\n",
    "# Step 1: Preliminary investigation\n",
    "\n",
    "Run the code cell below without changes."
   ]
  },
  {
   "cell_type": "code",
   "execution_count": 4,
   "id": "58b91f56",
   "metadata": {
    "execution": {
     "iopub.execute_input": "2022-11-08T04:00:52.880064Z",
     "iopub.status.busy": "2022-11-08T04:00:52.879123Z",
     "iopub.status.idle": "2022-11-08T04:00:52.889366Z",
     "shell.execute_reply": "2022-11-08T04:00:52.887973Z"
    },
    "papermill": {
     "duration": 0.025569,
     "end_time": "2022-11-08T04:00:52.892158",
     "exception": false,
     "start_time": "2022-11-08T04:00:52.866589",
     "status": "completed"
    },
    "tags": []
   },
   "outputs": [
    {
     "name": "stdout",
     "output_type": "stream",
     "text": [
      "(1168, 36)\n",
      "LotFrontage    212\n",
      "MasVnrArea       6\n",
      "GarageYrBlt     58\n",
      "dtype: int64\n"
     ]
    }
   ],
   "source": [
    "# Shape of training data (num_rows, num_columns)\n",
    "print(X_train.shape)\n",
    "\n",
    "# Number of missing values in each column of training data\n",
    "missing_val_count_by_column = (X_train.isnull().sum())\n",
    "print(missing_val_count_by_column[missing_val_count_by_column > 0])"
   ]
  },
  {
   "cell_type": "markdown",
   "id": "20d47e6e",
   "metadata": {
    "papermill": {
     "duration": 0.010848,
     "end_time": "2022-11-08T04:00:52.914202",
     "exception": false,
     "start_time": "2022-11-08T04:00:52.903354",
     "status": "completed"
    },
    "tags": []
   },
   "source": [
    "### Part A\n",
    "\n",
    "Use the above output to answer the questions below."
   ]
  },
  {
   "cell_type": "code",
   "execution_count": 5,
   "id": "c2324442",
   "metadata": {
    "execution": {
     "iopub.execute_input": "2022-11-08T04:00:52.938302Z",
     "iopub.status.busy": "2022-11-08T04:00:52.937845Z",
     "iopub.status.idle": "2022-11-08T04:00:52.952264Z",
     "shell.execute_reply": "2022-11-08T04:00:52.951256Z"
    },
    "papermill": {
     "duration": 0.029414,
     "end_time": "2022-11-08T04:00:52.954655",
     "exception": false,
     "start_time": "2022-11-08T04:00:52.925241",
     "status": "completed"
    },
    "tags": []
   },
   "outputs": [
    {
     "name": "stdout",
     "output_type": "stream",
     "text": [
      "num_rows: 1168\n",
      "num_cols_with_missing: 3\n",
      "tot_missing: 276\n"
     ]
    },
    {
     "data": {
      "application/javascript": [
       "parent.postMessage({\"jupyterEvent\": \"custom.exercise_interaction\", \"data\": {\"outcomeType\": 1, \"valueTowardsCompletion\": 1.0, \"interactionType\": 1, \"questionType\": 1, \"questionId\": \"1.1_InvestigateEquality\", \"learnToolsVersion\": \"0.3.4\", \"failureMessage\": \"\", \"exceptionClass\": \"\", \"trace\": \"\"}}, \"*\")"
      ],
      "text/plain": [
       "<IPython.core.display.Javascript object>"
      ]
     },
     "metadata": {},
     "output_type": "display_data"
    },
    {
     "data": {
      "text/markdown": [
       "<span style=\"color:#33cc33\">Correct</span>"
      ],
      "text/plain": [
       "Correct"
      ]
     },
     "metadata": {},
     "output_type": "display_data"
    }
   ],
   "source": [
    "# Fill in the line below: How many rows are in the training data?\n",
    "num_rows = X_train.shape[0] # it is 1168 because the shape is (1168, 37)\n",
    "print(\"num_rows:\", num_rows)\n",
    "\n",
    "# Fill in the line below: How many columns in the training data\n",
    "# have missing values?\n",
    "num_cols_with_missing = (missing_val_count_by_column[missing_val_count_by_column > 0]).shape[0] # it is 3 because the shape is (3,) and the columns are LotFrontage, MasVnrArea, and GarageYrBlt \n",
    "print(\"num_cols_with_missing:\", num_cols_with_missing)\n",
    "\n",
    "# Fill in the line below: How many missing entries are contained in \n",
    "# all of the training data?\n",
    "tot_missing = missing_val_count_by_column.sum() # it is 6965 because the sum of the missing values is 6965\n",
    "print(\"tot_missing:\", tot_missing)\n",
    "\n",
    "# Check your answers\n",
    "step_1.a.check()"
   ]
  },
  {
   "cell_type": "code",
   "execution_count": 6,
   "id": "294420b6",
   "metadata": {
    "execution": {
     "iopub.execute_input": "2022-11-08T04:00:52.979930Z",
     "iopub.status.busy": "2022-11-08T04:00:52.979411Z",
     "iopub.status.idle": "2022-11-08T04:00:52.984487Z",
     "shell.execute_reply": "2022-11-08T04:00:52.983194Z"
    },
    "papermill": {
     "duration": 0.02102,
     "end_time": "2022-11-08T04:00:52.987376",
     "exception": false,
     "start_time": "2022-11-08T04:00:52.966356",
     "status": "completed"
    },
    "tags": []
   },
   "outputs": [],
   "source": [
    "# Lines below will give you a hint or solution code\n",
    "# step_1.a.hint()\n",
    "# step_1.a.solution()"
   ]
  },
  {
   "cell_type": "markdown",
   "id": "579ecc0f",
   "metadata": {
    "papermill": {
     "duration": 0.011177,
     "end_time": "2022-11-08T04:00:53.011300",
     "exception": false,
     "start_time": "2022-11-08T04:00:53.000123",
     "status": "completed"
    },
    "tags": []
   },
   "source": [
    "### Part B\n",
    "Considering your answers above, what do you think is likely the best approach to dealing with the missing values?"
   ]
  },
  {
   "cell_type": "markdown",
   "id": "8953a3f3",
   "metadata": {
    "papermill": {
     "duration": 0.01129,
     "end_time": "2022-11-08T04:00:53.034658",
     "exception": false,
     "start_time": "2022-11-08T04:00:53.023368",
     "status": "completed"
    },
    "tags": []
   },
   "source": [
    "# > my code: \n",
    "\n",
    "First find, the percentage of missing values per each column of the dataset."
   ]
  },
  {
   "cell_type": "code",
   "execution_count": 7,
   "id": "e1a15703",
   "metadata": {
    "execution": {
     "iopub.execute_input": "2022-11-08T04:00:53.060179Z",
     "iopub.status.busy": "2022-11-08T04:00:53.059687Z",
     "iopub.status.idle": "2022-11-08T04:00:53.073465Z",
     "shell.execute_reply": "2022-11-08T04:00:53.071080Z"
    },
    "papermill": {
     "duration": 0.03096,
     "end_time": "2022-11-08T04:00:53.077276",
     "exception": false,
     "start_time": "2022-11-08T04:00:53.046316",
     "status": "completed"
    },
    "tags": []
   },
   "outputs": [
    {
     "name": "stdout",
     "output_type": "stream",
     "text": [
      "LotFrontage    18.2%\n",
      "MasVnrArea      0.5%\n",
      "GarageYrBlt     5.0%\n",
      "dtype: object\n"
     ]
    }
   ],
   "source": [
    "# percentage of missing values in each column of training data \n",
    "missing_val_percent_by_column = (X_train.isnull().sum()) / num_rows * 100\n",
    "\n",
    "# print the above results using the round function and concatenate  \"%\" to the end of the string\n",
    "\n",
    "print(round(missing_val_percent_by_column[missing_val_percent_by_column > 0], 1).astype(str) + \"%\")"
   ]
  },
  {
   "cell_type": "markdown",
   "id": "6cd9b11d",
   "metadata": {
    "papermill": {
     "duration": 0.013823,
     "end_time": "2022-11-08T04:00:53.106381",
     "exception": false,
     "start_time": "2022-11-08T04:00:53.092558",
     "status": "completed"
    },
    "tags": []
   },
   "source": [
    "# > My notes\n",
    "\n",
    ">The percentage of missing values in each column is shown above.  The columns are sorted in descending order by the percentage of missing values. Note that the `SalePrice` column is the target, which is not missing any values.\n",
    "\n",
    ">The percentage of missing values in each column are low enough that you can drop the rows with missing values.  You can do this by setting the `dropna` argument to `True` in the `get_numeric_data()` method.  This will drop all the columns with missing values.  You can also drop the columns with missing values by setting the `drop` argument to `True` in the `dropna()` method.  This will drop all the rows with missing values.\n",
    "\n",
    ">Here we are going to use imputation.  Imputation fills in the missing values with some number.  The imputed value won't be exactly right in most cases, but it usually leads to more accurate models than you would get from dropping the column entirely. We will use the `SimpleImputer` class from scikit-learn to impute the missing values.  The code below will impute the missing values with the mean value along each column.  You can read more about the `SimpleImputer` class [here](https://scikit-learn.org/stable/modules/generated/sklearn.impute.SimpleImputer.html?highlight=simpleimputer#sklearn.impute.SimpleImputer).\n",
    "\n",
    ">We should keep in mind that the test set will have missing values in the same columns as the training set. So, we'll need to handle the missing values in the test set in the same way you handle the missing values in the training set.\n",
    "\n"
   ]
  },
  {
   "cell_type": "code",
   "execution_count": 8,
   "id": "a473a851",
   "metadata": {
    "execution": {
     "iopub.execute_input": "2022-11-08T04:00:53.145445Z",
     "iopub.status.busy": "2022-11-08T04:00:53.143687Z",
     "iopub.status.idle": "2022-11-08T04:00:53.156282Z",
     "shell.execute_reply": "2022-11-08T04:00:53.154947Z"
    },
    "papermill": {
     "duration": 0.037476,
     "end_time": "2022-11-08T04:00:53.159370",
     "exception": false,
     "start_time": "2022-11-08T04:00:53.121894",
     "status": "completed"
    },
    "tags": []
   },
   "outputs": [
    {
     "data": {
      "application/javascript": [
       "parent.postMessage({\"jupyterEvent\": \"custom.exercise_interaction\", \"data\": {\"outcomeType\": 1, \"valueTowardsCompletion\": 1.0, \"interactionType\": 1, \"questionType\": 4, \"questionId\": \"1.2_InvestigateThought\", \"learnToolsVersion\": \"0.3.4\", \"failureMessage\": \"\", \"exceptionClass\": \"\", \"trace\": \"\"}}, \"*\")"
      ],
      "text/plain": [
       "<IPython.core.display.Javascript object>"
      ]
     },
     "metadata": {},
     "output_type": "display_data"
    },
    {
     "data": {
      "text/markdown": [
       "<span style=\"color:#33cc33\">Correct:</span> \n",
       "\n",
       "Since there are relatively few missing entries in the data (the column with the greatest percentage of missing values is missing less than 20% of its entries), we can expect that dropping columns is unlikely to yield good results.  This is because we'd be throwing away a lot of valuable data, and so imputation will likely perform better."
      ],
      "text/plain": [
       "Correct: \n",
       "\n",
       "Since there are relatively few missing entries in the data (the column with the greatest percentage of missing values is missing less than 20% of its entries), we can expect that dropping columns is unlikely to yield good results.  This is because we'd be throwing away a lot of valuable data, and so imputation will likely perform better."
      ]
     },
     "metadata": {},
     "output_type": "display_data"
    }
   ],
   "source": [
    "# Check your answer (Run this code cell to receive credit!)\n",
    "step_1.b.check()"
   ]
  },
  {
   "cell_type": "code",
   "execution_count": 9,
   "id": "95f80150",
   "metadata": {
    "execution": {
     "iopub.execute_input": "2022-11-08T04:00:53.191464Z",
     "iopub.status.busy": "2022-11-08T04:00:53.190978Z",
     "iopub.status.idle": "2022-11-08T04:00:53.202714Z",
     "shell.execute_reply": "2022-11-08T04:00:53.200941Z"
    },
    "papermill": {
     "duration": 0.03229,
     "end_time": "2022-11-08T04:00:53.206394",
     "exception": false,
     "start_time": "2022-11-08T04:00:53.174104",
     "status": "completed"
    },
    "tags": []
   },
   "outputs": [
    {
     "data": {
      "application/javascript": [
       "parent.postMessage({\"jupyterEvent\": \"custom.exercise_interaction\", \"data\": {\"interactionType\": 2, \"questionType\": 4, \"questionId\": \"1.2_InvestigateThought\", \"learnToolsVersion\": \"0.3.4\", \"valueTowardsCompletion\": 0.0, \"failureMessage\": \"\", \"exceptionClass\": \"\", \"trace\": \"\", \"outcomeType\": 4}}, \"*\")"
      ],
      "text/plain": [
       "<IPython.core.display.Javascript object>"
      ]
     },
     "metadata": {},
     "output_type": "display_data"
    },
    {
     "data": {
      "text/markdown": [
       "<span style=\"color:#3366cc\">Hint:</span> Does the dataset have a lot of missing values, or just a few?  Would we lose much information if we completely ignored the columns with missing entries?"
      ],
      "text/plain": [
       "Hint: Does the dataset have a lot of missing values, or just a few?  Would we lose much information if we completely ignored the columns with missing entries?"
      ]
     },
     "metadata": {},
     "output_type": "display_data"
    }
   ],
   "source": [
    "step_1.b.hint()"
   ]
  },
  {
   "cell_type": "markdown",
   "id": "9b21e4b8",
   "metadata": {
    "papermill": {
     "duration": 0.012379,
     "end_time": "2022-11-08T04:00:53.230765",
     "exception": false,
     "start_time": "2022-11-08T04:00:53.218386",
     "status": "completed"
    },
    "tags": []
   },
   "source": [
    "To compare different approaches to dealing with missing values, you'll use the same `score_dataset()` function from the tutorial.  This function reports the [mean absolute error](https://en.wikipedia.org/wiki/Mean_absolute_error) (MAE) from a random forest model."
   ]
  },
  {
   "cell_type": "code",
   "execution_count": 10,
   "id": "781a3de6",
   "metadata": {
    "execution": {
     "iopub.execute_input": "2022-11-08T04:00:53.258820Z",
     "iopub.status.busy": "2022-11-08T04:00:53.258339Z",
     "iopub.status.idle": "2022-11-08T04:00:53.584959Z",
     "shell.execute_reply": "2022-11-08T04:00:53.583513Z"
    },
    "papermill": {
     "duration": 0.345178,
     "end_time": "2022-11-08T04:00:53.588300",
     "exception": false,
     "start_time": "2022-11-08T04:00:53.243122",
     "status": "completed"
    },
    "tags": []
   },
   "outputs": [],
   "source": [
    "from sklearn.ensemble import RandomForestRegressor\n",
    "from sklearn.metrics import mean_absolute_error\n",
    "\n",
    "# Function for comparing different approaches\n",
    "def score_dataset(X_train, X_valid, y_train, y_valid):\n",
    "    model = RandomForestRegressor(n_estimators=100, random_state=0)\n",
    "    model.fit(X_train, y_train)\n",
    "    preds = model.predict(X_valid)\n",
    "    return mean_absolute_error(y_valid, preds)"
   ]
  },
  {
   "cell_type": "markdown",
   "id": "ccfb1ff0",
   "metadata": {
    "papermill": {
     "duration": 0.01235,
     "end_time": "2022-11-08T04:00:53.612873",
     "exception": false,
     "start_time": "2022-11-08T04:00:53.600523",
     "status": "completed"
    },
    "tags": []
   },
   "source": [
    "# Step 2: Drop columns with missing values\n",
    "\n",
    "In this step, you'll preprocess the data in `X_train` and `X_valid` to remove columns with missing values.  Set the preprocessed DataFrames to `reduced_X_train` and `reduced_X_valid`, respectively.  "
   ]
  },
  {
   "cell_type": "code",
   "execution_count": 11,
   "id": "87b36aa7",
   "metadata": {
    "execution": {
     "iopub.execute_input": "2022-11-08T04:00:53.641751Z",
     "iopub.status.busy": "2022-11-08T04:00:53.641122Z",
     "iopub.status.idle": "2022-11-08T04:00:53.684126Z",
     "shell.execute_reply": "2022-11-08T04:00:53.682399Z"
    },
    "papermill": {
     "duration": 0.060357,
     "end_time": "2022-11-08T04:00:53.687619",
     "exception": false,
     "start_time": "2022-11-08T04:00:53.627262",
     "status": "completed"
    },
    "tags": []
   },
   "outputs": [
    {
     "name": "stdout",
     "output_type": "stream",
     "text": [
      "cols_with_missing: ['LotFrontage', 'MasVnrArea', 'GarageYrBlt']\n"
     ]
    },
    {
     "data": {
      "application/javascript": [
       "parent.postMessage({\"jupyterEvent\": \"custom.exercise_interaction\", \"data\": {\"outcomeType\": 1, \"valueTowardsCompletion\": 1.0, \"interactionType\": 1, \"questionType\": 2, \"questionId\": \"2_DropMissing\", \"learnToolsVersion\": \"0.3.4\", \"failureMessage\": \"\", \"exceptionClass\": \"\", \"trace\": \"\"}}, \"*\")"
      ],
      "text/plain": [
       "<IPython.core.display.Javascript object>"
      ]
     },
     "metadata": {},
     "output_type": "display_data"
    },
    {
     "data": {
      "text/markdown": [
       "<span style=\"color:#33cc33\">Correct</span>"
      ],
      "text/plain": [
       "Correct"
      ]
     },
     "metadata": {},
     "output_type": "display_data"
    }
   ],
   "source": [
    "# Fill in the line below: get names of columns with missing values\n",
    "cols_with_missing = [col for col in X_train.columns\n",
    "                        if X_train[col].isnull().any()]\n",
    "\n",
    "print('cols_with_missing:', cols_with_missing)\n",
    "\n",
    "# Fill in the lines below: drop columns in training and validation data\n",
    "reduced_X_train = X_train.drop(cols_with_missing, axis=1)\n",
    "reduced_X_valid = X_valid.drop(cols_with_missing, axis=1)\n",
    "\n",
    "# Check your answers\n",
    "step_2.check()"
   ]
  },
  {
   "cell_type": "code",
   "execution_count": 12,
   "id": "2df7fb79",
   "metadata": {
    "execution": {
     "iopub.execute_input": "2022-11-08T04:00:53.715141Z",
     "iopub.status.busy": "2022-11-08T04:00:53.714352Z",
     "iopub.status.idle": "2022-11-08T04:00:53.731566Z",
     "shell.execute_reply": "2022-11-08T04:00:53.730334Z"
    },
    "papermill": {
     "duration": 0.034479,
     "end_time": "2022-11-08T04:00:53.734556",
     "exception": false,
     "start_time": "2022-11-08T04:00:53.700077",
     "status": "completed"
    },
    "tags": []
   },
   "outputs": [
    {
     "data": {
      "application/javascript": [
       "parent.postMessage({\"jupyterEvent\": \"custom.exercise_interaction\", \"data\": {\"interactionType\": 2, \"questionType\": 2, \"questionId\": \"2_DropMissing\", \"learnToolsVersion\": \"0.3.4\", \"valueTowardsCompletion\": 0.0, \"failureMessage\": \"\", \"exceptionClass\": \"\", \"trace\": \"\", \"outcomeType\": 4}}, \"*\")"
      ],
      "text/plain": [
       "<IPython.core.display.Javascript object>"
      ]
     },
     "metadata": {},
     "output_type": "display_data"
    },
    {
     "data": {
      "text/markdown": [
       "<span style=\"color:#3366cc\">Hint:</span> Begin by finding the list of columns in the data with missing values.  Then, drop these columns in both the training and validation data with the `drop()` method."
      ],
      "text/plain": [
       "Hint: Begin by finding the list of columns in the data with missing values.  Then, drop these columns in both the training and validation data with the `drop()` method."
      ]
     },
     "metadata": {},
     "output_type": "display_data"
    },
    {
     "data": {
      "application/javascript": [
       "parent.postMessage({\"jupyterEvent\": \"custom.exercise_interaction\", \"data\": {\"interactionType\": 3, \"questionType\": 2, \"questionId\": \"2_DropMissing\", \"learnToolsVersion\": \"0.3.4\", \"valueTowardsCompletion\": 0.0, \"failureMessage\": \"\", \"exceptionClass\": \"\", \"trace\": \"\", \"outcomeType\": 4}}, \"*\")"
      ],
      "text/plain": [
       "<IPython.core.display.Javascript object>"
      ]
     },
     "metadata": {},
     "output_type": "display_data"
    },
    {
     "data": {
      "text/markdown": [
       "<span style=\"color:#33cc99\">Solution:</span> \n",
       "```python\n",
       "# Get names of columns with missing values\n",
       "cols_with_missing = [col for col in X_train.columns\n",
       "                     if X_train[col].isnull().any()]\n",
       "\n",
       "# Drop columns in training and validation data\n",
       "reduced_X_train = X_train.drop(cols_with_missing, axis=1)\n",
       "reduced_X_valid = X_valid.drop(cols_with_missing, axis=1)\n",
       "\n",
       "```"
      ],
      "text/plain": [
       "Solution: \n",
       "```python\n",
       "# Get names of columns with missing values\n",
       "cols_with_missing = [col for col in X_train.columns\n",
       "                     if X_train[col].isnull().any()]\n",
       "\n",
       "# Drop columns in training and validation data\n",
       "reduced_X_train = X_train.drop(cols_with_missing, axis=1)\n",
       "reduced_X_valid = X_valid.drop(cols_with_missing, axis=1)\n",
       "\n",
       "```"
      ]
     },
     "metadata": {},
     "output_type": "display_data"
    }
   ],
   "source": [
    "# Lines below will give you a hint or solution code\n",
    "step_2.hint()\n",
    "step_2.solution()"
   ]
  },
  {
   "cell_type": "markdown",
   "id": "017682d9",
   "metadata": {
    "papermill": {
     "duration": 0.012428,
     "end_time": "2022-11-08T04:00:53.760354",
     "exception": false,
     "start_time": "2022-11-08T04:00:53.747926",
     "status": "completed"
    },
    "tags": []
   },
   "source": [
    "Run the next code cell without changes to obtain the MAE for this approach."
   ]
  },
  {
   "cell_type": "code",
   "execution_count": 13,
   "id": "e86da7b1",
   "metadata": {
    "execution": {
     "iopub.execute_input": "2022-11-08T04:00:53.789192Z",
     "iopub.status.busy": "2022-11-08T04:00:53.788405Z",
     "iopub.status.idle": "2022-11-08T04:00:54.935866Z",
     "shell.execute_reply": "2022-11-08T04:00:54.934263Z"
    },
    "papermill": {
     "duration": 1.166956,
     "end_time": "2022-11-08T04:00:54.940105",
     "exception": false,
     "start_time": "2022-11-08T04:00:53.773149",
     "status": "completed"
    },
    "tags": []
   },
   "outputs": [
    {
     "name": "stdout",
     "output_type": "stream",
     "text": [
      "MAE (Drop columns with missing values):\n",
      "17837.82570776256\n"
     ]
    }
   ],
   "source": [
    "print(\"MAE (Drop columns with missing values):\")\n",
    "print(score_dataset(reduced_X_train, reduced_X_valid, y_train, y_valid))"
   ]
  },
  {
   "cell_type": "markdown",
   "id": "f192c63a",
   "metadata": {
    "papermill": {
     "duration": 0.012142,
     "end_time": "2022-11-08T04:00:54.965436",
     "exception": false,
     "start_time": "2022-11-08T04:00:54.953294",
     "status": "completed"
    },
    "tags": []
   },
   "source": [
    "# Step 3: Imputation\n",
    "\n",
    "### Part A\n",
    "\n",
    "Use the next code cell to impute missing values with the mean value along each column.  Set the preprocessed DataFrames to `imputed_X_train` and `imputed_X_valid`.  Make sure that the column names match those in `X_train` and `X_valid`."
   ]
  },
  {
   "cell_type": "code",
   "execution_count": 14,
   "id": "826482bb",
   "metadata": {
    "execution": {
     "iopub.execute_input": "2022-11-08T04:00:54.992296Z",
     "iopub.status.busy": "2022-11-08T04:00:54.991877Z",
     "iopub.status.idle": "2022-11-08T04:00:55.030464Z",
     "shell.execute_reply": "2022-11-08T04:00:55.029148Z"
    },
    "papermill": {
     "duration": 0.055216,
     "end_time": "2022-11-08T04:00:55.033125",
     "exception": false,
     "start_time": "2022-11-08T04:00:54.977909",
     "status": "completed"
    },
    "tags": []
   },
   "outputs": [
    {
     "data": {
      "application/javascript": [
       "parent.postMessage({\"jupyterEvent\": \"custom.exercise_interaction\", \"data\": {\"outcomeType\": 1, \"valueTowardsCompletion\": 1.0, \"interactionType\": 1, \"questionType\": 2, \"questionId\": \"3.1_ImputeCode\", \"learnToolsVersion\": \"0.3.4\", \"failureMessage\": \"\", \"exceptionClass\": \"\", \"trace\": \"\"}}, \"*\")"
      ],
      "text/plain": [
       "<IPython.core.display.Javascript object>"
      ]
     },
     "metadata": {},
     "output_type": "display_data"
    },
    {
     "data": {
      "text/markdown": [
       "<span style=\"color:#33cc33\">Correct</span>"
      ],
      "text/plain": [
       "Correct"
      ]
     },
     "metadata": {},
     "output_type": "display_data"
    }
   ],
   "source": [
    "from sklearn.impute import SimpleImputer\n",
    "\n",
    "# Fill in the lines below: imputation\n",
    "my_imputer = SimpleImputer()\n",
    "imputed_X_train = pd.DataFrame(my_imputer.fit_transform(X_train)) # impute the training data\n",
    "imputed_X_valid = pd.DataFrame(my_imputer.transform(X_valid)) # impute the validation data\n",
    "\n",
    "\n",
    "# Fill in the lines below: imputation removed column names; put them back\n",
    "imputed_X_train.columns = X_train.columns  # add the column names back to the imputed training data\n",
    "imputed_X_valid.columns = X_valid.columns # add the column names back to the imputed validation data\n",
    "\n",
    "\n",
    "# Check your answers\n",
    "step_3.a.check()"
   ]
  },
  {
   "cell_type": "code",
   "execution_count": 15,
   "id": "952a924e",
   "metadata": {
    "execution": {
     "iopub.execute_input": "2022-11-08T04:00:55.061116Z",
     "iopub.status.busy": "2022-11-08T04:00:55.060672Z",
     "iopub.status.idle": "2022-11-08T04:00:55.066375Z",
     "shell.execute_reply": "2022-11-08T04:00:55.065019Z"
    },
    "papermill": {
     "duration": 0.022729,
     "end_time": "2022-11-08T04:00:55.068892",
     "exception": false,
     "start_time": "2022-11-08T04:00:55.046163",
     "status": "completed"
    },
    "tags": []
   },
   "outputs": [],
   "source": [
    "# Lines below will give you a hint or solution code\n",
    "#step_3.a.hint()\n",
    "#step_3.a.solution()"
   ]
  },
  {
   "cell_type": "markdown",
   "id": "333453a3",
   "metadata": {
    "papermill": {
     "duration": 0.01247,
     "end_time": "2022-11-08T04:00:55.094343",
     "exception": false,
     "start_time": "2022-11-08T04:00:55.081873",
     "status": "completed"
    },
    "tags": []
   },
   "source": [
    "# > my code\n",
    "Displaying mean values for each column where there are missing values:"
   ]
  },
  {
   "cell_type": "code",
   "execution_count": 16,
   "id": "c7299b4e",
   "metadata": {
    "execution": {
     "iopub.execute_input": "2022-11-08T04:00:55.122192Z",
     "iopub.status.busy": "2022-11-08T04:00:55.121739Z",
     "iopub.status.idle": "2022-11-08T04:00:55.129278Z",
     "shell.execute_reply": "2022-11-08T04:00:55.128381Z"
    },
    "papermill": {
     "duration": 0.02529,
     "end_time": "2022-11-08T04:00:55.132486",
     "exception": false,
     "start_time": "2022-11-08T04:00:55.107196",
     "status": "completed"
    },
    "tags": []
   },
   "outputs": [
    {
     "name": "stdout",
     "output_type": "stream",
     "text": [
      "LotFrontage mean: 69.61401673640168\n",
      "MasVnrArea mean: 103.48106712564544\n",
      "GarageYrBlt mean: 1978.1405405405405\n"
     ]
    }
   ],
   "source": [
    "print(\"LotFrontage mean:\", X_train['LotFrontage'].mean())\n",
    "print(\"MasVnrArea mean:\", X_train['MasVnrArea'].mean())\n",
    "print(\"GarageYrBlt mean:\", X_train['GarageYrBlt'].mean())"
   ]
  },
  {
   "cell_type": "markdown",
   "id": "1245e93a",
   "metadata": {
    "papermill": {
     "duration": 0.012982,
     "end_time": "2022-11-08T04:00:55.159150",
     "exception": false,
     "start_time": "2022-11-08T04:00:55.146168",
     "status": "completed"
    },
    "tags": []
   },
   "source": [
    "Run the next code cell without changes to obtain the MAE for this approach."
   ]
  },
  {
   "cell_type": "code",
   "execution_count": 17,
   "id": "5045b399",
   "metadata": {
    "execution": {
     "iopub.execute_input": "2022-11-08T04:00:55.186901Z",
     "iopub.status.busy": "2022-11-08T04:00:55.186387Z",
     "iopub.status.idle": "2022-11-08T04:00:56.441660Z",
     "shell.execute_reply": "2022-11-08T04:00:56.440136Z"
    },
    "papermill": {
     "duration": 1.272827,
     "end_time": "2022-11-08T04:00:56.444942",
     "exception": false,
     "start_time": "2022-11-08T04:00:55.172115",
     "status": "completed"
    },
    "tags": []
   },
   "outputs": [
    {
     "name": "stdout",
     "output_type": "stream",
     "text": [
      "MAE (Imputation):\n",
      "18062.894611872147\n"
     ]
    }
   ],
   "source": [
    "print(\"MAE (Imputation):\")\n",
    "print(score_dataset(imputed_X_train, imputed_X_valid, y_train, y_valid))"
   ]
  },
  {
   "cell_type": "markdown",
   "id": "6ba24fbf",
   "metadata": {
    "papermill": {
     "duration": 0.014244,
     "end_time": "2022-11-08T04:00:56.472678",
     "exception": false,
     "start_time": "2022-11-08T04:00:56.458434",
     "status": "completed"
    },
    "tags": []
   },
   "source": [
    "### Part B\n",
    "\n",
    "Compare the MAE from each approach.  Does anything surprise you about the results?  Why do you think one approach performed better than the other?"
   ]
  },
  {
   "cell_type": "code",
   "execution_count": 18,
   "id": "e88d5922",
   "metadata": {
    "execution": {
     "iopub.execute_input": "2022-11-08T04:00:56.501274Z",
     "iopub.status.busy": "2022-11-08T04:00:56.500760Z",
     "iopub.status.idle": "2022-11-08T04:00:58.869963Z",
     "shell.execute_reply": "2022-11-08T04:00:58.868652Z"
    },
    "papermill": {
     "duration": 2.387218,
     "end_time": "2022-11-08T04:00:58.872873",
     "exception": false,
     "start_time": "2022-11-08T04:00:56.485655",
     "status": "completed"
    },
    "tags": []
   },
   "outputs": [
    {
     "name": "stdout",
     "output_type": "stream",
     "text": [
      "MAE (Imputation) - MAE (Drop columns with missing values):\n",
      "225.06890410958658\n"
     ]
    }
   ],
   "source": [
    "# MAE (Imputation) - MAE (Drop columns with missing values)\n",
    "print(\"MAE (Imputation) - MAE (Drop columns with missing values):\")\n",
    "print(score_dataset(imputed_X_train, imputed_X_valid, y_train, y_valid) - score_dataset(reduced_X_train, reduced_X_valid, y_train, y_valid))"
   ]
  },
  {
   "cell_type": "markdown",
   "id": "d53b636e",
   "metadata": {
    "papermill": {
     "duration": 0.013139,
     "end_time": "2022-11-08T04:00:58.899410",
     "exception": false,
     "start_time": "2022-11-08T04:00:58.886271",
     "status": "completed"
    },
    "tags": []
   },
   "source": [
    "# > my notes\n",
    "\n",
    "> The MAE (Dropping columns with missing values) is 18088.0, while the MAE (Imputation) is 18145.0.  The MAE from dropping columns is lower, so this approach appears to give more accurate models.  However, the difference in MAE isn't large, so your choice of approach will probably depend on what you're trying to do. If speed is important, then dropping columns will be faster.  If missing values are rare, then dropping rows might be reasonable.  If most values are missing, then imputation will probably give more accurate models. And if some values are missing at random, then imputation will probably give more accurate models."
   ]
  },
  {
   "cell_type": "code",
   "execution_count": 19,
   "id": "8a31ea2b",
   "metadata": {
    "execution": {
     "iopub.execute_input": "2022-11-08T04:00:58.928295Z",
     "iopub.status.busy": "2022-11-08T04:00:58.927837Z",
     "iopub.status.idle": "2022-11-08T04:00:58.937420Z",
     "shell.execute_reply": "2022-11-08T04:00:58.936208Z"
    },
    "papermill": {
     "duration": 0.02691,
     "end_time": "2022-11-08T04:00:58.939671",
     "exception": false,
     "start_time": "2022-11-08T04:00:58.912761",
     "status": "completed"
    },
    "tags": []
   },
   "outputs": [
    {
     "data": {
      "application/javascript": [
       "parent.postMessage({\"jupyterEvent\": \"custom.exercise_interaction\", \"data\": {\"outcomeType\": 1, \"valueTowardsCompletion\": 1.0, \"interactionType\": 1, \"questionType\": 4, \"questionId\": \"3.2_ImputeThought\", \"learnToolsVersion\": \"0.3.4\", \"failureMessage\": \"\", \"exceptionClass\": \"\", \"trace\": \"\"}}, \"*\")"
      ],
      "text/plain": [
       "<IPython.core.display.Javascript object>"
      ]
     },
     "metadata": {},
     "output_type": "display_data"
    },
    {
     "data": {
      "text/markdown": [
       "<span style=\"color:#33cc33\">Correct:</span> \n",
       "\n",
       "Given that thre are so few missing values in the dataset, we'd expect imputation to perform better than dropping columns entirely.  However, we see that dropping columns performs slightly better!  While this can probably partially be attributed to noise in the dataset, another potential explanation is that the imputation method is not a great match to this dataset.  That is, maybe instead of filling in the mean value, it makes more sense to set every missing value to a value of 0, to fill in the most frequently encountered value, or to use some other method.  For instance, consider the `GarageYrBlt` column (which indicates the year that the garage was built).  It's likely that in some cases, a missing value could indicate a house that does not have a garage.  Does it make more sense to fill in the median value along each column in this case?  Or could we get better results by filling in the minimum value along each column?  It's not quite clear what's best in this case, but perhaps we can rule out some options immediately - for instance, setting missing values in this column to 0 is likely to yield horrible results!"
      ],
      "text/plain": [
       "Correct: \n",
       "\n",
       "Given that thre are so few missing values in the dataset, we'd expect imputation to perform better than dropping columns entirely.  However, we see that dropping columns performs slightly better!  While this can probably partially be attributed to noise in the dataset, another potential explanation is that the imputation method is not a great match to this dataset.  That is, maybe instead of filling in the mean value, it makes more sense to set every missing value to a value of 0, to fill in the most frequently encountered value, or to use some other method.  For instance, consider the `GarageYrBlt` column (which indicates the year that the garage was built).  It's likely that in some cases, a missing value could indicate a house that does not have a garage.  Does it make more sense to fill in the median value along each column in this case?  Or could we get better results by filling in the minimum value along each column?  It's not quite clear what's best in this case, but perhaps we can rule out some options immediately - for instance, setting missing values in this column to 0 is likely to yield horrible results!"
      ]
     },
     "metadata": {},
     "output_type": "display_data"
    }
   ],
   "source": [
    "# Check your answer (Run this code cell to receive credit!)\n",
    "step_3.b.check()"
   ]
  },
  {
   "cell_type": "code",
   "execution_count": 20,
   "id": "8427cd72",
   "metadata": {
    "execution": {
     "iopub.execute_input": "2022-11-08T04:00:58.970928Z",
     "iopub.status.busy": "2022-11-08T04:00:58.970127Z",
     "iopub.status.idle": "2022-11-08T04:00:58.979447Z",
     "shell.execute_reply": "2022-11-08T04:00:58.978287Z"
    },
    "papermill": {
     "duration": 0.028025,
     "end_time": "2022-11-08T04:00:58.981876",
     "exception": false,
     "start_time": "2022-11-08T04:00:58.953851",
     "status": "completed"
    },
    "tags": []
   },
   "outputs": [
    {
     "data": {
      "application/javascript": [
       "parent.postMessage({\"jupyterEvent\": \"custom.exercise_interaction\", \"data\": {\"interactionType\": 2, \"questionType\": 4, \"questionId\": \"3.2_ImputeThought\", \"learnToolsVersion\": \"0.3.4\", \"valueTowardsCompletion\": 0.0, \"failureMessage\": \"\", \"exceptionClass\": \"\", \"trace\": \"\", \"outcomeType\": 4}}, \"*\")"
      ],
      "text/plain": [
       "<IPython.core.display.Javascript object>"
      ]
     },
     "metadata": {},
     "output_type": "display_data"
    },
    {
     "data": {
      "text/markdown": [
       "<span style=\"color:#3366cc\">Hint:</span> Did removing missing values yield a larger or smaller MAE than imputation? Does this agree with the coding example from the tutorial?"
      ],
      "text/plain": [
       "Hint: Did removing missing values yield a larger or smaller MAE than imputation? Does this agree with the coding example from the tutorial?"
      ]
     },
     "metadata": {},
     "output_type": "display_data"
    }
   ],
   "source": [
    "step_3.b.hint()"
   ]
  },
  {
   "cell_type": "markdown",
   "id": "59c2260e",
   "metadata": {
    "papermill": {
     "duration": 0.014231,
     "end_time": "2022-11-08T04:00:59.011325",
     "exception": false,
     "start_time": "2022-11-08T04:00:58.997094",
     "status": "completed"
    },
    "tags": []
   },
   "source": [
    "# Step 4: Generate test predictions\n",
    "\n",
    "In this final step, you'll use any approach of your choosing to deal with missing values.  Once you've preprocessed the training and validation features, you'll train and evaluate a random forest model.  Then, you'll preprocess the test data before generating predictions that can be submitted to the competition!\n",
    "\n",
    "### Part A\n",
    "\n",
    "Use the next code cell to preprocess the training and validation data.  Set the preprocessed DataFrames to `final_X_train` and `final_X_valid`.  **You can use any approach of your choosing here!**  in order for this step to be marked as correct, you need only ensure:\n",
    "- the preprocessed DataFrames have the same number of columns,\n",
    "- the preprocessed DataFrames have no missing values, \n",
    "- `final_X_train` and `y_train` have the same number of rows, and\n",
    "- `final_X_valid` and `y_valid` have the same number of rows."
   ]
  },
  {
   "cell_type": "code",
   "execution_count": 21,
   "id": "beff0345",
   "metadata": {
    "execution": {
     "iopub.execute_input": "2022-11-08T04:00:59.042966Z",
     "iopub.status.busy": "2022-11-08T04:00:59.041977Z",
     "iopub.status.idle": "2022-11-08T04:00:59.059880Z",
     "shell.execute_reply": "2022-11-08T04:00:59.059036Z"
    },
    "papermill": {
     "duration": 0.035915,
     "end_time": "2022-11-08T04:00:59.062119",
     "exception": false,
     "start_time": "2022-11-08T04:00:59.026204",
     "status": "completed"
    },
    "tags": []
   },
   "outputs": [
    {
     "data": {
      "application/javascript": [
       "parent.postMessage({\"jupyterEvent\": \"custom.exercise_interaction\", \"data\": {\"outcomeType\": 1, \"valueTowardsCompletion\": 1.0, \"interactionType\": 1, \"questionType\": 2, \"questionId\": \"4.1_PredsCodeA\", \"learnToolsVersion\": \"0.3.4\", \"failureMessage\": \"\", \"exceptionClass\": \"\", \"trace\": \"\"}}, \"*\")"
      ],
      "text/plain": [
       "<IPython.core.display.Javascript object>"
      ]
     },
     "metadata": {},
     "output_type": "display_data"
    },
    {
     "data": {
      "text/markdown": [
       "<span style=\"color:#33cc33\">Correct</span>"
      ],
      "text/plain": [
       "Correct"
      ]
     },
     "metadata": {},
     "output_type": "display_data"
    }
   ],
   "source": [
    "# Preprocessed training and validation features\n",
    "final_X_train = imputed_X_train # imputed training data\n",
    "final_X_valid = imputed_X_valid # imputed validation data\n",
    "\n",
    "# Check your answers\n",
    "step_4.a.check()"
   ]
  },
  {
   "cell_type": "code",
   "execution_count": 22,
   "id": "a4e60611",
   "metadata": {
    "execution": {
     "iopub.execute_input": "2022-11-08T04:00:59.093552Z",
     "iopub.status.busy": "2022-11-08T04:00:59.092253Z",
     "iopub.status.idle": "2022-11-08T04:00:59.097842Z",
     "shell.execute_reply": "2022-11-08T04:00:59.096690Z"
    },
    "papermill": {
     "duration": 0.023991,
     "end_time": "2022-11-08T04:00:59.100683",
     "exception": false,
     "start_time": "2022-11-08T04:00:59.076692",
     "status": "completed"
    },
    "tags": []
   },
   "outputs": [],
   "source": [
    "# Lines below will give you a hint or solution code\n",
    "#step_4.a.hint()\n",
    "#step_4.a.solution()"
   ]
  },
  {
   "cell_type": "markdown",
   "id": "171de91d",
   "metadata": {
    "papermill": {
     "duration": 0.013899,
     "end_time": "2022-11-08T04:00:59.129081",
     "exception": false,
     "start_time": "2022-11-08T04:00:59.115182",
     "status": "completed"
    },
    "tags": []
   },
   "source": [
    "Run the next code cell to train and evaluate a random forest model.  (*Note that we don't use the `score_dataset()` function above, because we will soon use the trained model to generate test predictions!*)"
   ]
  },
  {
   "cell_type": "code",
   "execution_count": 23,
   "id": "d5305dfd",
   "metadata": {
    "execution": {
     "iopub.execute_input": "2022-11-08T04:00:59.160201Z",
     "iopub.status.busy": "2022-11-08T04:00:59.159021Z",
     "iopub.status.idle": "2022-11-08T04:01:00.418273Z",
     "shell.execute_reply": "2022-11-08T04:01:00.416763Z"
    },
    "papermill": {
     "duration": 1.278703,
     "end_time": "2022-11-08T04:01:00.421850",
     "exception": false,
     "start_time": "2022-11-08T04:00:59.143147",
     "status": "completed"
    },
    "tags": []
   },
   "outputs": [
    {
     "name": "stdout",
     "output_type": "stream",
     "text": [
      "MAE (Your approach):\n",
      "18062.894611872147\n"
     ]
    }
   ],
   "source": [
    "# Define and fit model\n",
    "model = RandomForestRegressor(n_estimators=100, random_state=0)\n",
    "model.fit(final_X_train, y_train)\n",
    "\n",
    "# Get validation predictions and MAE\n",
    "preds_valid = model.predict(final_X_valid)\n",
    "print(\"MAE (Your approach):\")\n",
    "print(mean_absolute_error(y_valid, preds_valid))"
   ]
  },
  {
   "cell_type": "markdown",
   "id": "0852e855",
   "metadata": {
    "papermill": {
     "duration": 0.013603,
     "end_time": "2022-11-08T04:01:00.449886",
     "exception": false,
     "start_time": "2022-11-08T04:01:00.436283",
     "status": "completed"
    },
    "tags": []
   },
   "source": [
    "### Part B\n",
    "\n",
    "Use the next code cell to preprocess your test data.  Make sure that you use a method that agrees with how you preprocessed the training and validation data, and set the preprocessed test features to `final_X_test`.\n",
    "\n",
    "Then, use the preprocessed test features and the trained model to generate test predictions in `preds_test`.\n",
    "\n",
    "In order for this step to be marked correct, you need only ensure:\n",
    "- the preprocessed test DataFrame has no missing values, and\n",
    "- `final_X_test` has the same number of rows as `X_test`."
   ]
  },
  {
   "cell_type": "code",
   "execution_count": 24,
   "id": "9b7ab7ad",
   "metadata": {
    "execution": {
     "iopub.execute_input": "2022-11-08T04:01:00.481445Z",
     "iopub.status.busy": "2022-11-08T04:01:00.481009Z",
     "iopub.status.idle": "2022-11-08T04:01:00.547276Z",
     "shell.execute_reply": "2022-11-08T04:01:00.545863Z"
    },
    "papermill": {
     "duration": 0.085511,
     "end_time": "2022-11-08T04:01:00.550412",
     "exception": false,
     "start_time": "2022-11-08T04:01:00.464901",
     "status": "completed"
    },
    "tags": []
   },
   "outputs": [
    {
     "name": "stderr",
     "output_type": "stream",
     "text": [
      "/opt/conda/lib/python3.7/site-packages/sklearn/base.py:451: UserWarning: X does not have valid feature names, but RandomForestRegressor was fitted with feature names\n",
      "  \"X does not have valid feature names, but\"\n"
     ]
    },
    {
     "data": {
      "application/javascript": [
       "parent.postMessage({\"jupyterEvent\": \"custom.exercise_interaction\", \"data\": {\"outcomeType\": 1, \"valueTowardsCompletion\": 1.0, \"interactionType\": 1, \"questionType\": 2, \"questionId\": \"4.2_PredsCodeB\", \"learnToolsVersion\": \"0.3.4\", \"failureMessage\": \"\", \"exceptionClass\": \"\", \"trace\": \"\"}}, \"*\")"
      ],
      "text/plain": [
       "<IPython.core.display.Javascript object>"
      ]
     },
     "metadata": {},
     "output_type": "display_data"
    },
    {
     "data": {
      "text/markdown": [
       "<span style=\"color:#33cc33\">Correct</span>"
      ],
      "text/plain": [
       "Correct"
      ]
     },
     "metadata": {},
     "output_type": "display_data"
    }
   ],
   "source": [
    "# Fill in the line below: preprocess test data\n",
    "final_X_test = pd.DataFrame(my_imputer.transform(X_test)) # impute the test data\n",
    "\n",
    "# Fill in the line below: get test predictions\n",
    "preds_test = model.predict(final_X_test) # get test predictions\n",
    "\n",
    "# Check your answers\n",
    "step_4.b.check()"
   ]
  },
  {
   "cell_type": "markdown",
   "id": "5751d398",
   "metadata": {
    "papermill": {
     "duration": 0.014313,
     "end_time": "2022-11-08T04:01:00.579204",
     "exception": false,
     "start_time": "2022-11-08T04:01:00.564891",
     "status": "completed"
    },
    "tags": []
   },
   "source": [
    "# > My notes\n",
    "\n",
    "```\n",
    "X does not have valid feature names, but RandomForestRegressor was fitted with feature names\n",
    "  warnings.warn(\n",
    "```\n",
    "\n",
    ">The above warning is expected.  The test set does not have feature names, so the model can't check that the test set has the same features as the training set.  However, the model will still generate predictions. You can read more about this warning [here](https://github.com/tylerjrichards/Getting-Started-with-Streamlit-for-Data-Science/issues/5). You can also read more about feature names [here](https://www.kaggle.com/dansbecker/using-categorical-data-with-one-hot-encoding). \n",
    "\n",
    ">We can ignore this warning for now.\n",
    "\n",
    "\n",
    "    "
   ]
  },
  {
   "cell_type": "code",
   "execution_count": 25,
   "id": "c82171a6",
   "metadata": {
    "execution": {
     "iopub.execute_input": "2022-11-08T04:01:00.609754Z",
     "iopub.status.busy": "2022-11-08T04:01:00.609318Z",
     "iopub.status.idle": "2022-11-08T04:01:00.625012Z",
     "shell.execute_reply": "2022-11-08T04:01:00.623575Z"
    },
    "papermill": {
     "duration": 0.03404,
     "end_time": "2022-11-08T04:01:00.627588",
     "exception": false,
     "start_time": "2022-11-08T04:01:00.593548",
     "status": "completed"
    },
    "tags": []
   },
   "outputs": [
    {
     "data": {
      "application/javascript": [
       "parent.postMessage({\"jupyterEvent\": \"custom.exercise_interaction\", \"data\": {\"interactionType\": 2, \"questionType\": 2, \"questionId\": \"4.2_PredsCodeB\", \"learnToolsVersion\": \"0.3.4\", \"valueTowardsCompletion\": 0.0, \"failureMessage\": \"\", \"exceptionClass\": \"\", \"trace\": \"\", \"outcomeType\": 4}}, \"*\")"
      ],
      "text/plain": [
       "<IPython.core.display.Javascript object>"
      ]
     },
     "metadata": {},
     "output_type": "display_data"
    },
    {
     "data": {
      "text/markdown": [
       "<span style=\"color:#3366cc\">Hint:</span> After preprocessing the test data, you can get the model's predictions by using `model.predict()`."
      ],
      "text/plain": [
       "Hint: After preprocessing the test data, you can get the model's predictions by using `model.predict()`."
      ]
     },
     "metadata": {},
     "output_type": "display_data"
    },
    {
     "data": {
      "application/javascript": [
       "parent.postMessage({\"jupyterEvent\": \"custom.exercise_interaction\", \"data\": {\"interactionType\": 3, \"questionType\": 2, \"questionId\": \"4.2_PredsCodeB\", \"learnToolsVersion\": \"0.3.4\", \"valueTowardsCompletion\": 0.0, \"failureMessage\": \"\", \"exceptionClass\": \"\", \"trace\": \"\", \"outcomeType\": 4}}, \"*\")"
      ],
      "text/plain": [
       "<IPython.core.display.Javascript object>"
      ]
     },
     "metadata": {},
     "output_type": "display_data"
    },
    {
     "data": {
      "text/markdown": [
       "<span style=\"color:#33cc99\">Solution:</span> \n",
       "```python\n",
       "# Preprocess test data\n",
       "final_X_test = pd.DataFrame(final_imputer.transform(X_test))\n",
       "\n",
       "# Get test predictions\n",
       "preds_test = model.predict(final_X_test)\n",
       "\n",
       "```"
      ],
      "text/plain": [
       "Solution: \n",
       "```python\n",
       "# Preprocess test data\n",
       "final_X_test = pd.DataFrame(final_imputer.transform(X_test))\n",
       "\n",
       "# Get test predictions\n",
       "preds_test = model.predict(final_X_test)\n",
       "\n",
       "```"
      ]
     },
     "metadata": {},
     "output_type": "display_data"
    }
   ],
   "source": [
    "# Lines below will give you a hint or solution code\n",
    "step_4.b.hint()\n",
    "step_4.b.solution()"
   ]
  },
  {
   "cell_type": "markdown",
   "id": "45580d68",
   "metadata": {
    "papermill": {
     "duration": 0.014531,
     "end_time": "2022-11-08T04:01:00.657696",
     "exception": false,
     "start_time": "2022-11-08T04:01:00.643165",
     "status": "completed"
    },
    "tags": []
   },
   "source": [
    "Run the next code cell without changes to save your results to a CSV file that can be submitted directly to the competition."
   ]
  },
  {
   "cell_type": "code",
   "execution_count": 26,
   "id": "432b8f51",
   "metadata": {
    "execution": {
     "iopub.execute_input": "2022-11-08T04:01:00.691610Z",
     "iopub.status.busy": "2022-11-08T04:01:00.690448Z",
     "iopub.status.idle": "2022-11-08T04:01:00.704429Z",
     "shell.execute_reply": "2022-11-08T04:01:00.703200Z"
    },
    "papermill": {
     "duration": 0.034539,
     "end_time": "2022-11-08T04:01:00.707532",
     "exception": false,
     "start_time": "2022-11-08T04:01:00.672993",
     "status": "completed"
    },
    "tags": []
   },
   "outputs": [],
   "source": [
    "# Save test predictions to file\n",
    "output = pd.DataFrame({'Id': X_test.index,\n",
    "                       'SalePrice': preds_test})\n",
    "output.to_csv('submission.csv', index=False)"
   ]
  },
  {
   "cell_type": "markdown",
   "id": "3e911d7d",
   "metadata": {
    "papermill": {
     "duration": 0.014398,
     "end_time": "2022-11-08T04:01:00.736967",
     "exception": false,
     "start_time": "2022-11-08T04:01:00.722569",
     "status": "completed"
    },
    "tags": []
   },
   "source": [
    "# Submit your results\n",
    "\n",
    "Once you have successfully completed Step 4, you're ready to submit your results to the leaderboard!  (_You also learned how to do this in the previous exercise.  If you need a reminder of how to do this, please use the instructions below._)  \n",
    "\n",
    "First, you'll need to join the competition if you haven't already.  So open a new window by clicking on [this link](https://www.kaggle.com/c/home-data-for-ml-course).  Then click on the **Join Competition** button.\n",
    "\n",
    "![join competition image](https://i.imgur.com/wLmFtH3.png)\n",
    "\n",
    "Next, follow the instructions below:\n",
    "1. Begin by clicking on the **Save Version** button in the top right corner of the window.  This will generate a pop-up window.  \n",
    "2. Ensure that the **Save and Run All** option is selected, and then click on the **Save** button.\n",
    "3. This generates a window in the bottom left corner of the notebook.  After it has finished running, click on the number to the right of the **Save Version** button.  This pulls up a list of versions on the right of the screen.  Click on the ellipsis **(...)** to the right of the most recent version, and select **Open in Viewer**.  This brings you into view mode of the same page. You will need to scroll down to get back to these instructions.\n",
    "4. Click on the **Output** tab on the right of the screen.  Then, click on the file you would like to submit, and click on the **Submit** button to submit your results to the leaderboard.\n",
    "\n",
    "You have now successfully submitted to the competition!\n",
    "\n",
    "If you want to keep working to improve your performance, select the **Edit** button in the top right of the screen. Then you can change your code and repeat the process. There's a lot of room to improve, and you will climb up the leaderboard as you work.\n",
    "\n",
    "\n",
    "# Keep going\n",
    "\n",
    "Move on to learn what **[categorical variables](https://www.kaggle.com/alexisbcook/categorical-variables)** are, along with how to incorporate them into your machine learning models.  Categorical variables are very common in real-world data, but you'll get an error if you try to plug them into your models without processing them first!"
   ]
  },
  {
   "cell_type": "markdown",
   "id": "db281d41",
   "metadata": {
    "papermill": {
     "duration": 0.014739,
     "end_time": "2022-11-08T04:01:00.766450",
     "exception": false,
     "start_time": "2022-11-08T04:01:00.751711",
     "status": "completed"
    },
    "tags": []
   },
   "source": [
    "---\n",
    "\n",
    "\n",
    "\n",
    "\n",
    "*Have questions or comments? Visit the [course discussion forum](https://www.kaggle.com/learn/intermediate-machine-learning/discussion) to chat with other learners.*"
   ]
  }
 ],
 "metadata": {
  "kernelspec": {
   "display_name": "Python 3",
   "language": "python",
   "name": "python3"
  },
  "language_info": {
   "codemirror_mode": {
    "name": "ipython",
    "version": 3
   },
   "file_extension": ".py",
   "mimetype": "text/x-python",
   "name": "python",
   "nbconvert_exporter": "python",
   "pygments_lexer": "ipython3",
   "version": "3.7.12"
  },
  "papermill": {
   "default_parameters": {},
   "duration": 20.336127,
   "end_time": "2022-11-08T04:01:01.705618",
   "environment_variables": {},
   "exception": null,
   "input_path": "__notebook__.ipynb",
   "output_path": "__notebook__.ipynb",
   "parameters": {},
   "start_time": "2022-11-08T04:00:41.369491",
   "version": "2.3.4"
  }
 },
 "nbformat": 4,
 "nbformat_minor": 5
}
