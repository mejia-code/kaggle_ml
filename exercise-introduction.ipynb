{
 "cells": [
  {
   "cell_type": "markdown",
   "id": "9778665a",
   "metadata": {
    "papermill": {
     "duration": 0.007712,
     "end_time": "2022-11-02T00:04:48.248922",
     "exception": false,
     "start_time": "2022-11-02T00:04:48.241210",
     "status": "completed"
    },
    "tags": []
   },
   "source": [
    "**This notebook is an exercise in the [Intermediate Machine Learning](https://www.kaggle.com/learn/intermediate-machine-learning) course.  You can reference the tutorial at [this link](https://www.kaggle.com/alexisbcook/introduction).**\n",
    "\n",
    "---\n"
   ]
  },
  {
   "cell_type": "markdown",
   "id": "7ed2b010",
   "metadata": {
    "papermill": {
     "duration": 0.007151,
     "end_time": "2022-11-02T00:04:48.265031",
     "exception": false,
     "start_time": "2022-11-02T00:04:48.257880",
     "status": "completed"
    },
    "tags": []
   },
   "source": [
    "As a warm-up, you'll review some machine learning fundamentals and submit your initial results to a Kaggle competition.\n",
    "\n",
    "# Setup\n",
    "\n",
    "The questions below will give you feedback on your work. Run the following cell to set up the feedback system."
   ]
  },
  {
   "cell_type": "code",
   "execution_count": 2,
   "id": "a4b03736",
   "metadata": {
    "execution": {
     "iopub.execute_input": "2022-11-02T00:04:48.279113Z",
     "iopub.status.busy": "2022-11-02T00:04:48.278636Z",
     "iopub.status.idle": "2022-11-02T00:04:49.661261Z",
     "shell.execute_reply": "2022-11-02T00:04:49.660078Z"
    },
    "papermill": {
     "duration": 1.39296,
     "end_time": "2022-11-02T00:04:49.664103",
     "exception": false,
     "start_time": "2022-11-02T00:04:48.271143",
     "status": "completed"
    },
    "tags": []
   },
   "outputs": [
    {
     "ename": "FileNotFoundError",
     "evalue": "[Errno 2] No such file or directory: '../input/home-data-for-ml-course/train.csv' -> '../input/train.csv'",
     "output_type": "error",
     "traceback": [
      "\u001b[0;31m---------------------------------------------------------------------------\u001b[0m",
      "\u001b[0;31mFileNotFoundError\u001b[0m                         Traceback (most recent call last)",
      "Cell \u001b[0;32mIn [2], line 4\u001b[0m\n\u001b[1;32m      2\u001b[0m \u001b[39mimport\u001b[39;00m \u001b[39mos\u001b[39;00m\n\u001b[1;32m      3\u001b[0m \u001b[39mif\u001b[39;00m \u001b[39mnot\u001b[39;00m os\u001b[39m.\u001b[39mpath\u001b[39m.\u001b[39mexists(\u001b[39m\"\u001b[39m\u001b[39m../input/train.csv\u001b[39m\u001b[39m\"\u001b[39m):\n\u001b[0;32m----> 4\u001b[0m     os\u001b[39m.\u001b[39msymlink(\u001b[39m\"\u001b[39m\u001b[39m../input/home-data-for-ml-course/train.csv\u001b[39m\u001b[39m\"\u001b[39m, \u001b[39m\"\u001b[39m\u001b[39m../input/train.csv\u001b[39m\u001b[39m\"\u001b[39m)  \n\u001b[1;32m      5\u001b[0m     os\u001b[39m.\u001b[39msymlink(\u001b[39m\"\u001b[39m\u001b[39m../input/home-data-for-ml-course/test.csv\u001b[39m\u001b[39m\"\u001b[39m, \u001b[39m\"\u001b[39m\u001b[39m../input/test.csv\u001b[39m\u001b[39m\"\u001b[39m)  \n\u001b[1;32m      6\u001b[0m \u001b[39mfrom\u001b[39;00m \u001b[39mlearntools\u001b[39;00m\u001b[39m.\u001b[39;00m\u001b[39mcore\u001b[39;00m \u001b[39mimport\u001b[39;00m binder\n",
      "\u001b[0;31mFileNotFoundError\u001b[0m: [Errno 2] No such file or directory: '../input/home-data-for-ml-course/train.csv' -> '../input/train.csv'"
     ]
    }
   ],
   "source": [
    "# Set up code checking\n",
    "import os\n",
    "if not os.path.exists(\"../input/train.csv\"):\n",
    "    os.symlink(\"../input/home-data-for-ml-course/train.csv\", \"../input/train.csv\")  \n",
    "    os.symlink(\"../input/home-data-for-ml-course/test.csv\", \"../input/test.csv\")  \n",
    "from learntools.core import binder\n",
    "binder.bind(globals())\n",
    "from learntools.ml_intermediate.ex1 import *\n",
    "print(\"Setup Complete\")"
   ]
  },
  {
   "cell_type": "markdown",
   "id": "d3b82839",
   "metadata": {
    "papermill": {
     "duration": 0.005566,
     "end_time": "2022-11-02T00:04:49.676103",
     "exception": false,
     "start_time": "2022-11-02T00:04:49.670537",
     "status": "completed"
    },
    "tags": []
   },
   "source": [
    "You will work with data from the [Housing Prices Competition for Kaggle Learn Users](https://www.kaggle.com/c/home-data-for-ml-course) to predict home prices in Iowa using 79 explanatory variables describing (almost) every aspect of the homes.  \n",
    "\n",
    "![Ames Housing dataset image](https://i.imgur.com/lTJVG4e.png)\n",
    "\n",
    "Run the next code cell without changes to load the training and validation features in `X_train` and `X_valid`, along with the prediction targets in `y_train` and `y_valid`.  The test features are loaded in `X_test`.  (_If you need to review **features** and **prediction targets**, please check out [this short tutorial](https://www.kaggle.com/dansbecker/your-first-machine-learning-model).  To read about model **validation**, look [here](https://www.kaggle.com/dansbecker/model-validation).  Alternatively, if you'd prefer to look through a full course to review all of these topics, start [here](https://www.kaggle.com/learn/machine-learning).)_"
   ]
  },
  {
   "cell_type": "code",
   "execution_count": 2,
   "id": "7706931b",
   "metadata": {
    "execution": {
     "iopub.execute_input": "2022-11-02T00:04:49.689602Z",
     "iopub.status.busy": "2022-11-02T00:04:49.689178Z",
     "iopub.status.idle": "2022-11-02T00:04:49.796814Z",
     "shell.execute_reply": "2022-11-02T00:04:49.795796Z"
    },
    "papermill": {
     "duration": 0.11751,
     "end_time": "2022-11-02T00:04:49.799421",
     "exception": false,
     "start_time": "2022-11-02T00:04:49.681911",
     "status": "completed"
    },
    "tags": []
   },
   "outputs": [],
   "source": [
    "import pandas as pd\n",
    "from sklearn.model_selection import train_test_split\n",
    "\n",
    "# Read the data\n",
    "X_full = pd.read_csv('../input/train.csv', index_col='Id')\n",
    "X_test_full = pd.read_csv('../input/test.csv', index_col='Id')\n",
    "\n",
    "# Obtain target and predictors\n",
    "y = X_full.SalePrice\n",
    "features = ['LotArea', 'YearBuilt', '1stFlrSF', '2ndFlrSF', 'FullBath', 'BedroomAbvGr', 'TotRmsAbvGrd']\n",
    "X = X_full[features].copy()\n",
    "X_test = X_test_full[features].copy()\n",
    "\n",
    "# Break off validation set from training data\n",
    "X_train, X_valid, y_train, y_valid = train_test_split(X, y, train_size=0.8, test_size=0.2,\n",
    "                                                      random_state=0)"
   ]
  },
  {
   "cell_type": "markdown",
   "id": "81b0a76b",
   "metadata": {
    "papermill": {
     "duration": 0.005691,
     "end_time": "2022-11-02T00:04:49.811141",
     "exception": false,
     "start_time": "2022-11-02T00:04:49.805450",
     "status": "completed"
    },
    "tags": []
   },
   "source": [
    "Use the next cell to print the first several rows of the data. It's a nice way to get an overview of the data you will use in your price prediction model."
   ]
  },
  {
   "cell_type": "code",
   "execution_count": 3,
   "id": "b5b6f64f",
   "metadata": {
    "execution": {
     "iopub.execute_input": "2022-11-02T00:04:49.825143Z",
     "iopub.status.busy": "2022-11-02T00:04:49.824534Z",
     "iopub.status.idle": "2022-11-02T00:04:49.841140Z",
     "shell.execute_reply": "2022-11-02T00:04:49.840345Z"
    },
    "papermill": {
     "duration": 0.026159,
     "end_time": "2022-11-02T00:04:49.843277",
     "exception": false,
     "start_time": "2022-11-02T00:04:49.817118",
     "status": "completed"
    },
    "tags": []
   },
   "outputs": [
    {
     "data": {
      "text/html": [
       "<div>\n",
       "<style scoped>\n",
       "    .dataframe tbody tr th:only-of-type {\n",
       "        vertical-align: middle;\n",
       "    }\n",
       "\n",
       "    .dataframe tbody tr th {\n",
       "        vertical-align: top;\n",
       "    }\n",
       "\n",
       "    .dataframe thead th {\n",
       "        text-align: right;\n",
       "    }\n",
       "</style>\n",
       "<table border=\"1\" class=\"dataframe\">\n",
       "  <thead>\n",
       "    <tr style=\"text-align: right;\">\n",
       "      <th></th>\n",
       "      <th>LotArea</th>\n",
       "      <th>YearBuilt</th>\n",
       "      <th>1stFlrSF</th>\n",
       "      <th>2ndFlrSF</th>\n",
       "      <th>FullBath</th>\n",
       "      <th>BedroomAbvGr</th>\n",
       "      <th>TotRmsAbvGrd</th>\n",
       "    </tr>\n",
       "    <tr>\n",
       "      <th>Id</th>\n",
       "      <th></th>\n",
       "      <th></th>\n",
       "      <th></th>\n",
       "      <th></th>\n",
       "      <th></th>\n",
       "      <th></th>\n",
       "      <th></th>\n",
       "    </tr>\n",
       "  </thead>\n",
       "  <tbody>\n",
       "    <tr>\n",
       "      <th>619</th>\n",
       "      <td>11694</td>\n",
       "      <td>2007</td>\n",
       "      <td>1828</td>\n",
       "      <td>0</td>\n",
       "      <td>2</td>\n",
       "      <td>3</td>\n",
       "      <td>9</td>\n",
       "    </tr>\n",
       "    <tr>\n",
       "      <th>871</th>\n",
       "      <td>6600</td>\n",
       "      <td>1962</td>\n",
       "      <td>894</td>\n",
       "      <td>0</td>\n",
       "      <td>1</td>\n",
       "      <td>2</td>\n",
       "      <td>5</td>\n",
       "    </tr>\n",
       "    <tr>\n",
       "      <th>93</th>\n",
       "      <td>13360</td>\n",
       "      <td>1921</td>\n",
       "      <td>964</td>\n",
       "      <td>0</td>\n",
       "      <td>1</td>\n",
       "      <td>2</td>\n",
       "      <td>5</td>\n",
       "    </tr>\n",
       "    <tr>\n",
       "      <th>818</th>\n",
       "      <td>13265</td>\n",
       "      <td>2002</td>\n",
       "      <td>1689</td>\n",
       "      <td>0</td>\n",
       "      <td>2</td>\n",
       "      <td>3</td>\n",
       "      <td>7</td>\n",
       "    </tr>\n",
       "    <tr>\n",
       "      <th>303</th>\n",
       "      <td>13704</td>\n",
       "      <td>2001</td>\n",
       "      <td>1541</td>\n",
       "      <td>0</td>\n",
       "      <td>2</td>\n",
       "      <td>3</td>\n",
       "      <td>6</td>\n",
       "    </tr>\n",
       "  </tbody>\n",
       "</table>\n",
       "</div>"
      ],
      "text/plain": [
       "     LotArea  YearBuilt  1stFlrSF  2ndFlrSF  FullBath  BedroomAbvGr  \\\n",
       "Id                                                                    \n",
       "619    11694       2007      1828         0         2             3   \n",
       "871     6600       1962       894         0         1             2   \n",
       "93     13360       1921       964         0         1             2   \n",
       "818    13265       2002      1689         0         2             3   \n",
       "303    13704       2001      1541         0         2             3   \n",
       "\n",
       "     TotRmsAbvGrd  \n",
       "Id                 \n",
       "619             9  \n",
       "871             5  \n",
       "93              5  \n",
       "818             7  \n",
       "303             6  "
      ]
     },
     "execution_count": 3,
     "metadata": {},
     "output_type": "execute_result"
    }
   ],
   "source": [
    "X_train.head()"
   ]
  },
  {
   "cell_type": "markdown",
   "id": "915f69a6",
   "metadata": {
    "papermill": {
     "duration": 0.00742,
     "end_time": "2022-11-02T00:04:49.856894",
     "exception": false,
     "start_time": "2022-11-02T00:04:49.849474",
     "status": "completed"
    },
    "tags": []
   },
   "source": [
    "The next code cell defines five different random forest models.  Run this code cell without changes.  (_To review **random forests**, look [here](https://www.kaggle.com/dansbecker/random-forests)._)"
   ]
  },
  {
   "cell_type": "code",
   "execution_count": 4,
   "id": "2e634f62",
   "metadata": {
    "execution": {
     "iopub.execute_input": "2022-11-02T00:04:49.870854Z",
     "iopub.status.busy": "2022-11-02T00:04:49.870449Z",
     "iopub.status.idle": "2022-11-02T00:04:49.877553Z",
     "shell.execute_reply": "2022-11-02T00:04:49.876371Z"
    },
    "papermill": {
     "duration": 0.016798,
     "end_time": "2022-11-02T00:04:49.879837",
     "exception": false,
     "start_time": "2022-11-02T00:04:49.863039",
     "status": "completed"
    },
    "tags": []
   },
   "outputs": [],
   "source": [
    "from sklearn.ensemble import RandomForestRegressor\n",
    "\n",
    "# Define the models\n",
    "model_1 = RandomForestRegressor(n_estimators=50, random_state=0)\n",
    "model_2 = RandomForestRegressor(n_estimators=100, random_state=0)\n",
    "model_3 = RandomForestRegressor(n_estimators=100, criterion='absolute_error', random_state=0)\n",
    "model_4 = RandomForestRegressor(n_estimators=200, min_samples_split=20, random_state=0)\n",
    "model_5 = RandomForestRegressor(n_estimators=100, max_depth=7, random_state=0)\n",
    "\n",
    "models = [model_1, model_2, model_3, model_4, model_5]"
   ]
  },
  {
   "cell_type": "markdown",
   "id": "bf7c9fe4",
   "metadata": {
    "papermill": {
     "duration": 0.005783,
     "end_time": "2022-11-02T00:04:49.891864",
     "exception": false,
     "start_time": "2022-11-02T00:04:49.886081",
     "status": "completed"
    },
    "tags": []
   },
   "source": [
    "To select the best model out of the five, we define a function `score_model()` below.  This function returns the mean absolute error (MAE) from the validation set.  Recall that the best model will obtain the lowest MAE.  (_To review **mean absolute error**, look [here](https://www.kaggle.com/dansbecker/model-validation).)_\n",
    "\n",
    "Run the code cell without changes."
   ]
  },
  {
   "cell_type": "code",
   "execution_count": 5,
   "id": "92503d2f",
   "metadata": {
    "execution": {
     "iopub.execute_input": "2022-11-02T00:04:49.906051Z",
     "iopub.status.busy": "2022-11-02T00:04:49.905429Z",
     "iopub.status.idle": "2022-11-02T00:04:54.589176Z",
     "shell.execute_reply": "2022-11-02T00:04:54.587085Z"
    },
    "papermill": {
     "duration": 4.694905,
     "end_time": "2022-11-02T00:04:54.592804",
     "exception": false,
     "start_time": "2022-11-02T00:04:49.897899",
     "status": "completed"
    },
    "tags": []
   },
   "outputs": [
    {
     "name": "stdout",
     "output_type": "stream",
     "text": [
      "Model 1 MAE: 24015\n",
      "Model 2 MAE: 23740\n",
      "Model 3 MAE: 23528\n",
      "Model 4 MAE: 23996\n",
      "Model 5 MAE: 23706\n"
     ]
    }
   ],
   "source": [
    "from sklearn.metrics import mean_absolute_error\n",
    "\n",
    "# Function for comparing different models\n",
    "def score_model(model, X_t=X_train, X_v=X_valid, y_t=y_train, y_v=y_valid):\n",
    "    model.fit(X_t, y_t)\n",
    "    preds = model.predict(X_v)\n",
    "    return mean_absolute_error(y_v, preds)\n",
    "\n",
    "for i in range(0, len(models)):\n",
    "    mae = score_model(models[i])\n",
    "    print(\"Model %d MAE: %d\" % (i+1, mae))"
   ]
  },
  {
   "cell_type": "markdown",
   "id": "8e61ff64",
   "metadata": {
    "papermill": {
     "duration": 0.006196,
     "end_time": "2022-11-02T00:04:54.605927",
     "exception": false,
     "start_time": "2022-11-02T00:04:54.599731",
     "status": "completed"
    },
    "tags": []
   },
   "source": [
    "## > my code\n",
    "makes an array to hold or append all MAE results"
   ]
  },
  {
   "cell_type": "code",
   "execution_count": 6,
   "id": "1a23d2df",
   "metadata": {
    "execution": {
     "iopub.execute_input": "2022-11-02T00:04:54.621076Z",
     "iopub.status.busy": "2022-11-02T00:04:54.620644Z",
     "iopub.status.idle": "2022-11-02T00:04:59.242672Z",
     "shell.execute_reply": "2022-11-02T00:04:59.241736Z"
    },
    "papermill": {
     "duration": 4.633517,
     "end_time": "2022-11-02T00:04:59.245874",
     "exception": false,
     "start_time": "2022-11-02T00:04:54.612357",
     "status": "completed"
    },
    "tags": []
   },
   "outputs": [
    {
     "name": "stdout",
     "output_type": "stream",
     "text": [
      "Model 1 MAE: 24015\n",
      "Model 2 MAE: 23740\n",
      "Model 3 MAE: 23528\n",
      "Model 4 MAE: 23996\n",
      "Model 5 MAE: 23706\n"
     ]
    }
   ],
   "source": [
    "from sklearn.metrics import mean_absolute_error\n",
    "\n",
    "# Function for comparing different models\n",
    "def score_model(model, X_t=X_train, X_v=X_valid, y_t=y_train, y_v=y_valid):\n",
    "    model.fit(X_t, y_t)\n",
    "    preds = model.predict(X_v)\n",
    "    return mean_absolute_error(y_v, preds)\n",
    "# create a dictionary to store the results: mae_results\n",
    "mae_results = []\n",
    "for i in range(0, len(models)):\n",
    "    mae = score_model(models[i])\n",
    "    print(\"Model %d MAE: %d\" % (i+1, mae))\n",
    "    mae_results.append(mae)"
   ]
  },
  {
   "cell_type": "markdown",
   "id": "7c39fe58",
   "metadata": {
    "papermill": {
     "duration": 0.0065,
     "end_time": "2022-11-02T00:04:59.260159",
     "exception": false,
     "start_time": "2022-11-02T00:04:59.253659",
     "status": "completed"
    },
    "tags": []
   },
   "source": [
    "# Step 1: Evaluate several models\n",
    "\n",
    "Use the above results to fill in the line below.  Which model is the best model?  Your answer should be one of `model_1`, `model_2`, `model_3`, `model_4`, or `model_5`."
   ]
  },
  {
   "cell_type": "markdown",
   "id": "3487ed51",
   "metadata": {
    "papermill": {
     "duration": 0.006507,
     "end_time": "2022-11-02T00:04:59.273623",
     "exception": false,
     "start_time": "2022-11-02T00:04:59.267116",
     "status": "completed"
    },
    "tags": []
   },
   "source": [
    "## > my code\n",
    "prints info of the best model to the screen or console\n"
   ]
  },
  {
   "cell_type": "code",
   "execution_count": 1,
   "id": "ae340c1f",
   "metadata": {
    "execution": {
     "iopub.execute_input": "2022-11-02T00:04:59.288727Z",
     "iopub.status.busy": "2022-11-02T00:04:59.288274Z",
     "iopub.status.idle": "2022-11-02T00:04:59.298529Z",
     "shell.execute_reply": "2022-11-02T00:04:59.296887Z"
    },
    "papermill": {
     "duration": 0.020644,
     "end_time": "2022-11-02T00:04:59.300874",
     "exception": false,
     "start_time": "2022-11-02T00:04:59.280230",
     "status": "completed"
    },
    "tags": []
   },
   "outputs": [
    {
     "ename": "NameError",
     "evalue": "name 'mae_results' is not defined",
     "output_type": "error",
     "traceback": [
      "\u001b[0;31m---------------------------------------------------------------------------\u001b[0m",
      "\u001b[0;31mNameError\u001b[0m                                 Traceback (most recent call last)",
      "Cell \u001b[0;32mIn [1], line 2\u001b[0m\n\u001b[1;32m      1\u001b[0m \u001b[39m# find the min of mae_results\u001b[39;00m\n\u001b[0;32m----> 2\u001b[0m min_mae_results \u001b[39m=\u001b[39m \u001b[39mmin\u001b[39m(mae_results)\n\u001b[1;32m      4\u001b[0m \u001b[39m# print min mae_results\u001b[39;00m\n\u001b[1;32m      5\u001b[0m \u001b[39mprint\u001b[39m(\u001b[39m\"\u001b[39m\u001b[39mmin mae_results: \u001b[39m\u001b[39m%d\u001b[39;00m\u001b[39m\"\u001b[39m \u001b[39m%\u001b[39m min_mae_results)\n",
      "\u001b[0;31mNameError\u001b[0m: name 'mae_results' is not defined"
     ]
    }
   ],
   "source": [
    "# find the min of mae_results\n",
    "min_mae_results = min(mae_results)\n",
    "\n",
    "# print min mae_results\n",
    "print(\"min mae_results: %d\" % min_mae_results)\n",
    "\n",
    "# find index of min mae_results or best model\n",
    "best_model_index = mae_results.index(min_mae_results)+1\n",
    "\n",
    "# print best model index    \n",
    "print(\"best model index: %d\" % best_model_index)\n",
    "\n",
    "# get the best model from models list\n",
    "best_model = models[best_model_index-1]\n",
    "\n",
    "print(\"best model: %s\" % best_model)\n",
    "\n",
    "# make best_model equals the word model_ concatenated with index of best model\n",
    "best_model = \"model_\" + str(best_model_index)\n",
    "print(best_model)\n"
   ]
  },
  {
   "cell_type": "code",
   "execution_count": 8,
   "id": "56acecf6",
   "metadata": {
    "execution": {
     "iopub.execute_input": "2022-11-02T00:04:59.316567Z",
     "iopub.status.busy": "2022-11-02T00:04:59.316150Z",
     "iopub.status.idle": "2022-11-02T00:04:59.325524Z",
     "shell.execute_reply": "2022-11-02T00:04:59.324358Z"
    },
    "papermill": {
     "duration": 0.020041,
     "end_time": "2022-11-02T00:04:59.327828",
     "exception": false,
     "start_time": "2022-11-02T00:04:59.307787",
     "status": "completed"
    },
    "tags": []
   },
   "outputs": [
    {
     "data": {
      "application/javascript": "parent.postMessage({\"jupyterEvent\": \"custom.exercise_interaction\", \"data\": {\"outcomeType\": 1, \"valueTowardsCompletion\": 0.5, \"interactionType\": 1, \"questionType\": 2, \"questionId\": \"1_BestModel\", \"learnToolsVersion\": \"0.3.4\", \"failureMessage\": \"\", \"exceptionClass\": \"\", \"trace\": \"\"}}, \"*\")",
      "text/plain": [
       "<IPython.core.display.Javascript object>"
      ]
     },
     "metadata": {},
     "output_type": "display_data"
    },
    {
     "data": {
      "text/markdown": [
       "<span style=\"color:#33cc33\">Correct</span>"
      ],
      "text/plain": [
       "Correct"
      ]
     },
     "metadata": {},
     "output_type": "display_data"
    }
   ],
   "source": [
    "# Fill in the best model\n",
    "best_model = model_3\n",
    "\n",
    "# Check your answer\n",
    "step_1.check()"
   ]
  },
  {
   "cell_type": "code",
   "execution_count": 9,
   "id": "62dbe8e6",
   "metadata": {
    "execution": {
     "iopub.execute_input": "2022-11-02T00:04:59.345307Z",
     "iopub.status.busy": "2022-11-02T00:04:59.344440Z",
     "iopub.status.idle": "2022-11-02T00:04:59.349474Z",
     "shell.execute_reply": "2022-11-02T00:04:59.348587Z"
    },
    "papermill": {
     "duration": 0.016434,
     "end_time": "2022-11-02T00:04:59.351937",
     "exception": false,
     "start_time": "2022-11-02T00:04:59.335503",
     "status": "completed"
    },
    "tags": []
   },
   "outputs": [],
   "source": [
    "# Lines below will give you a hint or solution code\n",
    "#step_1.hint()\n",
    "#step_1.solution()"
   ]
  },
  {
   "cell_type": "markdown",
   "id": "2850e761",
   "metadata": {
    "papermill": {
     "duration": 0.00715,
     "end_time": "2022-11-02T00:04:59.366470",
     "exception": false,
     "start_time": "2022-11-02T00:04:59.359320",
     "status": "completed"
    },
    "tags": []
   },
   "source": [
    "# Step 2: Generate test predictions\n",
    "\n",
    "Great. You know how to evaluate what makes an accurate model. Now it's time to go through the modeling process and make predictions. In the line below, create a Random Forest model with the variable name `my_model`."
   ]
  },
  {
   "cell_type": "code",
   "execution_count": 10,
   "id": "5b9dc7d8",
   "metadata": {
    "execution": {
     "iopub.execute_input": "2022-11-02T00:04:59.382919Z",
     "iopub.status.busy": "2022-11-02T00:04:59.382096Z",
     "iopub.status.idle": "2022-11-02T00:04:59.391143Z",
     "shell.execute_reply": "2022-11-02T00:04:59.390226Z"
    },
    "papermill": {
     "duration": 0.019719,
     "end_time": "2022-11-02T00:04:59.393341",
     "exception": false,
     "start_time": "2022-11-02T00:04:59.373622",
     "status": "completed"
    },
    "tags": []
   },
   "outputs": [
    {
     "data": {
      "application/javascript": "parent.postMessage({\"jupyterEvent\": \"custom.exercise_interaction\", \"data\": {\"outcomeType\": 1, \"valueTowardsCompletion\": 0.5, \"interactionType\": 1, \"questionType\": 2, \"questionId\": \"2_Predictions\", \"learnToolsVersion\": \"0.3.4\", \"failureMessage\": \"\", \"exceptionClass\": \"\", \"trace\": \"\"}}, \"*\")",
      "text/plain": [
       "<IPython.core.display.Javascript object>"
      ]
     },
     "metadata": {},
     "output_type": "display_data"
    },
    {
     "data": {
      "text/markdown": [
       "<span style=\"color:#33cc33\">Correct</span>"
      ],
      "text/plain": [
       "Correct"
      ]
     },
     "metadata": {},
     "output_type": "display_data"
    }
   ],
   "source": [
    "# Define a model\n",
    "my_model = best_model\n",
    "\n",
    "\n",
    "# Check your answer\n",
    "step_2.check()"
   ]
  },
  {
   "cell_type": "code",
   "execution_count": 11,
   "id": "1fcd39b5",
   "metadata": {
    "execution": {
     "iopub.execute_input": "2022-11-02T00:04:59.409602Z",
     "iopub.status.busy": "2022-11-02T00:04:59.408899Z",
     "iopub.status.idle": "2022-11-02T00:04:59.421224Z",
     "shell.execute_reply": "2022-11-02T00:04:59.420461Z"
    },
    "papermill": {
     "duration": 0.022862,
     "end_time": "2022-11-02T00:04:59.423371",
     "exception": false,
     "start_time": "2022-11-02T00:04:59.400509",
     "status": "completed"
    },
    "tags": []
   },
   "outputs": [
    {
     "data": {
      "application/javascript": "parent.postMessage({\"jupyterEvent\": \"custom.exercise_interaction\", \"data\": {\"interactionType\": 2, \"questionType\": 2, \"questionId\": \"2_Predictions\", \"learnToolsVersion\": \"0.3.4\", \"valueTowardsCompletion\": 0.0, \"failureMessage\": \"\", \"exceptionClass\": \"\", \"trace\": \"\", \"outcomeType\": 4}}, \"*\")",
      "text/plain": [
       "<IPython.core.display.Javascript object>"
      ]
     },
     "metadata": {},
     "output_type": "display_data"
    },
    {
     "data": {
      "text/markdown": [
       "<span style=\"color:#3366cc\">Hint:</span> You need only set `my_model` to a random forest model.  You are welcome (but not required) to choose one of the five models above."
      ],
      "text/plain": [
       "Hint: You need only set `my_model` to a random forest model.  You are welcome (but not required) to choose one of the five models above."
      ]
     },
     "metadata": {},
     "output_type": "display_data"
    },
    {
     "data": {
      "application/javascript": "parent.postMessage({\"jupyterEvent\": \"custom.exercise_interaction\", \"data\": {\"interactionType\": 3, \"questionType\": 2, \"questionId\": \"2_Predictions\", \"learnToolsVersion\": \"0.3.4\", \"valueTowardsCompletion\": 0.0, \"failureMessage\": \"\", \"exceptionClass\": \"\", \"trace\": \"\", \"outcomeType\": 4}}, \"*\")",
      "text/plain": [
       "<IPython.core.display.Javascript object>"
      ]
     },
     "metadata": {},
     "output_type": "display_data"
    },
    {
     "data": {
      "text/markdown": [
       "<span style=\"color:#33cc99\">Solution:</span> \n",
       "```python\n",
       "# Define a model\n",
       "my_model = best_model\n",
       "\n",
       "```"
      ],
      "text/plain": [
       "Solution: \n",
       "```python\n",
       "# Define a model\n",
       "my_model = best_model\n",
       "\n",
       "```"
      ]
     },
     "metadata": {},
     "output_type": "display_data"
    }
   ],
   "source": [
    "# Lines below will give you a hint or solution code\n",
    "# step_2.hint()\n",
    "# step_2.solution()"
   ]
  },
  {
   "cell_type": "markdown",
   "id": "7324c5cd",
   "metadata": {
    "papermill": {
     "duration": 0.007607,
     "end_time": "2022-11-02T00:04:59.438731",
     "exception": false,
     "start_time": "2022-11-02T00:04:59.431124",
     "status": "completed"
    },
    "tags": []
   },
   "source": [
    "Run the next code cell without changes.  The code fits the model to the training and validation data, and then generates test predictions that are saved to a CSV file.  These test predictions can be submitted directly to the competition!"
   ]
  },
  {
   "cell_type": "code",
   "execution_count": 12,
   "id": "5b319913",
   "metadata": {
    "execution": {
     "iopub.execute_input": "2022-11-02T00:04:59.456518Z",
     "iopub.status.busy": "2022-11-02T00:04:59.455573Z",
     "iopub.status.idle": "2022-11-02T00:05:03.514711Z",
     "shell.execute_reply": "2022-11-02T00:05:03.513710Z"
    },
    "papermill": {
     "duration": 4.070894,
     "end_time": "2022-11-02T00:05:03.517459",
     "exception": false,
     "start_time": "2022-11-02T00:04:59.446565",
     "status": "completed"
    },
    "tags": []
   },
   "outputs": [],
   "source": [
    "# Fit the model to the training data\n",
    "my_model.fit(X, y)\n",
    "\n",
    "# Generate test predictions\n",
    "preds_test = my_model.predict(X_test)\n",
    "\n",
    "# Save predictions in format used for competition scoring\n",
    "output = pd.DataFrame({'Id': X_test.index,\n",
    "                       'SalePrice': preds_test})\n",
    "output.to_csv('model_3_submission.csv', index=False)"
   ]
  },
  {
   "cell_type": "markdown",
   "id": "94f3b8b4",
   "metadata": {},
   "source": [
    "# My submission\n",
    "I restarted the exercise and got a better score. This time I tried 18 variations of the random forest model. I got the best score with the following parameters:\n",
    "\n",
    "    n_estimators = 1000\n",
    "    max_depth = 10\n",
    "    min_samples_split = 2\n",
    "    min_samples_leaf = 1\n",
    "    max_features = 'sqrt'\n",
    "    bootstrap = True\n",
    "\n",
    "    and the MAE was _________\n",
    "\n",
    "    my best model was __________\n",
    "    "
   ]
  },
  {
   "cell_type": "code",
   "execution_count": 4,
   "id": "4b67edd8",
   "metadata": {},
   "outputs": [
    {
     "ename": "ModuleNotFoundError",
     "evalue": "No module named 'sklearn'",
     "output_type": "error",
     "traceback": [
      "\u001b[0;31m---------------------------------------------------------------------------\u001b[0m",
      "\u001b[0;31mModuleNotFoundError\u001b[0m                       Traceback (most recent call last)",
      "Cell \u001b[0;32mIn [4], line 1\u001b[0m\n\u001b[0;32m----> 1\u001b[0m \u001b[39mfrom\u001b[39;00m \u001b[39msklearn\u001b[39;00m\u001b[39m.\u001b[39;00m\u001b[39mensemble\u001b[39;00m \u001b[39mimport\u001b[39;00m RandomForestRegressor\n\u001b[1;32m      3\u001b[0m \u001b[39m# Define the models\u001b[39;00m\n\u001b[1;32m      4\u001b[0m model_1 \u001b[39m=\u001b[39m RandomForestRegressor(n_estimators\u001b[39m=\u001b[39m\u001b[39m50\u001b[39m, random_state\u001b[39m=\u001b[39m\u001b[39m0\u001b[39m)\n",
      "\u001b[0;31mModuleNotFoundError\u001b[0m: No module named 'sklearn'"
     ]
    }
   ],
   "source": [
    "from sklearn.ensemble import RandomForestRegressor\n",
    "\n",
    "# Define the models\n",
    "model_1 = RandomForestRegressor(n_estimators=50, random_state=0)\n",
    "model_2 = RandomForestRegressor(n_estimators=100, random_state=0)\n",
    "model_3 = RandomForestRegressor(n_estimators=100, criterion='absolute_error', random_state=0)\n",
    "model_4 = RandomForestRegressor(n_estimators=200, min_samples_split=20, random_state=0)\n",
    "model_5 = RandomForestRegressor(n_estimators=100, max_depth=7, random_state=0)\n",
    "model_6 = RandomForestRegressor(n_estimators=100, max_depth=7, min_samples_split=20, random_state=0)\n",
    "model_7 = RandomForestRegressor(n_estimators=100, max_depth=7, min_samples_split=20, max_features=0.5, random_state=0)\n",
    "model_8 = RandomForestRegressor(n_estimators=100, criterion='absolute_error', max_depth=7, random_state=0)\n",
    "model_9 = RandomForestRegressor(n_estimators=100, criterion='absolute_error', max_depth=7, min_samples_split=20, random_state=0)\n",
    "model_10 = RandomForestRegressor(n_estimators=100, criterion='absolute_error', max_depth=7, min_samples_split=20, max_features=0.5, random_state=0)\n",
    "\n",
    "\n",
    "models = [model_1, model_2, model_3, model_4, model_5, model_6, model_7, model_8, model_9, model_10]"
   ]
  },
  {
   "cell_type": "code",
   "execution_count": null,
   "id": "3298fb8b",
   "metadata": {},
   "outputs": [],
   "source": [
    "from sklearn.metrics import mean_absolute_error\n",
    "\n",
    "# Function for comparing different models\n",
    "def score_model(model, X_t=X_train, X_v=X_valid, y_t=y_train, y_v=y_valid):\n",
    "    model.fit(X_t, y_t)\n",
    "    preds = model.predict(X_v)\n",
    "    return mean_absolute_error(y_v, preds)\n",
    "\n",
    "# create a dictionary to store the results: mae_results*\n",
    "mae_results = []\n",
    "\n",
    "for i in range(0, len(models)):\n",
    "    mae = score_model(models[i])\n",
    "    print(\"Model %d MAE: %d\" % (i+1, mae))\n",
    "\n",
    "    # append the mae to the dictionary*\n",
    "    mae_results.append(mae) \n",
    "\n"
   ]
  },
  {
   "cell_type": "code",
   "execution_count": null,
   "id": "0ffb76a9",
   "metadata": {},
   "outputs": [],
   "source": [
    "# find the min of mae_results\n",
    "min_mae_results = min(mae_results)\n",
    "\n",
    "# print min mae_results\n",
    "print(\"min mae_results: %d\" % min_mae_results)\n",
    "\n",
    "# find index of min mae_results or best model\n",
    "best_model_index = mae_results.index(min_mae_results)+1\n",
    "\n",
    "# print best model index    \n",
    "print(\"best model index: %d\" % best_model_index)\n",
    "\n",
    "# get the best model from models list\n",
    "best_model = models[best_model_index-1]\n",
    "\n",
    "print(\"best model: %s\" % best_model)"
   ]
  },
  {
   "cell_type": "code",
   "execution_count": null,
   "id": "ef3a3b18",
   "metadata": {},
   "outputs": [],
   "source": [
    "# Fit the model to the training data\n",
    "my_model.fit(X, y)\n",
    "\n",
    "# Generate test predictions\n",
    "preds_test = my_model.predict(X_test)\n",
    "\n",
    "# Save predictions in format used for competition scoring\n",
    "output = pd.DataFrame({'Id': X_test.index,\n",
    "                       'SalePrice': preds_test})\n",
    "output.to_csv('submission.csv', index=False)"
   ]
  },
  {
   "cell_type": "markdown",
   "id": "706528d8",
   "metadata": {
    "papermill": {
     "duration": 0.007392,
     "end_time": "2022-11-02T00:05:03.532876",
     "exception": false,
     "start_time": "2022-11-02T00:05:03.525484",
     "status": "completed"
    },
    "tags": []
   },
   "source": [
    "# Submit your results\n",
    "\n",
    "Once you have successfully completed Step 2, you're ready to submit your results to the leaderboard!  First, you'll need to join the competition if you haven't already.  So open a new window by clicking on [this link](https://www.kaggle.com/c/home-data-for-ml-course).  Then click on the **Join Competition** button.  _(If you see a \"Submit Predictions\" button instead of a \"Join Competition\" button, you have already joined the competition, and don't need to do so again.)_\n",
    "\n",
    "Next, follow the instructions below:\n",
    "1. Begin by clicking on the **Save Version** button in the top right corner of the window.  This will generate a pop-up window.  \n",
    "2. Ensure that the **Save and Run All** option is selected, and then click on the **Save** button.\n",
    "3. This generates a window in the bottom left corner of the notebook.  After it has finished running, click on the number to the right of the **Save Version** button.  This pulls up a list of versions on the right of the screen.  Click on the ellipsis **(...)** to the right of the most recent version, and select **Open in Viewer**.  This brings you into view mode of the same page. You will need to scroll down to get back to these instructions.\n",
    "4. Click on the **Output** tab on the right of the screen.  Then, click on the file you would like to submit, and click on the **Submit** button to submit your results to the leaderboard.\n",
    "\n",
    "You have now successfully submitted to the competition!\n",
    "\n",
    "If you want to keep working to improve your performance, select the **Edit** button in the top right of the screen. Then you can change your code and repeat the process. There's a lot of room to improve, and you will climb up the leaderboard as you work.\n"
   ]
  },
  {
   "cell_type": "markdown",
   "id": "d9e1fea0",
   "metadata": {
    "papermill": {
     "duration": 0.007637,
     "end_time": "2022-11-02T00:05:03.548282",
     "exception": false,
     "start_time": "2022-11-02T00:05:03.540645",
     "status": "completed"
    },
    "tags": []
   },
   "source": [
    "# Keep going\n",
    "\n",
    "You've made your first model. But how can you quickly make it better?\n",
    "\n",
    "Learn how to improve your competition results by incorporating columns with **[missing values](https://www.kaggle.com/alexisbcook/missing-values)**."
   ]
  },
  {
   "cell_type": "markdown",
   "id": "d673709b",
   "metadata": {
    "papermill": {
     "duration": 0.007401,
     "end_time": "2022-11-02T00:05:03.563862",
     "exception": false,
     "start_time": "2022-11-02T00:05:03.556461",
     "status": "completed"
    },
    "tags": []
   },
   "source": [
    "---\n",
    "\n",
    "\n",
    "\n",
    "\n",
    "*Have questions or comments? Visit the [course discussion forum](https://www.kaggle.com/learn/intermediate-machine-learning/discussion) to chat with other learners.*"
   ]
  }
 ],
 "metadata": {
  "kernelspec": {
   "display_name": "Python 3.10.6 64-bit",
   "language": "python",
   "name": "python3"
  },
  "language_info": {
   "codemirror_mode": {
    "name": "ipython",
    "version": 3
   },
   "file_extension": ".py",
   "mimetype": "text/x-python",
   "name": "python",
   "nbconvert_exporter": "python",
   "pygments_lexer": "ipython3",
   "version": "3.10.6"
  },
  "papermill": {
   "default_parameters": {},
   "duration": 25.075511,
   "end_time": "2022-11-02T00:05:04.294574",
   "environment_variables": {},
   "exception": null,
   "input_path": "__notebook__.ipynb",
   "output_path": "__notebook__.ipynb",
   "parameters": {},
   "start_time": "2022-11-02T00:04:39.219063",
   "version": "2.3.4"
  },
  "vscode": {
   "interpreter": {
    "hash": "b0fa6594d8f4cbf19f97940f81e996739fb7646882a419484c72d19e05852a7e"
   }
  }
 },
 "nbformat": 4,
 "nbformat_minor": 5
}
