{
 "cells": [
  {
   "cell_type": "code",
   "execution_count": 1,
   "id": "56577300",
   "metadata": {
    "_cell_guid": "b1076dfc-b9ad-4769-8c92-a6c4dae69d19",
    "_uuid": "8f2839f25d086af736a60e9eeb907d3b93b6e0e5",
    "execution": {
     "iopub.execute_input": "2022-10-19T23:18:33.383139Z",
     "iopub.status.busy": "2022-10-19T23:18:33.382698Z",
     "iopub.status.idle": "2022-10-19T23:18:33.393719Z",
     "shell.execute_reply": "2022-10-19T23:18:33.392667Z"
    },
    "papermill": {
     "duration": 0.018331,
     "end_time": "2022-10-19T23:18:33.396251",
     "exception": false,
     "start_time": "2022-10-19T23:18:33.377920",
     "status": "completed"
    },
    "tags": []
   },
   "outputs": [],
   "source": [
    "# This Python 3 environment comes with many helpful analytics libraries installed\n",
    "# It is defined by the kaggle/python Docker image: https://github.com/kaggle/docker-python\n",
    "# For example, here's several helpful packages to load\n",
    "\n",
    "import numpy as np # linear algebra\n",
    "import pandas as pd # data processing, CSV file I/O (e.g. pd.read_csv)\n",
    "\n",
    "# Input data files are available in the read-only \"../input/\" directory\n",
    "# For example, running this (by clicking run or pressing Shift+Enter) will list all files under the input directory\n",
    "\n",
    "import os\n",
    "for dirname, _, filenames in os.walk('/kaggle/input'):\n",
    "    for filename in filenames:\n",
    "        print(os.path.join(dirname, filename))\n",
    "\n",
    "# You can write up to 20GB to the current directory (/kaggle/working/) that gets preserved as output when you create a version using \"Save & Run All\" \n",
    "# You can also write temporary files to /kaggle/temp/, but they won't be saved outside of the current session"
   ]
  },
  {
   "cell_type": "markdown",
   "id": "5c25ab24",
   "metadata": {
    "papermill": {
     "duration": 0.001622,
     "end_time": "2022-10-19T23:18:33.400096",
     "exception": false,
     "start_time": "2022-10-19T23:18:33.398474",
     "status": "completed"
    },
    "tags": []
   },
   "source": [
    "Hi,\n",
    "\n",
    "Agreeing with the importance of this topic.\n",
    "\n",
    "Not a fan of extension.\n",
    "Tried `chrome://flags` > dark mode enabled\n",
    "\n",
    "also will incoorporate\n",
    "\n",
    "```\n",
    "chrome://flags/#enable-force-dark\n",
    "```\n",
    "\n",
    "and\n",
    "\n",
    "```\n",
    "plottly_darkmode\n",
    "```\n",
    "\n",
    "\n",
    "```\n",
    "Also for tables add dark background to the table\n",
    "\n",
    "```\n",
    "\n",
    "<style>\n",
    "    table {background-color: #333333;}\n",
    "</style>\n",
    "\n",
    "```\n",
    "\n",
    "https://www.kaggle.com/discussions/product-feedback/58187\n",
    "\n",
    "https://www.kaggle.com/discussions/getting-started/122838\n",
    "\n",
    "https://plotly.com/python/templates/\n",
    "```\n",
    "\n",
    "# Missing dark mode solution\n",
    "\n",
    "Per most discussions, there are mainly 3 dark mode solutions:\n",
    "\n",
    "✅ option 1: downloading the dark mode extension. \n",
    "👎 cons: spyware and not quite official\n",
    "\n",
    "✅ option 2: using  chrome://flags \n",
    "👎cons: missing info for images\n",
    "work aroun\n",
    "sns.set(style=\"ticks\", context=\"talk\")\n",
    "plt.style.use('dark_background')\n",
    "✅ option 3: view>theme>dar \n",
    "👎cons: missing info for images\n",
    "\n"
   ]
  },
  {
   "cell_type": "code",
   "execution_count": null,
   "id": "3fa6ae2b",
   "metadata": {
    "papermill": {
     "duration": 0.001468,
     "end_time": "2022-10-19T23:18:33.403264",
     "exception": false,
     "start_time": "2022-10-19T23:18:33.401796",
     "status": "completed"
    },
    "tags": []
   },
   "outputs": [],
   "source": []
  },
  {
   "cell_type": "code",
   "execution_count": null,
   "id": "949448ef",
   "metadata": {
    "papermill": {
     "duration": 0.001468,
     "end_time": "2022-10-19T23:18:33.406378",
     "exception": false,
     "start_time": "2022-10-19T23:18:33.404910",
     "status": "completed"
    },
    "tags": []
   },
   "outputs": [],
   "source": []
  }
 ],
 "metadata": {
  "kernelspec": {
   "display_name": "Python 3",
   "language": "python",
   "name": "python3"
  },
  "language_info": {
   "codemirror_mode": {
    "name": "ipython",
    "version": 3
   },
   "file_extension": ".py",
   "mimetype": "text/x-python",
   "name": "python",
   "nbconvert_exporter": "python",
   "pygments_lexer": "ipython3",
   "version": "3.7.12"
  },
  "papermill": {
   "default_parameters": {},
   "duration": 9.357659,
   "end_time": "2022-10-19T23:18:34.028060",
   "environment_variables": {},
   "exception": null,
   "input_path": "__notebook__.ipynb",
   "output_path": "__notebook__.ipynb",
   "parameters": {},
   "start_time": "2022-10-19T23:18:24.670401",
   "version": "2.3.4"
  }
 },
 "nbformat": 4,
 "nbformat_minor": 5
}
