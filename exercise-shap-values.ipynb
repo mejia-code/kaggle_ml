{
 "cells": [
  {
   "cell_type": "markdown",
   "id": "ae978cd0",
   "metadata": {
    "papermill": {
     "duration": 0.010502,
     "end_time": "2022-10-09T23:38:58.949022",
     "exception": false,
     "start_time": "2022-10-09T23:38:58.938520",
     "status": "completed"
    },
    "tags": []
   },
   "source": [
    "**This notebook is an exercise in the [Machine Learning Explainability](https://www.kaggle.com/learn/machine-learning-explainability) course.  You can reference the tutorial at [this link](https://www.kaggle.com/dansbecker/shap-values).**\n",
    "\n",
    "---\n"
   ]
  },
  {
   "cell_type": "markdown",
   "id": "14cb10f7",
   "metadata": {
    "papermill": {
     "duration": 0.006238,
     "end_time": "2022-10-09T23:38:58.962877",
     "exception": false,
     "start_time": "2022-10-09T23:38:58.956639",
     "status": "completed"
    },
    "tags": []
   },
   "source": [
    "## Set Up\n",
    "\n",
    "At this point, you have enough tools to put together compelling solutions to real-world problems. You will ned to pick the right techniques for each part of the following data science scenario. Along the way, you'll use SHAP values along with your other insights tools.\n",
    "\n",
    "**The questions below give you feedback on your work by using some checking code. Run the following cell to set up our feedback system.**"
   ]
  },
  {
   "cell_type": "code",
   "execution_count": 1,
   "id": "c42c2904",
   "metadata": {
    "execution": {
     "iopub.execute_input": "2022-10-09T23:38:58.977996Z",
     "iopub.status.busy": "2022-10-09T23:38:58.977233Z",
     "iopub.status.idle": "2022-10-09T23:38:59.030399Z",
     "shell.execute_reply": "2022-10-09T23:38:59.029219Z"
    },
    "papermill": {
     "duration": 0.064245,
     "end_time": "2022-10-09T23:38:59.033577",
     "exception": false,
     "start_time": "2022-10-09T23:38:58.969332",
     "status": "completed"
    },
    "tags": []
   },
   "outputs": [
    {
     "name": "stdout",
     "output_type": "stream",
     "text": [
      "Setup Complete\n"
     ]
    }
   ],
   "source": [
    "from learntools.ml_explainability.ex4 import *\n",
    "print(\"Setup Complete\")"
   ]
  },
  {
   "cell_type": "markdown",
   "id": "c0629606",
   "metadata": {
    "papermill": {
     "duration": 0.006109,
     "end_time": "2022-10-09T23:38:59.046107",
     "exception": false,
     "start_time": "2022-10-09T23:38:59.039998",
     "status": "completed"
    },
    "tags": []
   },
   "source": [
    "## The Scenario\n",
    "A hospital has struggled with \"readmissions,\" where they release a patient before the patient has recovered enough, and the patient returns with health complications. \n",
    "\n",
    "The hospital wants your help identifying patients at highest risk of being readmitted. Doctors (rather than your model) will make the final decision about when to release each patient; but they hope your model will highlight issues the doctors should consider when releasing a patient.\n",
    "\n",
    "The hospital has given you relevant patient medical information.  Here is a list of columns in the data:\n"
   ]
  },
  {
   "cell_type": "code",
   "execution_count": 2,
   "id": "2533b37e",
   "metadata": {
    "execution": {
     "iopub.execute_input": "2022-10-09T23:38:59.060796Z",
     "iopub.status.busy": "2022-10-09T23:38:59.060292Z",
     "iopub.status.idle": "2022-10-09T23:38:59.343473Z",
     "shell.execute_reply": "2022-10-09T23:38:59.342353Z"
    },
    "papermill": {
     "duration": 0.293166,
     "end_time": "2022-10-09T23:38:59.345607",
     "exception": false,
     "start_time": "2022-10-09T23:38:59.052441",
     "status": "completed"
    },
    "tags": []
   },
   "outputs": [
    {
     "data": {
      "text/plain": [
       "Index(['time_in_hospital', 'num_lab_procedures', 'num_procedures',\n",
       "       'num_medications', 'number_outpatient', 'number_emergency',\n",
       "       'number_inpatient', 'number_diagnoses', 'race_Caucasian',\n",
       "       'race_AfricanAmerican', 'gender_Female', 'age_[70-80)', 'age_[60-70)',\n",
       "       'age_[50-60)', 'age_[80-90)', 'age_[40-50)', 'payer_code_?',\n",
       "       'payer_code_MC', 'payer_code_HM', 'payer_code_SP', 'payer_code_BC',\n",
       "       'medical_specialty_?', 'medical_specialty_InternalMedicine',\n",
       "       'medical_specialty_Emergency/Trauma',\n",
       "       'medical_specialty_Family/GeneralPractice',\n",
       "       'medical_specialty_Cardiology', 'diag_1_428', 'diag_1_414',\n",
       "       'diag_1_786', 'diag_2_276', 'diag_2_428', 'diag_2_250', 'diag_2_427',\n",
       "       'diag_3_250', 'diag_3_401', 'diag_3_276', 'diag_3_428',\n",
       "       'max_glu_serum_None', 'A1Cresult_None', 'metformin_No',\n",
       "       'repaglinide_No', 'nateglinide_No', 'chlorpropamide_No',\n",
       "       'glimepiride_No', 'acetohexamide_No', 'glipizide_No', 'glyburide_No',\n",
       "       'tolbutamide_No', 'pioglitazone_No', 'rosiglitazone_No', 'acarbose_No',\n",
       "       'miglitol_No', 'troglitazone_No', 'tolazamide_No', 'examide_No',\n",
       "       'citoglipton_No', 'insulin_No', 'glyburide-metformin_No',\n",
       "       'glipizide-metformin_No', 'glimepiride-pioglitazone_No',\n",
       "       'metformin-rosiglitazone_No', 'metformin-pioglitazone_No', 'change_No',\n",
       "       'diabetesMed_Yes', 'readmitted'],\n",
       "      dtype='object')"
      ]
     },
     "execution_count": 2,
     "metadata": {},
     "output_type": "execute_result"
    }
   ],
   "source": [
    "import pandas as pd\n",
    "data = pd.read_csv('../input/hospital-readmissions/train.csv')\n",
    "data.columns"
   ]
  },
  {
   "cell_type": "markdown",
   "id": "46494406",
   "metadata": {
    "papermill": {
     "duration": 0.006296,
     "end_time": "2022-10-09T23:38:59.359434",
     "exception": false,
     "start_time": "2022-10-09T23:38:59.353138",
     "status": "completed"
    },
    "tags": []
   },
   "source": [
    "Here are some quick hints at interpreting the field names:\n",
    "\n",
    "- Your prediction target is `readmitted`\n",
    "- Columns with the word `diag` indicate the diagnostic code of the illness or illnesses the patient was admitted with. For example, `diag_1_428` means the doctor said their first illness diagnosis is number \"428\".  What illness does 428 correspond to? You could look it up in a codebook, but without more medical background it wouldn't mean anything to you anyway.\n",
    "- A column names like `glimepiride_No` mean the patient did not have the medicine `glimepiride`. If this feature had a value of False, then the patient did take the drug `glimepiride`\n",
    "- Features whose names begin with `medical_specialty` describe the specialty of the doctor seeing the patient. The values in these fields are all `True` or `False`.\n"
   ]
  },
  {
   "cell_type": "markdown",
   "id": "2ffe5f78",
   "metadata": {
    "papermill": {
     "duration": 0.00615,
     "end_time": "2022-10-09T23:38:59.372096",
     "exception": false,
     "start_time": "2022-10-09T23:38:59.365946",
     "status": "completed"
    },
    "tags": []
   },
   "source": [
    "## Your Code Library\n",
    "As you write code to work through this scenario, these code snippets from previous tutorials may be useful. You'll still need to modify them, but we've copied them here to save you from having to look them up.\n",
    "\n",
    "**Calculate and show permutation importance:**\n",
    "```\n",
    "import eli5\n",
    "from eli5.sklearn import PermutationImportance\n",
    "\n",
    "perm = PermutationImportance(my_model, random_state=1).fit(val_X, val_y)\n",
    "eli5.show_weights(perm, feature_names = val_X.columns.tolist())\n",
    "```\n",
    "\n",
    "**Calculate and show partial dependence plot:**\n",
    "```\n",
    "from matplotlib import pyplot as plt\n",
    "from pdpbox import pdp, get_dataset, info_plots\n",
    "\n",
    "# Create the data that we will plot\n",
    "pdp_goals = pdp.pdp_isolate(model=my_model, dataset=val_X, model_features=feature_names, feature='Goal Scored')\n",
    "\n",
    "# plot it\n",
    "pdp.pdp_plot(pdp_goals, 'Goal Scored')\n",
    "plt.show()\n",
    "```\n",
    "\n",
    "**Calculate and show Shap Values for One Prediction:**\n",
    "```\n",
    "import shap  # package used to calculate Shap values\n",
    "\n",
    "data_for_prediction = val_X.iloc[0,:]  # use 1 row of data here. Could use multiple rows if desired\n",
    "\n",
    "# Create object that can calculate shap values\n",
    "explainer = shap.TreeExplainer(my_model)\n",
    "shap_values = explainer.shap_values(data_for_prediction)\n",
    "shap.initjs()\n",
    "shap.force_plot(explainer.expected_value[0], shap_values[0], data_for_prediction)\n",
    "```\n",
    "\n",
    "## Step 1\n",
    "You have built a simple model, but the doctors say they don't know how to evaluate a model, and they'd like you to show them some evidence the model is doing something in line with their medical intuition. Create any graphics or tables that will show them a quick overview of what the model is doing?\n",
    "\n",
    "They are very busy. So they want you to condense your model overview into just 1 or 2 graphics, rather than a long string of graphics.\n",
    "\n",
    "We'll start after the point where you've built a basic model. Just run the following cell to build the model called `my_model`."
   ]
  },
  {
   "cell_type": "code",
   "execution_count": 3,
   "id": "987ba756",
   "metadata": {
    "execution": {
     "iopub.execute_input": "2022-10-09T23:38:59.387022Z",
     "iopub.status.busy": "2022-10-09T23:38:59.386385Z",
     "iopub.status.idle": "2022-10-09T23:39:02.062707Z",
     "shell.execute_reply": "2022-10-09T23:39:02.061392Z"
    },
    "papermill": {
     "duration": 2.687034,
     "end_time": "2022-10-09T23:39:02.065587",
     "exception": false,
     "start_time": "2022-10-09T23:38:59.378553",
     "status": "completed"
    },
    "tags": []
   },
   "outputs": [],
   "source": [
    "import pandas as pd\n",
    "from sklearn.ensemble import RandomForestClassifier\n",
    "from sklearn.model_selection import train_test_split\n",
    "\n",
    "data = pd.read_csv('../input/hospital-readmissions/train.csv')\n",
    "\n",
    "y = data.readmitted\n",
    "\n",
    "base_features = [c for c in data.columns if c != \"readmitted\"]\n",
    "\n",
    "X = data[base_features]\n",
    "\n",
    "train_X, val_X, train_y, val_y = train_test_split(X, y, random_state=1)\n",
    "my_model = RandomForestClassifier(n_estimators=30, random_state=1).fit(train_X, train_y)"
   ]
  },
  {
   "cell_type": "markdown",
   "id": "79e5833d",
   "metadata": {
    "papermill": {
     "duration": 0.006561,
     "end_time": "2022-10-09T23:39:02.079087",
     "exception": false,
     "start_time": "2022-10-09T23:39:02.072526",
     "status": "completed"
    },
    "tags": []
   },
   "source": [
    "Now use the following cell to create the materials for the doctors."
   ]
  },
  {
   "cell_type": "code",
   "execution_count": 4,
   "id": "6e29adee",
   "metadata": {
    "execution": {
     "iopub.execute_input": "2022-10-09T23:39:02.093698Z",
     "iopub.status.busy": "2022-10-09T23:39:02.093294Z",
     "iopub.status.idle": "2022-10-09T23:39:02.100418Z",
     "shell.execute_reply": "2022-10-09T23:39:02.099025Z"
    },
    "papermill": {
     "duration": 0.017807,
     "end_time": "2022-10-09T23:39:02.103330",
     "exception": false,
     "start_time": "2022-10-09T23:39:02.085523",
     "status": "completed"
    },
    "tags": []
   },
   "outputs": [
    {
     "data": {
      "text/markdown": [],
      "text/plain": [
       "<learntools.core.constants.PlaceholderValue at 0x7fe5bf5d15d0>"
      ]
     },
     "execution_count": 4,
     "metadata": {},
     "output_type": "execute_result"
    }
   ],
   "source": [
    "# Your code here\n",
    "____"
   ]
  },
  {
   "cell_type": "markdown",
   "id": "aa650d53",
   "metadata": {
    "papermill": {
     "duration": 0.006695,
     "end_time": "2022-10-09T23:39:02.118464",
     "exception": false,
     "start_time": "2022-10-09T23:39:02.111769",
     "status": "completed"
    },
    "tags": []
   },
   "source": [
    "For our idea of what to show, run the cell below.  "
   ]
  },
  {
   "cell_type": "code",
   "execution_count": 5,
   "id": "b4caa627",
   "metadata": {
    "execution": {
     "iopub.execute_input": "2022-10-09T23:39:02.133996Z",
     "iopub.status.busy": "2022-10-09T23:39:02.133617Z",
     "iopub.status.idle": "2022-10-09T23:39:02.142822Z",
     "shell.execute_reply": "2022-10-09T23:39:02.141917Z"
    },
    "papermill": {
     "duration": 0.019326,
     "end_time": "2022-10-09T23:39:02.145017",
     "exception": false,
     "start_time": "2022-10-09T23:39:02.125691",
     "status": "completed"
    },
    "tags": []
   },
   "outputs": [
    {
     "data": {
      "application/javascript": [
       "parent.postMessage({\"jupyterEvent\": \"custom.exercise_interaction\", \"data\": {\"interactionType\": 3, \"questionType\": 4, \"questionId\": \"1_SummarizeModel\", \"learnToolsVersion\": \"0.3.4\", \"valueTowardsCompletion\": 0.0, \"failureMessage\": \"\", \"exceptionClass\": \"\", \"trace\": \"\", \"outcomeType\": 4}}, \"*\")"
      ],
      "text/plain": [
       "<IPython.core.display.Javascript object>"
      ]
     },
     "metadata": {},
     "output_type": "display_data"
    },
    {
     "data": {
      "text/markdown": [
       "<span style=\"color:#33cc99\">Solution:</span> \n",
       "```python\n",
       "\n",
       "# Use permutation importance as a succinct model summary\n",
       "# A measure of model performance on validation data would be useful here too\n",
       "\n",
       "import eli5\n",
       "from eli5.sklearn import PermutationImportance\n",
       "\n",
       "perm = PermutationImportance(my_model, random_state=1).fit(val_X, val_y)\n",
       "eli5.show_weights(perm, feature_names = val_X.columns.tolist())\n",
       "\n",
       "```"
      ],
      "text/plain": [
       "Solution: \n",
       "```python\n",
       "\n",
       "# Use permutation importance as a succinct model summary\n",
       "# A measure of model performance on validation data would be useful here too\n",
       "\n",
       "import eli5\n",
       "from eli5.sklearn import PermutationImportance\n",
       "\n",
       "perm = PermutationImportance(my_model, random_state=1).fit(val_X, val_y)\n",
       "eli5.show_weights(perm, feature_names = val_X.columns.tolist())\n",
       "\n",
       "```"
      ]
     },
     "metadata": {},
     "output_type": "display_data"
    }
   ],
   "source": [
    "# Run this code cell to receive credit!\n",
    "q_1.solution()"
   ]
  },
  {
   "cell_type": "markdown",
   "id": "39177440",
   "metadata": {
    "papermill": {
     "duration": 0.006551,
     "end_time": "2022-10-09T23:39:02.158564",
     "exception": false,
     "start_time": "2022-10-09T23:39:02.152013",
     "status": "completed"
    },
    "tags": []
   },
   "source": [
    "If you'd like to discuss your approach or see what others have done, we have a discussion forum [here](https://www.kaggle.com/learn-forum/66267#latest-390149).\n",
    "\n"
   ]
  },
  {
   "cell_type": "markdown",
   "id": "702c1269",
   "metadata": {
    "papermill": {
     "duration": 0.006523,
     "end_time": "2022-10-09T23:39:02.171909",
     "exception": false,
     "start_time": "2022-10-09T23:39:02.165386",
     "status": "completed"
    },
    "tags": []
   },
   "source": [
    "## Step 2\n",
    "\n",
    "It appears `number_inpatient` is a really important feature. The doctors would like to know more about that. Create a graph for them that shows how `num_inpatient` affects the model's predictions."
   ]
  },
  {
   "cell_type": "code",
   "execution_count": 6,
   "id": "b010f64d",
   "metadata": {
    "execution": {
     "iopub.execute_input": "2022-10-09T23:39:02.187533Z",
     "iopub.status.busy": "2022-10-09T23:39:02.187075Z",
     "iopub.status.idle": "2022-10-09T23:39:02.194517Z",
     "shell.execute_reply": "2022-10-09T23:39:02.193667Z"
    },
    "papermill": {
     "duration": 0.017843,
     "end_time": "2022-10-09T23:39:02.196670",
     "exception": false,
     "start_time": "2022-10-09T23:39:02.178827",
     "status": "completed"
    },
    "tags": []
   },
   "outputs": [
    {
     "data": {
      "text/markdown": [],
      "text/plain": [
       "<learntools.core.constants.PlaceholderValue at 0x7fe5bf5d15d0>"
      ]
     },
     "execution_count": 6,
     "metadata": {},
     "output_type": "execute_result"
    }
   ],
   "source": [
    "# Your Code Here\n",
    "____"
   ]
  },
  {
   "cell_type": "markdown",
   "id": "a8bdae8c",
   "metadata": {
    "papermill": {
     "duration": 0.0071,
     "end_time": "2022-10-09T23:39:02.211117",
     "exception": false,
     "start_time": "2022-10-09T23:39:02.204017",
     "status": "completed"
    },
    "tags": []
   },
   "source": [
    "For our solution, run the line below."
   ]
  },
  {
   "cell_type": "code",
   "execution_count": 7,
   "id": "d3c48880",
   "metadata": {
    "execution": {
     "iopub.execute_input": "2022-10-09T23:39:02.227302Z",
     "iopub.status.busy": "2022-10-09T23:39:02.226809Z",
     "iopub.status.idle": "2022-10-09T23:39:02.236199Z",
     "shell.execute_reply": "2022-10-09T23:39:02.235106Z"
    },
    "papermill": {
     "duration": 0.019912,
     "end_time": "2022-10-09T23:39:02.238339",
     "exception": false,
     "start_time": "2022-10-09T23:39:02.218427",
     "status": "completed"
    },
    "tags": []
   },
   "outputs": [
    {
     "data": {
      "application/javascript": [
       "parent.postMessage({\"jupyterEvent\": \"custom.exercise_interaction\", \"data\": {\"interactionType\": 3, \"questionType\": 4, \"questionId\": \"2_EffectNumInpatient\", \"learnToolsVersion\": \"0.3.4\", \"valueTowardsCompletion\": 0.0, \"failureMessage\": \"\", \"exceptionClass\": \"\", \"trace\": \"\", \"outcomeType\": 4}}, \"*\")"
      ],
      "text/plain": [
       "<IPython.core.display.Javascript object>"
      ]
     },
     "metadata": {},
     "output_type": "display_data"
    },
    {
     "data": {
      "text/markdown": [
       "<span style=\"color:#33cc99\">Solution:</span> \n",
       "```python\n",
       "\n",
       "# PDP for number_inpatient feature\n",
       "\n",
       "from matplotlib import pyplot as plt\n",
       "from pdpbox import pdp, get_dataset, info_plots\n",
       "\n",
       "feature_name = 'number_inpatient'\n",
       "# Create the data that we will plot\n",
       "my_pdp = pdp.pdp_isolate(model=my_model, dataset=val_X, model_features=val_X.columns, feature=feature_name)\n",
       "\n",
       "# plot it\n",
       "pdp.pdp_plot(my_pdp, feature_name)\n",
       "plt.show()\n",
       "\n",
       "```"
      ],
      "text/plain": [
       "Solution: \n",
       "```python\n",
       "\n",
       "# PDP for number_inpatient feature\n",
       "\n",
       "from matplotlib import pyplot as plt\n",
       "from pdpbox import pdp, get_dataset, info_plots\n",
       "\n",
       "feature_name = 'number_inpatient'\n",
       "# Create the data that we will plot\n",
       "my_pdp = pdp.pdp_isolate(model=my_model, dataset=val_X, model_features=val_X.columns, feature=feature_name)\n",
       "\n",
       "# plot it\n",
       "pdp.pdp_plot(my_pdp, feature_name)\n",
       "plt.show()\n",
       "\n",
       "```"
      ]
     },
     "metadata": {},
     "output_type": "display_data"
    }
   ],
   "source": [
    "# Check your answer (Run this code cell to receive credit!)\n",
    "q_2.solution()"
   ]
  },
  {
   "cell_type": "markdown",
   "id": "1330457a",
   "metadata": {
    "papermill": {
     "duration": 0.007126,
     "end_time": "2022-10-09T23:39:02.253028",
     "exception": false,
     "start_time": "2022-10-09T23:39:02.245902",
     "status": "completed"
    },
    "tags": []
   },
   "source": [
    "## Step 3\n",
    "\n",
    "The doctors think it's a good sign that increasing the number of inpatient procedures leads to increased predictions.  But they can't tell from this plot whether that change in the plot is big or small. They'd like you to create something similar for `time_in_hospital` to see how that compares."
   ]
  },
  {
   "cell_type": "code",
   "execution_count": 8,
   "id": "752f9a38",
   "metadata": {
    "execution": {
     "iopub.execute_input": "2022-10-09T23:39:02.269844Z",
     "iopub.status.busy": "2022-10-09T23:39:02.269436Z",
     "iopub.status.idle": "2022-10-09T23:39:02.276162Z",
     "shell.execute_reply": "2022-10-09T23:39:02.274957Z"
    },
    "papermill": {
     "duration": 0.018203,
     "end_time": "2022-10-09T23:39:02.278746",
     "exception": false,
     "start_time": "2022-10-09T23:39:02.260543",
     "status": "completed"
    },
    "tags": []
   },
   "outputs": [
    {
     "data": {
      "text/markdown": [],
      "text/plain": [
       "<learntools.core.constants.PlaceholderValue at 0x7fe5bf5d15d0>"
      ]
     },
     "execution_count": 8,
     "metadata": {},
     "output_type": "execute_result"
    }
   ],
   "source": [
    "# Your Code Here\n",
    "____"
   ]
  },
  {
   "cell_type": "markdown",
   "id": "350e209d",
   "metadata": {
    "papermill": {
     "duration": 0.007154,
     "end_time": "2022-10-09T23:39:02.293476",
     "exception": false,
     "start_time": "2022-10-09T23:39:02.286322",
     "status": "completed"
    },
    "tags": []
   },
   "source": [
    "Uncomment the relevant line below to see one solution."
   ]
  },
  {
   "cell_type": "code",
   "execution_count": 9,
   "id": "a27ff0d6",
   "metadata": {
    "execution": {
     "iopub.execute_input": "2022-10-09T23:39:02.310961Z",
     "iopub.status.busy": "2022-10-09T23:39:02.310452Z",
     "iopub.status.idle": "2022-10-09T23:39:02.318519Z",
     "shell.execute_reply": "2022-10-09T23:39:02.317652Z"
    },
    "papermill": {
     "duration": 0.019644,
     "end_time": "2022-10-09T23:39:02.320707",
     "exception": false,
     "start_time": "2022-10-09T23:39:02.301063",
     "status": "completed"
    },
    "tags": []
   },
   "outputs": [
    {
     "data": {
      "application/javascript": [
       "parent.postMessage({\"jupyterEvent\": \"custom.exercise_interaction\", \"data\": {\"interactionType\": 3, \"questionType\": 4, \"questionId\": \"3_EffectTimeInHospital\", \"learnToolsVersion\": \"0.3.4\", \"valueTowardsCompletion\": 0.0, \"failureMessage\": \"\", \"exceptionClass\": \"\", \"trace\": \"\", \"outcomeType\": 4}}, \"*\")"
      ],
      "text/plain": [
       "<IPython.core.display.Javascript object>"
      ]
     },
     "metadata": {},
     "output_type": "display_data"
    },
    {
     "data": {
      "text/markdown": [
       "<span style=\"color:#33cc99\">Solution:</span> \n",
       "The results are very different. Specifically time in hospital has a much smaller effect. Code below:\n",
       "\n",
       "    from matplotlib import pyplot as plt\n",
       "    from pdpbox import pdp, get_dataset, info_plots\n",
       "\n",
       "    feature_name = 'time_in_hospital'\n",
       "    # Create the data that we will plot\n",
       "    my_pdp = pdp.pdp_isolate(model=my_model, dataset=val_X, model_features=val_X.columns, feature=feature_name)\n",
       "\n",
       "    # plot it\n",
       "    pdp.pdp_plot(my_pdp, feature_name)\n",
       "    plt.show()\n"
      ],
      "text/plain": [
       "Solution: \n",
       "The results are very different. Specifically time in hospital has a much smaller effect. Code below:\n",
       "\n",
       "    from matplotlib import pyplot as plt\n",
       "    from pdpbox import pdp, get_dataset, info_plots\n",
       "\n",
       "    feature_name = 'time_in_hospital'\n",
       "    # Create the data that we will plot\n",
       "    my_pdp = pdp.pdp_isolate(model=my_model, dataset=val_X, model_features=val_X.columns, feature=feature_name)\n",
       "\n",
       "    # plot it\n",
       "    pdp.pdp_plot(my_pdp, feature_name)\n",
       "    plt.show()"
      ]
     },
     "metadata": {},
     "output_type": "display_data"
    }
   ],
   "source": [
    "# Check your answer (Run this code cell to receive credit!)\n",
    "q_3.solution()"
   ]
  },
  {
   "cell_type": "markdown",
   "id": "341eedb3",
   "metadata": {
    "papermill": {
     "duration": 0.007613,
     "end_time": "2022-10-09T23:39:02.336272",
     "exception": false,
     "start_time": "2022-10-09T23:39:02.328659",
     "status": "completed"
    },
    "tags": []
   },
   "source": [
    "## Step 4\n",
    "\n",
    "Woah!  It seems like `time_in_hospital` doesn't matter at all.  The difference between the lowest value on the partial dependence plot and the highest value is about 5%.\n",
    "\n",
    "If that is what your model concluded, the doctors will believe it. But it seems so low. Could  the data be wrong, or is your model doing something more complex than they expect?  \n",
    "\n",
    "They'd like you to show them the raw readmission rate for each value of `time_in_hospital` to see how it compares to the partial dependence plot.\n",
    "\n",
    "- Make that plot. \n",
    "- Are the results similar or different?"
   ]
  },
  {
   "cell_type": "code",
   "execution_count": 10,
   "id": "1cd91906",
   "metadata": {
    "execution": {
     "iopub.execute_input": "2022-10-09T23:39:02.353762Z",
     "iopub.status.busy": "2022-10-09T23:39:02.353307Z",
     "iopub.status.idle": "2022-10-09T23:39:02.360705Z",
     "shell.execute_reply": "2022-10-09T23:39:02.359482Z"
    },
    "papermill": {
     "duration": 0.018898,
     "end_time": "2022-10-09T23:39:02.362944",
     "exception": false,
     "start_time": "2022-10-09T23:39:02.344046",
     "status": "completed"
    },
    "tags": []
   },
   "outputs": [
    {
     "data": {
      "text/markdown": [],
      "text/plain": [
       "<learntools.core.constants.PlaceholderValue at 0x7fe5bf5d15d0>"
      ]
     },
     "execution_count": 10,
     "metadata": {},
     "output_type": "execute_result"
    }
   ],
   "source": [
    "# Your Code Here\n",
    "____"
   ]
  },
  {
   "cell_type": "markdown",
   "id": "322f9564",
   "metadata": {
    "papermill": {
     "duration": 0.008897,
     "end_time": "2022-10-09T23:39:02.380010",
     "exception": false,
     "start_time": "2022-10-09T23:39:02.371113",
     "status": "completed"
    },
    "tags": []
   },
   "source": [
    "For a hint, uncomment the line below."
   ]
  },
  {
   "cell_type": "code",
   "execution_count": 11,
   "id": "477b5c26",
   "metadata": {
    "execution": {
     "iopub.execute_input": "2022-10-09T23:39:02.398709Z",
     "iopub.status.busy": "2022-10-09T23:39:02.398324Z",
     "iopub.status.idle": "2022-10-09T23:39:02.403590Z",
     "shell.execute_reply": "2022-10-09T23:39:02.402227Z"
    },
    "papermill": {
     "duration": 0.017916,
     "end_time": "2022-10-09T23:39:02.406451",
     "exception": false,
     "start_time": "2022-10-09T23:39:02.388535",
     "status": "completed"
    },
    "tags": []
   },
   "outputs": [],
   "source": [
    "# q_4.hint()"
   ]
  },
  {
   "cell_type": "code",
   "execution_count": 12,
   "id": "df11f5ef",
   "metadata": {
    "execution": {
     "iopub.execute_input": "2022-10-09T23:39:02.427146Z",
     "iopub.status.busy": "2022-10-09T23:39:02.426216Z",
     "iopub.status.idle": "2022-10-09T23:39:02.436007Z",
     "shell.execute_reply": "2022-10-09T23:39:02.435087Z"
    },
    "papermill": {
     "duration": 0.023079,
     "end_time": "2022-10-09T23:39:02.438567",
     "exception": false,
     "start_time": "2022-10-09T23:39:02.415488",
     "status": "completed"
    },
    "tags": []
   },
   "outputs": [
    {
     "data": {
      "application/javascript": [
       "parent.postMessage({\"jupyterEvent\": \"custom.exercise_interaction\", \"data\": {\"interactionType\": 3, \"questionType\": 4, \"questionId\": \"4_RawActualsInsteadOfPDP\", \"learnToolsVersion\": \"0.3.4\", \"valueTowardsCompletion\": 0.0, \"failureMessage\": \"\", \"exceptionClass\": \"\", \"trace\": \"\", \"outcomeType\": 4}}, \"*\")"
      ],
      "text/plain": [
       "<IPython.core.display.Javascript object>"
      ]
     },
     "metadata": {},
     "output_type": "display_data"
    },
    {
     "data": {
      "text/markdown": [
       "<span style=\"color:#33cc99\">Solution:</span> \n",
       "```python\n",
       "\n",
       "# A simple pandas groupby showing the average readmission rate for each time_in_hospital.\n",
       "\n",
       "# Do concat to keep validation data separate, rather than using all original data\n",
       "all_train = pd.concat([train_X, train_y], axis=1)\n",
       "\n",
       "all_train.groupby(['time_in_hospital']).mean().readmitted.plot()\n",
       "plt.show()\n",
       "\n",
       "```"
      ],
      "text/plain": [
       "Solution: \n",
       "```python\n",
       "\n",
       "# A simple pandas groupby showing the average readmission rate for each time_in_hospital.\n",
       "\n",
       "# Do concat to keep validation data separate, rather than using all original data\n",
       "all_train = pd.concat([train_X, train_y], axis=1)\n",
       "\n",
       "all_train.groupby(['time_in_hospital']).mean().readmitted.plot()\n",
       "plt.show()\n",
       "\n",
       "```"
      ]
     },
     "metadata": {},
     "output_type": "display_data"
    }
   ],
   "source": [
    "# Check your answer (Run this code cell to receive credit!)\n",
    "q_4.solution()"
   ]
  },
  {
   "cell_type": "markdown",
   "id": "b9e017d9",
   "metadata": {
    "papermill": {
     "duration": 0.009379,
     "end_time": "2022-10-09T23:39:02.457937",
     "exception": false,
     "start_time": "2022-10-09T23:39:02.448558",
     "status": "completed"
    },
    "tags": []
   },
   "source": [
    "## Step 5\n",
    "Now the doctors are convinced you have the right data, and the model overview looked reasonable.  It's time to turn this into a finished product they can use. Specifically, the hospital wants you to create a function `patient_risk_factors` that does the following\n",
    "- Takes a single row with patient data (of the same format you as your raw data)\n",
    "- Creates a visualization showing what features of that patient increased their risk of readmission, what features decreased it, and how much those features mattered.\n",
    "\n",
    "It's not important to show every feature with every miniscule impact on the readmission risk.  It's fine to focus on only the most important features for that patient."
   ]
  },
  {
   "cell_type": "code",
   "execution_count": 13,
   "id": "6c7c0601",
   "metadata": {
    "execution": {
     "iopub.execute_input": "2022-10-09T23:39:02.479550Z",
     "iopub.status.busy": "2022-10-09T23:39:02.478555Z",
     "iopub.status.idle": "2022-10-09T23:39:02.486617Z",
     "shell.execute_reply": "2022-10-09T23:39:02.485713Z"
    },
    "papermill": {
     "duration": 0.021228,
     "end_time": "2022-10-09T23:39:02.488876",
     "exception": false,
     "start_time": "2022-10-09T23:39:02.467648",
     "status": "completed"
    },
    "tags": []
   },
   "outputs": [
    {
     "data": {
      "text/markdown": [],
      "text/plain": [
       "<learntools.core.constants.PlaceholderValue at 0x7fe5bf5d15d0>"
      ]
     },
     "execution_count": 13,
     "metadata": {},
     "output_type": "execute_result"
    }
   ],
   "source": [
    "# Your Code Here\n",
    "____"
   ]
  },
  {
   "cell_type": "markdown",
   "id": "7ec602ba",
   "metadata": {
    "papermill": {
     "duration": 0.008338,
     "end_time": "2022-10-09T23:39:02.505873",
     "exception": false,
     "start_time": "2022-10-09T23:39:02.497535",
     "status": "completed"
    },
    "tags": []
   },
   "source": [
    "For a hint, uncomment the line below."
   ]
  },
  {
   "cell_type": "code",
   "execution_count": 14,
   "id": "fcee8405",
   "metadata": {
    "execution": {
     "iopub.execute_input": "2022-10-09T23:39:02.525190Z",
     "iopub.status.busy": "2022-10-09T23:39:02.524763Z",
     "iopub.status.idle": "2022-10-09T23:39:02.529224Z",
     "shell.execute_reply": "2022-10-09T23:39:02.528051Z"
    },
    "papermill": {
     "duration": 0.017308,
     "end_time": "2022-10-09T23:39:02.531876",
     "exception": false,
     "start_time": "2022-10-09T23:39:02.514568",
     "status": "completed"
    },
    "tags": []
   },
   "outputs": [],
   "source": [
    "# q_5.hint()"
   ]
  },
  {
   "cell_type": "code",
   "execution_count": 15,
   "id": "ae0dfd06",
   "metadata": {
    "execution": {
     "iopub.execute_input": "2022-10-09T23:39:02.552584Z",
     "iopub.status.busy": "2022-10-09T23:39:02.552182Z",
     "iopub.status.idle": "2022-10-09T23:39:02.561690Z",
     "shell.execute_reply": "2022-10-09T23:39:02.560522Z"
    },
    "papermill": {
     "duration": 0.022711,
     "end_time": "2022-10-09T23:39:02.564202",
     "exception": false,
     "start_time": "2022-10-09T23:39:02.541491",
     "status": "completed"
    },
    "tags": []
   },
   "outputs": [
    {
     "data": {
      "application/javascript": [
       "parent.postMessage({\"jupyterEvent\": \"custom.exercise_interaction\", \"data\": {\"interactionType\": 3, \"questionType\": 4, \"questionId\": \"5_UseShap\", \"learnToolsVersion\": \"0.3.4\", \"valueTowardsCompletion\": 0.0, \"failureMessage\": \"\", \"exceptionClass\": \"\", \"trace\": \"\", \"outcomeType\": 4}}, \"*\")"
      ],
      "text/plain": [
       "<IPython.core.display.Javascript object>"
      ]
     },
     "metadata": {},
     "output_type": "display_data"
    },
    {
     "data": {
      "text/markdown": [
       "<span style=\"color:#33cc99\">Solution:</span> \n",
       "```python\n",
       "\n",
       "# Use SHAP values to show the effect of each feature of a given patient\n",
       "\n",
       "import shap  # package used to calculate Shap values\n",
       "\n",
       "sample_data_for_prediction = val_X.iloc[0].astype(float)  # to test function\n",
       "\n",
       "def patient_risk_factors(model, patient_data):\n",
       "    # Create object that can calculate shap values\n",
       "    explainer = shap.TreeExplainer(model)\n",
       "    shap_values = explainer.shap_values(patient_data)\n",
       "    shap.initjs()\n",
       "    return shap.force_plot(explainer.expected_value[1], shap_values[1], patient_data)\n",
       "\n",
       "\n",
       "```"
      ],
      "text/plain": [
       "Solution: \n",
       "```python\n",
       "\n",
       "# Use SHAP values to show the effect of each feature of a given patient\n",
       "\n",
       "import shap  # package used to calculate Shap values\n",
       "\n",
       "sample_data_for_prediction = val_X.iloc[0].astype(float)  # to test function\n",
       "\n",
       "def patient_risk_factors(model, patient_data):\n",
       "    # Create object that can calculate shap values\n",
       "    explainer = shap.TreeExplainer(model)\n",
       "    shap_values = explainer.shap_values(patient_data)\n",
       "    shap.initjs()\n",
       "    return shap.force_plot(explainer.expected_value[1], shap_values[1], patient_data)\n",
       "\n",
       "\n",
       "```"
      ]
     },
     "metadata": {},
     "output_type": "display_data"
    }
   ],
   "source": [
    "# Check your answer (Run this code cell to receive credit!)\n",
    "q_5.solution()"
   ]
  },
  {
   "cell_type": "markdown",
   "id": "101a5da6",
   "metadata": {
    "papermill": {
     "duration": 0.009685,
     "end_time": "2022-10-09T23:39:02.584165",
     "exception": false,
     "start_time": "2022-10-09T23:39:02.574480",
     "status": "completed"
    },
    "tags": []
   },
   "source": [
    "## Keep Going\n",
    "You have some powerful tools to get insights about both models and individual predictions. Next you will look at **[aggregations of SHAP values](https://www.kaggle.com/dansbecker/advanced-uses-of-shap-values)** to link the model-level and prediction-level insights.\n"
   ]
  },
  {
   "cell_type": "markdown",
   "id": "01b62534",
   "metadata": {
    "papermill": {
     "duration": 0.009324,
     "end_time": "2022-10-09T23:39:02.603984",
     "exception": false,
     "start_time": "2022-10-09T23:39:02.594660",
     "status": "completed"
    },
    "tags": []
   },
   "source": [
    "---\n",
    "\n",
    "\n",
    "\n",
    "\n",
    "*Have questions or comments? Visit the [course discussion forum](https://www.kaggle.com/learn/machine-learning-explainability/discussion) to chat with other learners.*"
   ]
  }
 ],
 "metadata": {
  "kernelspec": {
   "display_name": "Python 3",
   "language": "python",
   "name": "python3"
  },
  "language_info": {
   "codemirror_mode": {
    "name": "ipython",
    "version": 3
   },
   "file_extension": ".py",
   "mimetype": "text/x-python",
   "name": "python",
   "nbconvert_exporter": "python",
   "pygments_lexer": "ipython3",
   "version": "3.7.12"
  },
  "papermill": {
   "default_parameters": {},
   "duration": 13.790066,
   "end_time": "2022-10-09T23:39:03.437015",
   "environment_variables": {},
   "exception": null,
   "input_path": "__notebook__.ipynb",
   "output_path": "__notebook__.ipynb",
   "parameters": {},
   "start_time": "2022-10-09T23:38:49.646949",
   "version": "2.3.4"
  }
 },
 "nbformat": 4,
 "nbformat_minor": 5
}
