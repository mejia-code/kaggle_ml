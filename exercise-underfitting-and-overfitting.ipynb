{
 "cells": [
  {
   "cell_type": "markdown",
   "id": "1330bd1f",
   "metadata": {
    "papermill": {
     "duration": 0.004087,
     "end_time": "2022-10-02T05:11:53.220446",
     "exception": false,
     "start_time": "2022-10-02T05:11:53.216359",
     "status": "completed"
    },
    "tags": []
   },
   "source": [
    "**This notebook is an exercise in the [Introduction to Machine Learning](https://www.kaggle.com/learn/intro-to-machine-learning) course.  You can reference the tutorial at [this link](https://www.kaggle.com/dansbecker/underfitting-and-overfitting).**\n",
    "\n",
    "---\n"
   ]
  },
  {
   "cell_type": "markdown",
   "id": "b94868da",
   "metadata": {
    "papermill": {
     "duration": 0.00265,
     "end_time": "2022-10-02T05:11:53.226394",
     "exception": false,
     "start_time": "2022-10-02T05:11:53.223744",
     "status": "completed"
    },
    "tags": []
   },
   "source": [
    "## Recap\n",
    "You've built your first model, and now it's time to optimize the size of the tree to make better predictions. Run this cell to set up your coding environment where the previous step left off."
   ]
  },
  {
   "cell_type": "code",
   "execution_count": 1,
   "id": "9fc13807",
   "metadata": {
    "execution": {
     "iopub.execute_input": "2022-10-02T05:11:53.234961Z",
     "iopub.status.busy": "2022-10-02T05:11:53.233964Z",
     "iopub.status.idle": "2022-10-02T05:11:54.614226Z",
     "shell.execute_reply": "2022-10-02T05:11:54.613266Z"
    },
    "papermill": {
     "duration": 1.388513,
     "end_time": "2022-10-02T05:11:54.617821",
     "exception": false,
     "start_time": "2022-10-02T05:11:53.229308",
     "status": "completed"
    },
    "tags": []
   },
   "outputs": [
    {
     "name": "stdout",
     "output_type": "stream",
     "text": [
      "Validation MAE: 29,653\n",
      "\n",
      "Setup complete\n"
     ]
    }
   ],
   "source": [
    "# Code you have previously used to load data\n",
    "import pandas as pd\n",
    "from sklearn.metrics import mean_absolute_error\n",
    "from sklearn.model_selection import train_test_split\n",
    "from sklearn.tree import DecisionTreeRegressor\n",
    "\n",
    "\n",
    "# Path of the file to read\n",
    "iowa_file_path = '../input/home-data-for-ml-course/train.csv'\n",
    "\n",
    "home_data = pd.read_csv(iowa_file_path)\n",
    "# Create target object and call it y\n",
    "y = home_data.SalePrice\n",
    "# Create X\n",
    "features = ['LotArea', 'YearBuilt', '1stFlrSF', '2ndFlrSF', 'FullBath', 'BedroomAbvGr', 'TotRmsAbvGrd']\n",
    "X = home_data[features]\n",
    "\n",
    "# Split into validation and training data\n",
    "train_X, val_X, train_y, val_y = train_test_split(X, y, random_state=1)\n",
    "\n",
    "# Specify Model\n",
    "iowa_model = DecisionTreeRegressor(random_state=1)\n",
    "# Fit Model\n",
    "iowa_model.fit(train_X, train_y)\n",
    "\n",
    "# Make validation predictions and calculate mean absolute error\n",
    "val_predictions = iowa_model.predict(val_X)\n",
    "val_mae = mean_absolute_error(val_predictions, val_y)\n",
    "print(\"Validation MAE: {:,.0f}\".format(val_mae))\n",
    "\n",
    "# Set up code checking\n",
    "from learntools.core import binder\n",
    "binder.bind(globals())\n",
    "from learntools.machine_learning.ex5 import *\n",
    "print(\"\\nSetup complete\")"
   ]
  },
  {
   "cell_type": "raw",
   "id": "a7004fde",
   "metadata": {
    "papermill": {
     "duration": 0.002965,
     "end_time": "2022-10-02T05:11:54.624962",
     "exception": false,
     "start_time": "2022-10-02T05:11:54.621997",
     "status": "completed"
    },
    "tags": []
   },
   "source": [
    "def get_mae(max_leaf_nodes, train_X, val_X, train_y, val_y):\n",
    "    model = DecisionTreeRegressor(max_leaf_nodes=max_leaf_nodes, random_state=0)\n",
    "    model.fit(train_X, train_y)\n",
    "    preds_val = model.predict(val_X)\n",
    "    mae = mean_absolute_error(val_y, preds_val)\n",
    "    return(mae)"
   ]
  },
  {
   "cell_type": "markdown",
   "id": "8e20afe9",
   "metadata": {
    "papermill": {
     "duration": 0.002831,
     "end_time": "2022-10-02T05:11:54.630984",
     "exception": false,
     "start_time": "2022-10-02T05:11:54.628153",
     "status": "completed"
    },
    "tags": []
   },
   "source": [
    "## Step 1: Compare Different Tree Sizes\n",
    "Write a loop that tries the following values for *max_leaf_nodes* from a set of possible values.\n",
    "\n",
    "Call the *get_mae* function on each value of max_leaf_nodes. Store the output in some way that allows you to select the value of `max_leaf_nodes` that gives the most accurate model on your data."
   ]
  },
  {
   "cell_type": "code",
   "execution_count": 2,
   "id": "17b9ca04",
   "metadata": {
    "execution": {
     "iopub.execute_input": "2022-10-02T05:11:54.639086Z",
     "iopub.status.busy": "2022-10-02T05:11:54.638414Z",
     "iopub.status.idle": "2022-10-02T05:11:54.650091Z",
     "shell.execute_reply": "2022-10-02T05:11:54.648933Z"
    },
    "papermill": {
     "duration": 0.018409,
     "end_time": "2022-10-02T05:11:54.652383",
     "exception": false,
     "start_time": "2022-10-02T05:11:54.633974",
     "status": "completed"
    },
    "tags": []
   },
   "outputs": [
    {
     "data": {
      "application/javascript": [
       "parent.postMessage({\"jupyterEvent\": \"custom.exercise_interaction\", \"data\": {\"outcomeType\": 4, \"interactionType\": 1, \"questionType\": 1, \"questionId\": \"1_BestTreeSize\", \"learnToolsVersion\": \"0.3.4\", \"valueTowardsCompletion\": 0.0, \"failureMessage\": \"\", \"exceptionClass\": \"\", \"trace\": \"\"}}, \"*\")"
      ],
      "text/plain": [
       "<IPython.core.display.Javascript object>"
      ]
     },
     "metadata": {},
     "output_type": "display_data"
    },
    {
     "data": {
      "text/markdown": [
       "<span style=\"color:#ccaa33\">Check:</span> When you've updated the starter code, `check()` will tell you whether your code is correct. You need to update the code that creates variable `best_tree_size`"
      ],
      "text/plain": [
       "Check: When you've updated the starter code, `check()` will tell you whether your code is correct. You need to update the code that creates variable `best_tree_size`"
      ]
     },
     "metadata": {},
     "output_type": "display_data"
    }
   ],
   "source": [
    "candidate_max_leaf_nodes = [5, 25, 50, 100, 250, 500]\n",
    "# Write loop to find the ideal tree size from candidate_max_leaf_nodes\n",
    "_\n",
    "\n",
    "# Store the best value of max_leaf_nodes (it will be either 5, 25, 50, 100, 250 or 500)\n",
    "best_tree_size = ____\n",
    "\n",
    "# Check your answer\n",
    "step_1.check()"
   ]
  },
  {
   "cell_type": "code",
   "execution_count": 3,
   "id": "99aa7a75",
   "metadata": {
    "execution": {
     "iopub.execute_input": "2022-10-02T05:11:54.660930Z",
     "iopub.status.busy": "2022-10-02T05:11:54.660542Z",
     "iopub.status.idle": "2022-10-02T05:11:54.664638Z",
     "shell.execute_reply": "2022-10-02T05:11:54.663503Z"
    },
    "papermill": {
     "duration": 0.01086,
     "end_time": "2022-10-02T05:11:54.666791",
     "exception": false,
     "start_time": "2022-10-02T05:11:54.655931",
     "status": "completed"
    },
    "tags": []
   },
   "outputs": [],
   "source": [
    "# The lines below will show you a hint or the solution.\n",
    "# step_1.hint() \n",
    "# step_1.solution()"
   ]
  },
  {
   "cell_type": "markdown",
   "id": "e430d34a",
   "metadata": {
    "papermill": {
     "duration": 0.003153,
     "end_time": "2022-10-02T05:11:54.673476",
     "exception": false,
     "start_time": "2022-10-02T05:11:54.670323",
     "status": "completed"
    },
    "tags": []
   },
   "source": [
    "## Step 2: Fit Model Using All Data\n",
    "You know the best tree size. If you were going to deploy this model in practice, you would make it even more accurate by using all of the data and keeping that tree size.  That is, you don't need to hold out the validation data now that you've made all your modeling decisions."
   ]
  },
  {
   "cell_type": "code",
   "execution_count": 4,
   "id": "95c5e293",
   "metadata": {
    "execution": {
     "iopub.execute_input": "2022-10-02T05:11:54.682025Z",
     "iopub.status.busy": "2022-10-02T05:11:54.681653Z",
     "iopub.status.idle": "2022-10-02T05:11:54.691269Z",
     "shell.execute_reply": "2022-10-02T05:11:54.690028Z"
    },
    "papermill": {
     "duration": 0.016919,
     "end_time": "2022-10-02T05:11:54.693862",
     "exception": false,
     "start_time": "2022-10-02T05:11:54.676943",
     "status": "completed"
    },
    "tags": []
   },
   "outputs": [
    {
     "data": {
      "application/javascript": [
       "parent.postMessage({\"jupyterEvent\": \"custom.exercise_interaction\", \"data\": {\"outcomeType\": 2, \"failureMessage\": \"You still need to define the following variables: `final_model`\", \"interactionType\": 1, \"questionType\": 2, \"questionId\": \"2_FitModelWithAllData\", \"learnToolsVersion\": \"0.3.4\", \"valueTowardsCompletion\": 0.0, \"exceptionClass\": \"\", \"trace\": \"\"}}, \"*\")"
      ],
      "text/plain": [
       "<IPython.core.display.Javascript object>"
      ]
     },
     "metadata": {},
     "output_type": "display_data"
    },
    {
     "data": {
      "text/markdown": [
       "<span style=\"color:#cc3333\">Incorrect:</span> You still need to define the following variables: `final_model`"
      ],
      "text/plain": [
       "Incorrect: You still need to define the following variables: `final_model`"
      ]
     },
     "metadata": {},
     "output_type": "display_data"
    }
   ],
   "source": [
    "# Fill in argument to make optimal size and uncomment\n",
    "# final_model = DecisionTreeRegressor(____)\n",
    "\n",
    "# fit the final model and uncomment the next two lines\n",
    "# final_model.fit(____, ____)\n",
    "\n",
    "# Check your answer\n",
    "step_2.check()"
   ]
  },
  {
   "cell_type": "code",
   "execution_count": 5,
   "id": "a647745f",
   "metadata": {
    "execution": {
     "iopub.execute_input": "2022-10-02T05:11:54.703576Z",
     "iopub.status.busy": "2022-10-02T05:11:54.702801Z",
     "iopub.status.idle": "2022-10-02T05:11:54.706921Z",
     "shell.execute_reply": "2022-10-02T05:11:54.706097Z"
    },
    "papermill": {
     "duration": 0.010966,
     "end_time": "2022-10-02T05:11:54.708867",
     "exception": false,
     "start_time": "2022-10-02T05:11:54.697901",
     "status": "completed"
    },
    "tags": []
   },
   "outputs": [],
   "source": [
    "# step_2.hint()\n",
    "# step_2.solution()"
   ]
  },
  {
   "cell_type": "markdown",
   "id": "1f57f298",
   "metadata": {
    "papermill": {
     "duration": 0.003488,
     "end_time": "2022-10-02T05:11:54.716207",
     "exception": false,
     "start_time": "2022-10-02T05:11:54.712719",
     "status": "completed"
    },
    "tags": []
   },
   "source": [
    "You've tuned this model and improved your results. But we are still using Decision Tree models, which are not very sophisticated by modern machine learning standards. In the next step you will learn to use Random Forests to improve your models even more.\n",
    "\n",
    "# Keep Going\n",
    "\n",
    "You are ready for **[Random Forests](https://www.kaggle.com/dansbecker/random-forests).**\n"
   ]
  },
  {
   "cell_type": "markdown",
   "id": "f6ab90f3",
   "metadata": {
    "papermill": {
     "duration": 0.003553,
     "end_time": "2022-10-02T05:11:54.723547",
     "exception": false,
     "start_time": "2022-10-02T05:11:54.719994",
     "status": "completed"
    },
    "tags": []
   },
   "source": [
    "---\n",
    "\n",
    "\n",
    "\n",
    "\n",
    "*Have questions or comments? Visit the [course discussion forum](https://www.kaggle.com/learn/intro-to-machine-learning/discussion) to chat with other learners.*"
   ]
  }
 ],
 "metadata": {
  "kernelspec": {
   "display_name": "Python 3",
   "language": "python",
   "name": "python3"
  },
  "language_info": {
   "codemirror_mode": {
    "name": "ipython",
    "version": 3
   },
   "file_extension": ".py",
   "mimetype": "text/x-python",
   "name": "python",
   "nbconvert_exporter": "python",
   "pygments_lexer": "ipython3",
   "version": "3.7.12"
  },
  "papermill": {
   "default_parameters": {},
   "duration": 11.655313,
   "end_time": "2022-10-02T05:11:55.447995",
   "environment_variables": {},
   "exception": null,
   "input_path": "__notebook__.ipynb",
   "output_path": "__notebook__.ipynb",
   "parameters": {},
   "start_time": "2022-10-02T05:11:43.792682",
   "version": "2.3.4"
  }
 },
 "nbformat": 4,
 "nbformat_minor": 5
}
