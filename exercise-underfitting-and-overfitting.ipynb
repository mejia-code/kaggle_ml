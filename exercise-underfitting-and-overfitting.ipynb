{
 "cells": [
  {
   "cell_type": "markdown",
   "id": "7cc633ef",
   "metadata": {
    "papermill": {
     "duration": 0.00421,
     "end_time": "2022-10-03T01:10:18.174238",
     "exception": false,
     "start_time": "2022-10-03T01:10:18.170028",
     "status": "completed"
    },
    "tags": []
   },
   "source": [
    "**This notebook is an exercise in the [Introduction to Machine Learning](https://www.kaggle.com/learn/intro-to-machine-learning) course.  You can reference the tutorial at [this link](https://www.kaggle.com/dansbecker/underfitting-and-overfitting).**\n",
    "\n",
    "---\n"
   ]
  },
  {
   "cell_type": "markdown",
   "id": "e038ab1f",
   "metadata": {
    "papermill": {
     "duration": 0.002873,
     "end_time": "2022-10-03T01:10:18.180603",
     "exception": false,
     "start_time": "2022-10-03T01:10:18.177730",
     "status": "completed"
    },
    "tags": []
   },
   "source": [
    "## Recap\n",
    "You've built your first model, and now it's time to optimize the size of the tree to make better predictions. Run this cell to set up your coding environment where the previous step left off."
   ]
  },
  {
   "cell_type": "code",
   "execution_count": 1,
   "id": "b38cc5cf",
   "metadata": {
    "execution": {
     "iopub.execute_input": "2022-10-03T01:10:18.188594Z",
     "iopub.status.busy": "2022-10-03T01:10:18.188099Z",
     "iopub.status.idle": "2022-10-03T01:10:19.643710Z",
     "shell.execute_reply": "2022-10-03T01:10:19.642387Z"
    },
    "papermill": {
     "duration": 1.462814,
     "end_time": "2022-10-03T01:10:19.646453",
     "exception": false,
     "start_time": "2022-10-03T01:10:18.183639",
     "status": "completed"
    },
    "tags": []
   },
   "outputs": [
    {
     "name": "stdout",
     "output_type": "stream",
     "text": [
      "Validation MAE: 29,653\n",
      "\n",
      "Setup complete\n"
     ]
    }
   ],
   "source": [
    "# Code you have previously used to load data\n",
    "import pandas as pd\n",
    "from sklearn.metrics import mean_absolute_error\n",
    "from sklearn.model_selection import train_test_split\n",
    "from sklearn.tree import DecisionTreeRegressor\n",
    "\n",
    "\n",
    "# Path of the file to read\n",
    "iowa_file_path = '../input/home-data-for-ml-course/train.csv'\n",
    "\n",
    "home_data = pd.read_csv(iowa_file_path)\n",
    "# Create target object and call it y\n",
    "y = home_data.SalePrice\n",
    "# Create X\n",
    "features = ['LotArea', 'YearBuilt', '1stFlrSF', '2ndFlrSF', 'FullBath', 'BedroomAbvGr', 'TotRmsAbvGrd']\n",
    "X = home_data[features]\n",
    "\n",
    "# Split into validation and training data\n",
    "train_X, val_X, train_y, val_y = train_test_split(X, y, random_state=1)\n",
    "\n",
    "# Specify Model\n",
    "iowa_model = DecisionTreeRegressor(random_state=1)\n",
    "# Fit Model\n",
    "iowa_model.fit(train_X, train_y)\n",
    "\n",
    "# Make validation predictions and calculate mean absolute error\n",
    "val_predictions = iowa_model.predict(val_X)\n",
    "val_mae = mean_absolute_error(val_predictions, val_y)\n",
    "print(\"Validation MAE: {:,.0f}\".format(val_mae))\n",
    "\n",
    "# Set up code checking\n",
    "from learntools.core import binder\n",
    "binder.bind(globals())\n",
    "from learntools.machine_learning.ex5 import *\n",
    "print(\"\\nSetup complete\")"
   ]
  },
  {
   "cell_type": "raw",
   "id": "d9ddc7ee",
   "metadata": {
    "papermill": {
     "duration": 0.002969,
     "end_time": "2022-10-03T01:10:19.652937",
     "exception": false,
     "start_time": "2022-10-03T01:10:19.649968",
     "status": "completed"
    },
    "tags": []
   },
   "source": [
    "def get_mae(max_leaf_nodes, train_X, val_X, train_y, val_y):\n",
    "    model = DecisionTreeRegressor(max_leaf_nodes=max_leaf_nodes, random_state=1)\n",
    "    model.fit(train_X, train_y)\n",
    "    preds_val = model.predict(val_X)\n",
    "    mae = mean_absolute_error(val_y, preds_val)\n",
    "    return(mae)"
   ]
  },
  {
   "cell_type": "markdown",
   "id": "3f4a3769",
   "metadata": {
    "papermill": {
     "duration": 0.002859,
     "end_time": "2022-10-03T01:10:19.658903",
     "exception": false,
     "start_time": "2022-10-03T01:10:19.656044",
     "status": "completed"
    },
    "tags": []
   },
   "source": [
    "## Step 1: Compare Different Tree Sizes\n",
    "Write a loop that tries the following values for *max_leaf_nodes* from a set of possible values.\n",
    "\n",
    "Call the *get_mae* function on each value of max_leaf_nodes. Store the output in some way that allows you to select the value of `max_leaf_nodes` that gives the most accurate model on your data."
   ]
  },
  {
   "cell_type": "code",
   "execution_count": 2,
   "id": "71454d8a",
   "metadata": {
    "execution": {
     "iopub.execute_input": "2022-10-03T01:10:19.667320Z",
     "iopub.status.busy": "2022-10-03T01:10:19.666488Z",
     "iopub.status.idle": "2022-10-03T01:10:19.761094Z",
     "shell.execute_reply": "2022-10-03T01:10:19.759873Z"
    },
    "papermill": {
     "duration": 0.10156,
     "end_time": "2022-10-03T01:10:19.763578",
     "exception": false,
     "start_time": "2022-10-03T01:10:19.662018",
     "status": "completed"
    },
    "tags": []
   },
   "outputs": [
    {
     "name": "stdout",
     "output_type": "stream",
     "text": [
      "Max leaf nodes: 5  \t\t Mean Absolute Error:  35044\n",
      "Max leaf nodes: 25  \t\t Mean Absolute Error:  29016\n",
      "Max leaf nodes: 50  \t\t Mean Absolute Error:  27405\n",
      "Max leaf nodes: 100  \t\t Mean Absolute Error:  27282\n",
      "Max leaf nodes: 250  \t\t Mean Absolute Error:  27893\n",
      "Max leaf nodes: 500  \t\t Mean Absolute Error:  29454\n"
     ]
    },
    {
     "data": {
      "application/javascript": [
       "parent.postMessage({\"jupyterEvent\": \"custom.exercise_interaction\", \"data\": {\"outcomeType\": 1, \"valueTowardsCompletion\": 0.5, \"interactionType\": 1, \"questionType\": 1, \"questionId\": \"1_BestTreeSize\", \"learnToolsVersion\": \"0.3.4\", \"failureMessage\": \"\", \"exceptionClass\": \"\", \"trace\": \"\"}}, \"*\")"
      ],
      "text/plain": [
       "<IPython.core.display.Javascript object>"
      ]
     },
     "metadata": {},
     "output_type": "display_data"
    },
    {
     "data": {
      "text/markdown": [
       "<span style=\"color:#33cc33\">Correct</span>"
      ],
      "text/plain": [
       "Correct"
      ]
     },
     "metadata": {},
     "output_type": "display_data"
    }
   ],
   "source": [
    "candidate_max_leaf_nodes = [5, 25, 50, 100, 250, 500]\n",
    "# Write loop to find the ideal tree size from candidate_max_leaf_nodes\n",
    "for max_leaf_nodes in candidate_max_leaf_nodes:\n",
    "    my_model = DecisionTreeRegressor(max_leaf_nodes=max_leaf_nodes, random_state=0)\n",
    "    my_model.fit(train_X, train_y)\n",
    "    val_predictions = my_model.predict(val_X)\n",
    "    val_mae = mean_absolute_error(val_predictions, val_y)\n",
    "    print(\"Max leaf nodes: %d  \\t\\t Mean Absolute Error:  %d\" %(max_leaf_nodes, val_mae))\n",
    "\n",
    "\n",
    "# Store the best value of max_leaf_nodes (it will be either 5, 25, 50, 100, 250 or 500)\n",
    "\n",
    "# best_tree_size is the candidate_max_leaf_nodes with the lowest MAE    \n",
    "best_tree_size =  min(candidate_max_leaf_nodes, key=lambda x: mean_absolute_error(DecisionTreeRegressor(max_leaf_nodes=x, random_state=0).fit(train_X, train_y).predict(val_X), val_y))\n",
    "\n",
    "\n",
    "# Check your answer\n",
    "step_1.check()"
   ]
  },
  {
   "cell_type": "markdown",
   "id": "130f4a0b",
   "metadata": {
    "papermill": {
     "duration": 0.003124,
     "end_time": "2022-10-03T01:10:19.770347",
     "exception": false,
     "start_time": "2022-10-03T01:10:19.767223",
     "status": "completed"
    },
    "tags": []
   },
   "source": [
    "## Step 2: Fit Model Using All Data\n",
    "You know the best tree size. If you were going to deploy this model in practice, you would make it even more accurate by using all of the data and keeping that tree size.  That is, you don't need to hold out the validation data now that you've made all your modeling decisions."
   ]
  },
  {
   "cell_type": "code",
   "execution_count": 3,
   "id": "7ddd622c",
   "metadata": {
    "execution": {
     "iopub.execute_input": "2022-10-03T01:10:19.779056Z",
     "iopub.status.busy": "2022-10-03T01:10:19.778652Z",
     "iopub.status.idle": "2022-10-03T01:10:19.796617Z",
     "shell.execute_reply": "2022-10-03T01:10:19.795315Z"
    },
    "papermill": {
     "duration": 0.025372,
     "end_time": "2022-10-03T01:10:19.799145",
     "exception": false,
     "start_time": "2022-10-03T01:10:19.773773",
     "status": "completed"
    },
    "tags": []
   },
   "outputs": [
    {
     "data": {
      "application/javascript": [
       "parent.postMessage({\"jupyterEvent\": \"custom.exercise_interaction\", \"data\": {\"outcomeType\": 1, \"valueTowardsCompletion\": 0.5, \"interactionType\": 1, \"questionType\": 2, \"questionId\": \"2_FitModelWithAllData\", \"learnToolsVersion\": \"0.3.4\", \"failureMessage\": \"\", \"exceptionClass\": \"\", \"trace\": \"\"}}, \"*\")"
      ],
      "text/plain": [
       "<IPython.core.display.Javascript object>"
      ]
     },
     "metadata": {},
     "output_type": "display_data"
    },
    {
     "data": {
      "text/markdown": [
       "<span style=\"color:#33cc33\">Correct</span>"
      ],
      "text/plain": [
       "Correct"
      ]
     },
     "metadata": {},
     "output_type": "display_data"
    }
   ],
   "source": [
    "# Fill in argument to make optimal size and uncomment\n",
    "final_model = DecisionTreeRegressor(max_leaf_nodes=best_tree_size, random_state=1)\n",
    "\n",
    "# fit the final model and uncomment the next two lines\n",
    "final_model.fit(X, y)\n",
    "\n",
    "# Check your answer\n",
    "step_2.check()"
   ]
  },
  {
   "cell_type": "code",
   "execution_count": 4,
   "id": "1c0ecb85",
   "metadata": {
    "execution": {
     "iopub.execute_input": "2022-10-03T01:10:19.808453Z",
     "iopub.status.busy": "2022-10-03T01:10:19.808046Z",
     "iopub.status.idle": "2022-10-03T01:10:19.813270Z",
     "shell.execute_reply": "2022-10-03T01:10:19.811980Z"
    },
    "papermill": {
     "duration": 0.01275,
     "end_time": "2022-10-03T01:10:19.815808",
     "exception": false,
     "start_time": "2022-10-03T01:10:19.803058",
     "status": "completed"
    },
    "tags": []
   },
   "outputs": [],
   "source": [
    "# step_2.hint()\n",
    "# step_2.solution()"
   ]
  },
  {
   "cell_type": "markdown",
   "id": "28b030bc",
   "metadata": {
    "papermill": {
     "duration": 0.003614,
     "end_time": "2022-10-03T01:10:19.823596",
     "exception": false,
     "start_time": "2022-10-03T01:10:19.819982",
     "status": "completed"
    },
    "tags": []
   },
   "source": [
    "You've tuned this model and improved your results. But we are still using Decision Tree models, which are not very sophisticated by modern machine learning standards. In the next step you will learn to use Random Forests to improve your models even more.\n",
    "\n",
    "# Keep Going\n",
    "\n",
    "You are ready for **[Random Forests](https://www.kaggle.com/dansbecker/random-forests).**\n"
   ]
  },
  {
   "cell_type": "markdown",
   "id": "b6accf01",
   "metadata": {
    "papermill": {
     "duration": 0.003507,
     "end_time": "2022-10-03T01:10:19.830933",
     "exception": false,
     "start_time": "2022-10-03T01:10:19.827426",
     "status": "completed"
    },
    "tags": []
   },
   "source": [
    "---\n",
    "\n",
    "\n",
    "\n",
    "\n",
    "*Have questions or comments? Visit the [course discussion forum](https://www.kaggle.com/learn/intro-to-machine-learning/discussion) to chat with other learners.*"
   ]
  }
 ],
 "metadata": {
  "kernelspec": {
   "display_name": "Python 3",
   "language": "python",
   "name": "python3"
  },
  "language_info": {
   "codemirror_mode": {
    "name": "ipython",
    "version": 3
   },
   "file_extension": ".py",
   "mimetype": "text/x-python",
   "name": "python",
   "nbconvert_exporter": "python",
   "pygments_lexer": "ipython3",
   "version": "3.7.12"
  },
  "papermill": {
   "default_parameters": {},
   "duration": 14.250645,
   "end_time": "2022-10-03T01:10:22.957001",
   "environment_variables": {},
   "exception": null,
   "input_path": "__notebook__.ipynb",
   "output_path": "__notebook__.ipynb",
   "parameters": {},
   "start_time": "2022-10-03T01:10:08.706356",
   "version": "2.3.4"
  }
 },
 "nbformat": 4,
 "nbformat_minor": 5
}
